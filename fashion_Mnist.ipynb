{
  "nbformat": 4,
  "nbformat_minor": 0,
  "metadata": {
    "colab": {
      "provenance": [],
      "authorship_tag": "ABX9TyNUahUGvDuLg+i+x8ArgVfl",
      "include_colab_link": true
    },
    "kernelspec": {
      "name": "python3",
      "display_name": "Python 3"
    },
    "language_info": {
      "name": "python"
    }
  },
  "cells": [
    {
      "cell_type": "markdown",
      "metadata": {
        "id": "view-in-github",
        "colab_type": "text"
      },
      "source": [
        "<a href=\"https://colab.research.google.com/github/TuanLBT/AI_learning/blob/main/fashion_Mnist.ipynb\" target=\"_parent\"><img src=\"https://colab.research.google.com/assets/colab-badge.svg\" alt=\"Open In Colab\"/></a>"
      ]
    },
    {
      "cell_type": "markdown",
      "source": [
        "import thư viện"
      ],
      "metadata": {
        "id": "VLSsBc2cipYw"
      }
    },
    {
      "cell_type": "code",
      "source": [
        "from keras.datasets import fashion_mnist\n",
        "from keras.models import Sequential\n",
        "from keras.layers import Dense\n",
        "(x_trains,y_trains), (x_tests,y_tests) = fashion_mnist.load_data()\n",
        "\n",
        "from keras.utils import to_categorical #lệnh chuyển qua hot endcoding\n",
        "\n",
        "from keras.utils import load_img\n",
        "from tensorflow.keras.utils import img_to_array\n",
        "import matplotlib.pyplot as plt\n",
        "import numpy as np\n",
        "\n",
        "from keras.models import load_model"
      ],
      "metadata": {
        "colab": {
          "base_uri": "https://localhost:8080/"
        },
        "id": "3yk2S82WiqtI",
        "outputId": "166feaae-fab9-4218-acd1-a650ec319a04"
      },
      "execution_count": 1,
      "outputs": [
        {
          "output_type": "stream",
          "name": "stdout",
          "text": [
            "Downloading data from https://storage.googleapis.com/tensorflow/tf-keras-datasets/train-labels-idx1-ubyte.gz\n",
            "29515/29515 [==============================] - 0s 0us/step\n",
            "Downloading data from https://storage.googleapis.com/tensorflow/tf-keras-datasets/train-images-idx3-ubyte.gz\n",
            "26421880/26421880 [==============================] - 0s 0us/step\n",
            "Downloading data from https://storage.googleapis.com/tensorflow/tf-keras-datasets/t10k-labels-idx1-ubyte.gz\n",
            "5148/5148 [==============================] - 0s 0us/step\n",
            "Downloading data from https://storage.googleapis.com/tensorflow/tf-keras-datasets/t10k-images-idx3-ubyte.gz\n",
            "4422102/4422102 [==============================] - 0s 0us/step\n"
          ]
        }
      ]
    },
    {
      "cell_type": "markdown",
      "source": [
        "Kiểm tra kích thước "
      ],
      "metadata": {
        "id": "jNYUAIwZi7iA"
      }
    },
    {
      "cell_type": "code",
      "source": [
        "x_trains.shape"
      ],
      "metadata": {
        "colab": {
          "base_uri": "https://localhost:8080/"
        },
        "id": "k3nCScZai_NB",
        "outputId": "a47ad3f9-9a70-41bd-e8fd-b5dd9938bf26"
      },
      "execution_count": 2,
      "outputs": [
        {
          "output_type": "execute_result",
          "data": {
            "text/plain": [
              "(60000, 28, 28)"
            ]
          },
          "metadata": {},
          "execution_count": 2
        }
      ]
    },
    {
      "cell_type": "code",
      "source": [
        "y_trains.shape"
      ],
      "metadata": {
        "colab": {
          "base_uri": "https://localhost:8080/"
        },
        "id": "tsKL-GNtjAsY",
        "outputId": "8fc909c3-f7e1-46c4-f132-26ec6e210ab6"
      },
      "execution_count": 3,
      "outputs": [
        {
          "output_type": "execute_result",
          "data": {
            "text/plain": [
              "(60000,)"
            ]
          },
          "metadata": {},
          "execution_count": 3
        }
      ]
    },
    {
      "cell_type": "code",
      "source": [
        "x_tests.shape"
      ],
      "metadata": {
        "colab": {
          "base_uri": "https://localhost:8080/"
        },
        "id": "Gy9Tqv9vjC-I",
        "outputId": "c99d3824-501f-40fe-b545-47222549eea6"
      },
      "execution_count": 4,
      "outputs": [
        {
          "output_type": "execute_result",
          "data": {
            "text/plain": [
              "(10000, 28, 28)"
            ]
          },
          "metadata": {},
          "execution_count": 4
        }
      ]
    },
    {
      "cell_type": "code",
      "source": [
        "y_tests.shape"
      ],
      "metadata": {
        "colab": {
          "base_uri": "https://localhost:8080/"
        },
        "id": "vKflpa4OjER6",
        "outputId": "75aca65d-6902-44d6-ea00-7ebf669cdd6e"
      },
      "execution_count": 5,
      "outputs": [
        {
          "output_type": "execute_result",
          "data": {
            "text/plain": [
              "(10000,)"
            ]
          },
          "metadata": {},
          "execution_count": 5
        }
      ]
    },
    {
      "cell_type": "markdown",
      "source": [
        "Tạo mạng mô hình"
      ],
      "metadata": {
        "id": "dik7R1UIjI1A"
      }
    },
    {
      "cell_type": "code",
      "source": [
        "model = Sequential() #anh gom 28x28 (784 dau vao)\n",
        "model.add(Dense(512,input_shape=(784,),activation='relu')) #lop dau tien la relu, thu 2 la softmax\n",
        "model.add(Dense(10,activation='softmax')) #hàm để phân biệt 0 với 1 (gg thêm) chuyển về ảnh xám\n",
        "#vì mô hình fashion_mnist có 10 class, nên đầu ra có 10 mức phân loại\n",
        "model.summary()"
      ],
      "metadata": {
        "colab": {
          "base_uri": "https://localhost:8080/"
        },
        "id": "HRBiojgfjK4Z",
        "outputId": "6a944610-0240-4be1-9037-9c753d8afb6a"
      },
      "execution_count": 31,
      "outputs": [
        {
          "output_type": "stream",
          "name": "stdout",
          "text": [
            "Model: \"sequential_2\"\n",
            "_________________________________________________________________\n",
            " Layer (type)                Output Shape              Param #   \n",
            "=================================================================\n",
            " dense_4 (Dense)             (None, 512)               401920    \n",
            "                                                                 \n",
            " dense_5 (Dense)             (None, 10)                5130      \n",
            "                                                                 \n",
            "=================================================================\n",
            "Total params: 407,050\n",
            "Trainable params: 407,050\n",
            "Non-trainable params: 0\n",
            "_________________________________________________________________\n"
          ]
        }
      ]
    },
    {
      "cell_type": "markdown",
      "source": [
        "Xử lí dữ liệu"
      ],
      "metadata": {
        "id": "v_oW04phjeeB"
      }
    },
    {
      "cell_type": "code",
      "source": [
        "#scale lại dữ liệu của x_train\n",
        "x_trains = x_trains.reshape([60000,28*28]) #fashion_mnist gom cac hình ảnh chứa grayscale\n",
        "#nó là số nguyên(int) nên phải chuyển sang dạng float\n",
        "x_train = x_trains.astype('float32')/255 "
      ],
      "metadata": {
        "id": "UUpVtDTqjgKp"
      },
      "execution_count": 32,
      "outputs": []
    },
    {
      "cell_type": "code",
      "source": [
        "#scale lại dữ liệu của x_test\n",
        "x_tests = x_tests.reshape([10000,28*28])\n",
        "#nó là số nguyên(int) nên phải chuyển sang dạng float\n",
        "x_test = x_tests.astype('float32')/255 "
      ],
      "metadata": {
        "id": "RYWCGUrXjith"
      },
      "execution_count": 33,
      "outputs": []
    },
    {
      "cell_type": "code",
      "source": [
        "#chuyeenr sang encoding het\n",
        "y_train = to_categorical(y_trains,10) \n",
        "y_test = to_categorical(y_tests,10)"
      ],
      "metadata": {
        "id": "QhkpSzebjkOh"
      },
      "execution_count": 34,
      "outputs": []
    },
    {
      "cell_type": "code",
      "source": [
        "y_train.shape"
      ],
      "metadata": {
        "colab": {
          "base_uri": "https://localhost:8080/"
        },
        "id": "Tz8QERs7kMGJ",
        "outputId": "5a9c59c4-bc1d-4005-d59b-e6ac7da018f3"
      },
      "execution_count": 35,
      "outputs": [
        {
          "output_type": "execute_result",
          "data": {
            "text/plain": [
              "(60000, 10)"
            ]
          },
          "metadata": {},
          "execution_count": 35
        }
      ]
    },
    {
      "cell_type": "code",
      "source": [
        "x_train.shape"
      ],
      "metadata": {
        "colab": {
          "base_uri": "https://localhost:8080/"
        },
        "id": "lMBnZfCTkOgq",
        "outputId": "dfa6aa0b-1818-4d34-cb32-eec1a334c409"
      },
      "execution_count": 36,
      "outputs": [
        {
          "output_type": "execute_result",
          "data": {
            "text/plain": [
              "(60000, 784)"
            ]
          },
          "metadata": {},
          "execution_count": 36
        }
      ]
    },
    {
      "cell_type": "markdown",
      "source": [
        "Biên dịch"
      ],
      "metadata": {
        "id": "JYCeWXW6kUBy"
      }
    },
    {
      "cell_type": "code",
      "source": [
        "model.compile(optimizer='rmsprop',loss='categorical_crossentropy',metrics = ['accuracy']) #bộ tối ưu cho đầu ra là phân loại(RMSprop). mất mát sư dụng categlanal_cross.. (cũng là phân loại)\n",
        "model.fit(x_train,y_train,epochs=10,batch_size=128) #kích thước học 1 lần ngẫu nhiên 128 thôi, ko học hết, học 1o lần, \n",
        "test_loss,test_acc=model.evaluate(x_test,y_test)\n",
        "print('tét_accuracy',test_acc)\n",
        "print('tét_loss',test_loss)"
      ],
      "metadata": {
        "colab": {
          "base_uri": "https://localhost:8080/"
        },
        "id": "2D8_a1TKkVGa",
        "outputId": "890b44c7-5758-45aa-bb6f-4bf16963a99a"
      },
      "execution_count": 37,
      "outputs": [
        {
          "output_type": "stream",
          "name": "stdout",
          "text": [
            "Epoch 1/10\n",
            "469/469 [==============================] - 4s 8ms/step - loss: 0.5614 - accuracy: 0.8019\n",
            "Epoch 2/10\n",
            "469/469 [==============================] - 3s 7ms/step - loss: 0.3864 - accuracy: 0.8582\n",
            "Epoch 3/10\n",
            "469/469 [==============================] - 3s 7ms/step - loss: 0.3416 - accuracy: 0.8746\n",
            "Epoch 4/10\n",
            "469/469 [==============================] - 6s 12ms/step - loss: 0.3147 - accuracy: 0.8837\n",
            "Epoch 5/10\n",
            "469/469 [==============================] - 3s 7ms/step - loss: 0.2940 - accuracy: 0.8907\n",
            "Epoch 6/10\n",
            "469/469 [==============================] - 3s 7ms/step - loss: 0.2803 - accuracy: 0.8967\n",
            "Epoch 7/10\n",
            "469/469 [==============================] - 4s 9ms/step - loss: 0.2652 - accuracy: 0.9018\n",
            "Epoch 8/10\n",
            "469/469 [==============================] - 3s 7ms/step - loss: 0.2552 - accuracy: 0.9057\n",
            "Epoch 9/10\n",
            "469/469 [==============================] - 3s 7ms/step - loss: 0.2445 - accuracy: 0.9091\n",
            "Epoch 10/10\n",
            "469/469 [==============================] - 4s 9ms/step - loss: 0.2346 - accuracy: 0.9126\n",
            "313/313 [==============================] - 1s 2ms/step - loss: 0.3281 - accuracy: 0.8827\n",
            "tét_accuracy 0.8827000260353088\n",
            "tét_loss 0.3281017541885376\n"
          ]
        }
      ]
    },
    {
      "cell_type": "code",
      "source": [
        "from PIL import Image\n",
        "\n",
        "img = Image.open('sneaker_gray.jpg')\n",
        "print(img.size)"
      ],
      "metadata": {
        "colab": {
          "base_uri": "https://localhost:8080/"
        },
        "id": "a6_UDNnrtY7O",
        "outputId": "b8feb4d7-1d11-43dd-e115-7fe1bc98bda3"
      },
      "execution_count": 54,
      "outputs": [
        {
          "output_type": "stream",
          "name": "stdout",
          "text": [
            "(28, 20)\n"
          ]
        }
      ]
    },
    {
      "cell_type": "markdown",
      "source": [
        "Test mô hình"
      ],
      "metadata": {
        "id": "UyVD5XrYk79K"
      }
    },
    {
      "cell_type": "code",
      "source": [
        "#test mo hinh\n",
        "#lưu ý là mô hình này dựa trên dữ liệu học là grayscale, nên đưa ảnh màu vào sẽ lỗi\n",
        "\n",
        "from keras.utils import load_img\n",
        "from tensorflow.keras.utils import img_to_array\n",
        "import matplotlib.pyplot as plt\n",
        "import numpy as np\n",
        "img = load_img('dress.jpg', color_mode='grayscale', target_size=(28, 28))\n",
        "plt.imshow(img)\n",
        "img = img_to_array(img)\n",
        "img = np.expand_dims(img, axis=0)\n",
        "img = img.reshape(1,-1)\n",
        "img = img.astype('float32')\n",
        "img = img/255\n",
        "np.argmax(model.predict(img),axis=-1)"
      ],
      "metadata": {
        "colab": {
          "base_uri": "https://localhost:8080/",
          "height": 465
        },
        "id": "BlGxNLs-k-i6",
        "outputId": "12d2a384-88c0-4fa9-b446-e38c99fde0b9"
      },
      "execution_count": 62,
      "outputs": [
        {
          "output_type": "stream",
          "name": "stdout",
          "text": [
            "1/1 [==============================] - 0s 20ms/step\n"
          ]
        },
        {
          "output_type": "execute_result",
          "data": {
            "text/plain": [
              "array([6])"
            ]
          },
          "metadata": {},
          "execution_count": 62
        },
        {
          "output_type": "display_data",
          "data": {
            "text/plain": [
              "<Figure size 640x480 with 1 Axes>"
            ],
            "image/png": "[encoded data removed]"
          },
          "metadata": {}
        }
      ]
    }
  ]
}