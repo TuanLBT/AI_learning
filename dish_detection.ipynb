{
  "nbformat": 4,
  "nbformat_minor": 0,
  "metadata": {
    "colab": {
      "provenance": [],
      "mount_file_id": "https://github.com/TuanLBT/AI_learning/blob/main/dish_detection.ipynb",
      "authorship_tag": "ABX9TyOgkekwmVDmQNJaJZRaNRJ2",
      "include_colab_link": true
    },
    "kernelspec": {
      "name": "python3",
      "display_name": "Python 3"
    },
    "language_info": {
      "name": "python"
    },
    "accelerator": "GPU",
    "gpuClass": "standard"
  },
  "cells": [
    {
      "cell_type": "markdown",
      "metadata": {
        "id": "view-in-github",
        "colab_type": "text"
      },
      "source": [
        "<a href=\"https://colab.research.google.com/github/TuanLBT/AI_learning/blob/main/dish_detection.ipynb\" target=\"_parent\"><img src=\"https://colab.research.google.com/assets/colab-badge.svg\" alt=\"Open In Colab\"/></a>"
      ]
    },
    {
      "cell_type": "markdown",
      "source": [
        "Tạo set data (chưa split)"
      ],
      "metadata": {
        "id": "K1r_dNuDtQRG"
      }
    },
    {
      "cell_type": "code",
      "execution_count": 1,
      "metadata": {
        "id": "SVgnsIbsHpEV"
      },
      "outputs": [],
      "source": [
        "from os import listdir\n",
        "from numpy import asarray\n",
        "from numpy import save\n",
        "from keras.utils.image_utils import img_to_array\n",
        "from keras.utils import load_img"
      ]
    },
    {
      "cell_type": "code",
      "source": [
        "folder='/content/drive/MyDrive/dish_tonghop/'"
      ],
      "metadata": {
        "id": "Nzgt6HZGI2jY"
      },
      "execution_count": 2,
      "outputs": []
    },
    {
      "cell_type": "code",
      "source": [
        "photos,labels = list(),list()\n",
        "for file in listdir(folder):\n",
        "  output = 0.0\n",
        "  if file.startswith('banhchung'):\n",
        "    output=1.0\n",
        "  if file.startswith('banhxeo'):\n",
        "    output=2.0\n",
        "  if file.startswith('bunbo'):\n",
        "    output=3.0\n",
        "  if file.startswith('cakho'):\n",
        "    output=4.0\n",
        "  if file.startswith('canhcachua'):\n",
        "    output=5.0\n",
        "  if file.startswith('goicuon'):\n",
        "    output=6.0\n",
        "  if file.startswith('ngo'):\n",
        "    output=7.0\n",
        "  if file.startswith('raumuong'):\n",
        "    output=8.0\n",
        "  if file.startswith('xucxich'):\n",
        "    output=9.0\n",
        "  if file.startswith('caphao'):\n",
        "    output=10.0\n",
        "  photo = load_img(folder+file,target_size=(100,100))\n",
        "  photo = img_to_array(photo)\n",
        "  photos.append(photo)\n",
        "  labels.append(output)\n"
      ],
      "metadata": {
        "id": "D-y1Ca_9I9NP"
      },
      "execution_count": 3,
      "outputs": []
    },
    {
      "cell_type": "code",
      "source": [
        "photos = asarray(photos)\n",
        "labels = asarray(labels)\n",
        "save('/content/drive/MyDrive/photo_dish.npy',photos)\n",
        "save('/content/drive/MyDrive/label_dish.npy',labels)"
      ],
      "metadata": {
        "id": "RDRBzahFMlZZ"
      },
      "execution_count": 4,
      "outputs": []
    },
    {
      "cell_type": "code",
      "source": [
        "photos.shape"
      ],
      "metadata": {
        "colab": {
          "base_uri": "https://localhost:8080/"
        },
        "id": "tdlxj0FwtrHW",
        "outputId": "3b55a815-2ed7-4003-db82-a00dc6d8b216"
      },
      "execution_count": 5,
      "outputs": [
        {
          "output_type": "execute_result",
          "data": {
            "text/plain": [
              "(1988, 100, 100, 3)"
            ]
          },
          "metadata": {},
          "execution_count": 5
        }
      ]
    },
    {
      "cell_type": "code",
      "source": [
        "labels.shape"
      ],
      "metadata": {
        "id": "qW5oBRWltyyO",
        "outputId": "57695262-3128-4671-9dc1-56606340617e",
        "colab": {
          "base_uri": "https://localhost:8080/"
        }
      },
      "execution_count": 6,
      "outputs": [
        {
          "output_type": "execute_result",
          "data": {
            "text/plain": [
              "(1988,)"
            ]
          },
          "metadata": {},
          "execution_count": 6
        }
      ]
    },
    {
      "cell_type": "markdown",
      "source": [
        "split data thành 70% train, 30% test"
      ],
      "metadata": {
        "id": "EbOrabFFONmq"
      }
    },
    {
      "cell_type": "code",
      "source": [
        "from sklearn.model_selection import train_test_split"
      ],
      "metadata": {
        "id": "9NLMtinNJI8V"
      },
      "execution_count": 7,
      "outputs": []
    },
    {
      "cell_type": "code",
      "source": [
        "train_x, test_x, train_y,  test_y = train_test_split(photos,labels, test_size=0.3, train_size=0.7)\n",
        "#test_x, test_y = train_test_split(photos,labels, test_size=0.3)"
      ],
      "metadata": {
        "id": "kx--CED_JMyd"
      },
      "execution_count": 8,
      "outputs": []
    },
    {
      "cell_type": "code",
      "source": [
        "train_x.shape"
      ],
      "metadata": {
        "colab": {
          "base_uri": "https://localhost:8080/"
        },
        "id": "pExn-uhYOCD8",
        "outputId": "41b24d86-d313-409a-cccf-48cba03690bc"
      },
      "execution_count": 9,
      "outputs": [
        {
          "output_type": "execute_result",
          "data": {
            "text/plain": [
              "(1391, 100, 100, 3)"
            ]
          },
          "metadata": {},
          "execution_count": 9
        }
      ]
    },
    {
      "cell_type": "code",
      "source": [
        "test_x.shape"
      ],
      "metadata": {
        "colab": {
          "base_uri": "https://localhost:8080/"
        },
        "id": "6tAIHXolOGBp",
        "outputId": "54dcf4cd-35e0-4e37-f078-461d93c70f64"
      },
      "execution_count": 10,
      "outputs": [
        {
          "output_type": "execute_result",
          "data": {
            "text/plain": [
              "(597, 100, 100, 3)"
            ]
          },
          "metadata": {},
          "execution_count": 10
        }
      ]
    },
    {
      "cell_type": "markdown",
      "source": [
        "scale lại data"
      ],
      "metadata": {
        "id": "fwvDrbndOStr"
      }
    },
    {
      "cell_type": "code",
      "source": [
        "#train_x = train_x.reshape([1391,100,100,3])\n",
        "train_x = train_x.astype('float32')\n",
        "train_x = train_x/255"
      ],
      "metadata": {
        "id": "hz2YPqf_OWXT"
      },
      "execution_count": 11,
      "outputs": []
    },
    {
      "cell_type": "code",
      "source": [
        "#test_x = test_x.reshape([597,100,100,3])\n",
        "test_x = test_x.astype('float32')\n",
        "test_x = test_x/255"
      ],
      "metadata": {
        "id": "8VDXTIw7OaZC"
      },
      "execution_count": 12,
      "outputs": []
    },
    {
      "cell_type": "code",
      "source": [
        "from keras.utils import to_categorical\n",
        "y_train = to_categorical(train_y)\n",
        "y_test = to_categorical(test_y)"
      ],
      "metadata": {
        "id": "FlQmIW8ePkhL"
      },
      "execution_count": 13,
      "outputs": []
    },
    {
      "cell_type": "code",
      "source": [
        "train_x.shape"
      ],
      "metadata": {
        "colab": {
          "base_uri": "https://localhost:8080/"
        },
        "id": "1gJ9fXuDTBn9",
        "outputId": "9e629da4-a13d-4b9e-dbc5-0b849de340df"
      },
      "execution_count": 14,
      "outputs": [
        {
          "output_type": "execute_result",
          "data": {
            "text/plain": [
              "(1391, 100, 100, 3)"
            ]
          },
          "metadata": {},
          "execution_count": 14
        }
      ]
    },
    {
      "cell_type": "code",
      "source": [
        "y_train.shape"
      ],
      "metadata": {
        "colab": {
          "base_uri": "https://localhost:8080/"
        },
        "id": "_PdikE-aTE_7",
        "outputId": "fba912fa-2386-4b45-f428-9f5317c17f8b"
      },
      "execution_count": 15,
      "outputs": [
        {
          "output_type": "execute_result",
          "data": {
            "text/plain": [
              "(1391, 11)"
            ]
          },
          "metadata": {},
          "execution_count": 15
        }
      ]
    },
    {
      "cell_type": "markdown",
      "source": [
        "tạo mô hình CNN"
      ],
      "metadata": {
        "id": "jNa2fSJPOdPq"
      }
    },
    {
      "cell_type": "code",
      "source": [
        "from keras import Sequential,Model,Input\n",
        "from keras.layers import Dense,Flatten,Dropout, Conv2D, MaxPooling2D,Normalization\n",
        "from keras.optimizers import Adam"
      ],
      "metadata": {
        "id": "mHcJNJgSOt9r"
      },
      "execution_count": 16,
      "outputs": []
    },
    {
      "cell_type": "code",
      "source": [
        "batch_size = 100\n",
        "epochs = 10\n",
        "classes = 11"
      ],
      "metadata": {
        "id": "7drewKnhOw6T"
      },
      "execution_count": 17,
      "outputs": []
    },
    {
      "cell_type": "code",
      "source": [
        "model = Sequential()\n",
        "model.add(Conv2D(32,kernel_size=(3,3),activation='linear',input_shape=(100,100,3),padding='same'))"
      ],
      "metadata": {
        "id": "Od6yhEvDO03q"
      },
      "execution_count": 18,
      "outputs": []
    },
    {
      "cell_type": "code",
      "source": [
        "from keras.layers import LeakyReLU\n",
        "model.add(LeakyReLU(alpha=0.1))\n",
        "model.add(MaxPooling2D((2,2),padding='same'))\n",
        "\n",
        "model.add(Conv2D(64,(3,3),activation='linear',padding='same'))\n",
        "model.add(LeakyReLU(alpha=0.1))\n",
        "model.add(MaxPooling2D((2,2),padding='same'))\n",
        "\n",
        "model.add(Conv2D(128,(3,3),activation='linear',padding='same'))\n",
        "model.add(LeakyReLU(alpha=0.1))\n",
        "model.add(MaxPooling2D((2,2),padding='same'))"
      ],
      "metadata": {
        "id": "zBqNVniHO9Ji"
      },
      "execution_count": 19,
      "outputs": []
    },
    {
      "cell_type": "code",
      "source": [
        "model.add(Flatten())"
      ],
      "metadata": {
        "id": "vE6RvPrOPZwT"
      },
      "execution_count": 20,
      "outputs": []
    },
    {
      "cell_type": "code",
      "source": [
        "model.add(Dense(700,activation='linear'))\n",
        "model.add(Dropout(0.5))\n",
        "model.add(Dense(classes,activation='softmax'))\n"
      ],
      "metadata": {
        "id": "KHE_GV4NPa-i"
      },
      "execution_count": 21,
      "outputs": []
    },
    {
      "cell_type": "code",
      "source": [
        "model.summary()"
      ],
      "metadata": {
        "colab": {
          "base_uri": "https://localhost:8080/"
        },
        "id": "ZDOpoRWU09K_",
        "outputId": "03229b40-f041-49cb-b82e-09ab41e4a498"
      },
      "execution_count": 22,
      "outputs": [
        {
          "output_type": "stream",
          "name": "stdout",
          "text": [
            "Model: \"sequential\"\n",
            "_________________________________________________________________\n",
            " Layer (type)                Output Shape              Param #   \n",
            "=================================================================\n",
            " conv2d (Conv2D)             (None, 100, 100, 32)      896       \n",
            "                                                                 \n",
            " leaky_re_lu (LeakyReLU)     (None, 100, 100, 32)      0         \n",
            "                                                                 \n",
            " max_pooling2d (MaxPooling2D  (None, 50, 50, 32)       0         \n",
            " )                                                               \n",
            "                                                                 \n",
            " conv2d_1 (Conv2D)           (None, 50, 50, 64)        18496     \n",
            "                                                                 \n",
            " leaky_re_lu_1 (LeakyReLU)   (None, 50, 50, 64)        0         \n",
            "                                                                 \n",
            " max_pooling2d_1 (MaxPooling  (None, 25, 25, 64)       0         \n",
            " 2D)                                                             \n",
            "                                                                 \n",
            " conv2d_2 (Conv2D)           (None, 25, 25, 128)       73856     \n",
            "                                                                 \n",
            " leaky_re_lu_2 (LeakyReLU)   (None, 25, 25, 128)       0         \n",
            "                                                                 \n",
            " max_pooling2d_2 (MaxPooling  (None, 13, 13, 128)      0         \n",
            " 2D)                                                             \n",
            "                                                                 \n",
            " flatten (Flatten)           (None, 21632)             0         \n",
            "                                                                 \n",
            " dense (Dense)               (None, 700)               15143100  \n",
            "                                                                 \n",
            " dropout (Dropout)           (None, 700)               0         \n",
            "                                                                 \n",
            " dense_1 (Dense)             (None, 11)                7711      \n",
            "                                                                 \n",
            "=================================================================\n",
            "Total params: 15,244,059\n",
            "Trainable params: 15,244,059\n",
            "Non-trainable params: 0\n",
            "_________________________________________________________________\n"
          ]
        }
      ]
    },
    {
      "cell_type": "code",
      "source": [
        "from keras.backend import categorical_crossentropy\n",
        "model.compile(loss='categorical_crossentropy', optimizer=Adam(),metrics =['accuracy'])"
      ],
      "metadata": {
        "id": "OcazCLB6Pqki"
      },
      "execution_count": 23,
      "outputs": []
    },
    {
      "cell_type": "code",
      "source": [
        "train = model.fit(train_x,y_train,batch_size=64,epochs=15,verbose=1)\n",
        "test_loss, test_acc = model.evaluate(test_x, y_test)\n",
        "print(\"Accuracy:\", test_acc)\n",
        "print('Loss:', test_loss)"
      ],
      "metadata": {
        "colab": {
          "base_uri": "https://localhost:8080/"
        },
        "id": "xuYtGZW3Pt6a",
        "outputId": "9ca0b1fb-a49c-4ce6-b36e-2a444bdd71f5"
      },
      "execution_count": 24,
      "outputs": [
        {
          "output_type": "stream",
          "name": "stdout",
          "text": [
            "Epoch 1/15\n",
            "22/22 [==============================] - 56s 3s/step - loss: 3.1036 - accuracy: 0.2121\n",
            "Epoch 2/15\n",
            "22/22 [==============================] - 45s 2s/step - loss: 1.6866 - accuracy: 0.4342\n",
            "Epoch 3/15\n",
            "22/22 [==============================] - 45s 2s/step - loss: 1.3290 - accuracy: 0.5471\n",
            "Epoch 4/15\n",
            "22/22 [==============================] - 46s 2s/step - loss: 1.0496 - accuracy: 0.6614\n",
            "Epoch 5/15\n",
            "22/22 [==============================] - 45s 2s/step - loss: 0.8404 - accuracy: 0.7354\n",
            "Epoch 6/15\n",
            "22/22 [==============================] - 45s 2s/step - loss: 0.6147 - accuracy: 0.8102\n",
            "Epoch 7/15\n",
            "22/22 [==============================] - 45s 2s/step - loss: 0.4790 - accuracy: 0.8584\n",
            "Epoch 8/15\n",
            "22/22 [==============================] - 46s 2s/step - loss: 0.3632 - accuracy: 0.8879\n",
            "Epoch 9/15\n",
            "22/22 [==============================] - 46s 2s/step - loss: 0.2192 - accuracy: 0.9403\n",
            "Epoch 10/15\n",
            "22/22 [==============================] - 45s 2s/step - loss: 0.1179 - accuracy: 0.9684\n",
            "Epoch 11/15\n",
            "22/22 [==============================] - 50s 2s/step - loss: 0.0869 - accuracy: 0.9770\n",
            "Epoch 12/15\n",
            "22/22 [==============================] - 47s 2s/step - loss: 0.0591 - accuracy: 0.9885\n",
            "Epoch 13/15\n",
            "22/22 [==============================] - 45s 2s/step - loss: 0.0416 - accuracy: 0.9899\n",
            "Epoch 14/15\n",
            "22/22 [==============================] - 47s 2s/step - loss: 0.0636 - accuracy: 0.9878\n",
            "Epoch 15/15\n",
            "22/22 [==============================] - 47s 2s/step - loss: 0.0604 - accuracy: 0.9842\n",
            "19/19 [==============================] - 5s 247ms/step - loss: 1.4349 - accuracy: 0.7186\n",
            "Accuracy: 0.7185929417610168\n",
            "Loss: 1.4348807334899902\n"
          ]
        }
      ]
    },
    {
      "cell_type": "code",
      "source": [
        "model.save('/content/drive/MyDrive/dish_detection.h5')"
      ],
      "metadata": {
        "id": "dr7DCF89Cw7K"
      },
      "execution_count": 25,
      "outputs": []
    },
    {
      "cell_type": "code",
      "source": [
        "#test mo hinh\n",
        "from keras.utils import load_img\n",
        "from tensorflow.keras.utils import img_to_array\n",
        "import matplotlib.pyplot as plt\n",
        "import numpy as np\n",
        "img = load_img('raumuong_test.jpg',target_size=(100,100,3))\n",
        "plt.imshow(img)\n",
        "img = img_to_array(img)\n",
        "img = img.reshape(1,100,100,3)\n",
        "img = img.astype('float32')\n",
        "img = img/255\n",
        "a = np.argmax(model.predict(img),axis=-1)\n",
        "print(a)\n",
        "if(a == 1):\n",
        "  print(\"Đây là bánh chưng\")\n",
        "if (a == 2):\n",
        "  print(\"Đây là bánh xèo\")\n",
        "if (a == 3):\n",
        "  print(\"Đây là bún bò\")\n",
        "if (a == 4):\n",
        "  print(\"Đây là cá kho\")\n",
        "if (a == 5):\n",
        "  print(\"Đây là canh cà chua\")\n",
        "if (a == 6):\n",
        "  print(\"Đây là gỏi cuốn\")\n",
        "if (a == 7):\n",
        "  print(\"Đây là ngô\")\n",
        "if (a == 8):\n",
        "  print(\"Đây là rau muống\")\n",
        "if (a == 9):\n",
        "  print(\"Đây là xúc xích\")\n",
        "if (a == 10):\n",
        "  print(\"Đây là caphao\")"
      ],
      "metadata": {
        "colab": {
          "base_uri": "https://localhost:8080/",
          "height": 485
        },
        "id": "A6ai0bUFT4C7",
        "outputId": "3e70f676-2ab8-41c2-e16b-755139696066"
      },
      "execution_count": 27,
      "outputs": [
        {
          "output_type": "stream",
          "name": "stdout",
          "text": [
            "1/1 [==============================] - 0s 211ms/step\n",
            "[8]\n",
            "Đây là rau muống\n"
          ]
        },
        {
          "output_type": "display_data",
          "data": {
            "text/plain": [
              "<Figure size 640x480 with 1 Axes>"
            ],
            "image/png": "[encoded data removed]"
          },
          "metadata": {}
        }
      ]
    }
  ]
}