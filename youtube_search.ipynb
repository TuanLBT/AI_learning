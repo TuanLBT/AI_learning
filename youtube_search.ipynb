{
  "nbformat": 4,
  "nbformat_minor": 0,
  "metadata": {
    "colab": {
      "provenance": [],
      "mount_file_id": "1-XhoqF-4OrU4EVEG7ZrZfYzWc1UIBrnC",
      "authorship_tag": "ABX9TyOJ2suJQaH8rkdkD9lCr1NQ",
      "include_colab_link": true
    },
    "kernelspec": {
      "name": "python3",
      "display_name": "Python 3"
    },
    "language_info": {
      "name": "python"
    }
  },
  "cells": [
    {
      "cell_type": "markdown",
      "metadata": {
        "id": "view-in-github",
        "colab_type": "text"
      },
      "source": [
        "<a href=\"https://colab.research.google.com/github/TuanLBT/AI_learning/blob/main/youtube_search.ipynb\" target=\"_parent\"><img src=\"https://colab.research.google.com/assets/colab-badge.svg\" alt=\"Open In Colab\"/></a>"
      ]
    },
    {
      "cell_type": "code",
      "execution_count": 3,
      "metadata": {
        "colab": {
          "base_uri": "https://localhost:8080/"
        },
        "id": "jK3CLevM5TD-",
        "outputId": "b2f2f735-4137-4ede-cb42-169551abaeae"
      },
      "outputs": [
        {
          "output_type": "stream",
          "name": "stdout",
          "text": [
            "Looking in indexes: https://pypi.org/simple, https://us-python.pkg.dev/colab-wheels/public/simple/\n",
            "Collecting youtube_search\n",
            "  Downloading youtube_search-2.1.2-py3-none-any.whl (3.4 kB)\n",
            "Requirement already satisfied: requests in /usr/local/lib/python3.9/dist-packages (from youtube_search) (2.27.1)\n",
            "Requirement already satisfied: idna<4,>=2.5 in /usr/local/lib/python3.9/dist-packages (from requests->youtube_search) (3.4)\n",
            "Requirement already satisfied: certifi>=2017.4.17 in /usr/local/lib/python3.9/dist-packages (from requests->youtube_search) (2022.12.7)\n",
            "Requirement already satisfied: urllib3<1.27,>=1.21.1 in /usr/local/lib/python3.9/dist-packages (from requests->youtube_search) (1.26.15)\n",
            "Requirement already satisfied: charset-normalizer~=2.0.0 in /usr/local/lib/python3.9/dist-packages (from requests->youtube_search) (2.0.12)\n",
            "Installing collected packages: youtube_search\n",
            "Successfully installed youtube_search-2.1.2\n"
          ]
        }
      ],
      "source": [
        "pip install youtube_search"
      ]
    },
    {
      "cell_type": "code",
      "source": [
        "pip install --upgrade google-api-core"
      ],
      "metadata": {
        "colab": {
          "base_uri": "https://localhost:8080/"
        },
        "id": "fpLK6mhA6Etv",
        "outputId": "8397419d-eb9d-473e-ce97-6959a4ba4f64"
      },
      "execution_count": 6,
      "outputs": [
        {
          "output_type": "stream",
          "name": "stdout",
          "text": [
            "Looking in indexes: https://pypi.org/simple, https://us-python.pkg.dev/colab-wheels/public/simple/\n",
            "Requirement already satisfied: google-api-core in /usr/local/lib/python3.9/dist-packages (2.11.0)\n",
            "Requirement already satisfied: google-auth<3.0dev,>=2.14.1 in /usr/local/lib/python3.9/dist-packages (from google-api-core) (2.17.3)\n",
            "Requirement already satisfied: protobuf!=3.20.0,!=3.20.1,!=4.21.0,!=4.21.1,!=4.21.2,!=4.21.3,!=4.21.4,!=4.21.5,<5.0.0dev,>=3.19.5 in /usr/local/lib/python3.9/dist-packages (from google-api-core) (3.20.3)\n",
            "Requirement already satisfied: googleapis-common-protos<2.0dev,>=1.56.2 in /usr/local/lib/python3.9/dist-packages (from google-api-core) (1.59.0)\n",
            "Requirement already satisfied: requests<3.0.0dev,>=2.18.0 in /usr/local/lib/python3.9/dist-packages (from google-api-core) (2.27.1)\n",
            "Requirement already satisfied: six>=1.9.0 in /usr/local/lib/python3.9/dist-packages (from google-auth<3.0dev,>=2.14.1->google-api-core) (1.16.0)\n",
            "Requirement already satisfied: pyasn1-modules>=0.2.1 in /usr/local/lib/python3.9/dist-packages (from google-auth<3.0dev,>=2.14.1->google-api-core) (0.2.8)\n",
            "Requirement already satisfied: cachetools<6.0,>=2.0.0 in /usr/local/lib/python3.9/dist-packages (from google-auth<3.0dev,>=2.14.1->google-api-core) (5.3.0)\n",
            "Requirement already satisfied: rsa<5,>=3.1.4 in /usr/local/lib/python3.9/dist-packages (from google-auth<3.0dev,>=2.14.1->google-api-core) (4.9)\n",
            "Requirement already satisfied: certifi>=2017.4.17 in /usr/local/lib/python3.9/dist-packages (from requests<3.0.0dev,>=2.18.0->google-api-core) (2022.12.7)\n",
            "Requirement already satisfied: urllib3<1.27,>=1.21.1 in /usr/local/lib/python3.9/dist-packages (from requests<3.0.0dev,>=2.18.0->google-api-core) (1.26.15)\n",
            "Requirement already satisfied: charset-normalizer~=2.0.0 in /usr/local/lib/python3.9/dist-packages (from requests<3.0.0dev,>=2.18.0->google-api-core) (2.0.12)\n",
            "Requirement already satisfied: idna<4,>=2.5 in /usr/local/lib/python3.9/dist-packages (from requests<3.0.0dev,>=2.18.0->google-api-core) (3.4)\n",
            "Requirement already satisfied: pyasn1<0.5.0,>=0.4.6 in /usr/local/lib/python3.9/dist-packages (from pyasn1-modules>=0.2.1->google-auth<3.0dev,>=2.14.1->google-api-core) (0.4.8)\n"
          ]
        }
      ]
    },
    {
      "cell_type": "code",
      "source": [
        "pip install openpyxl"
      ],
      "metadata": {
        "colab": {
          "base_uri": "https://localhost:8080/"
        },
        "id": "S2jsauzB8GOv",
        "outputId": "70dcc41b-607b-475f-8c6a-daa7c2756318"
      },
      "execution_count": 13,
      "outputs": [
        {
          "output_type": "stream",
          "name": "stdout",
          "text": [
            "Looking in indexes: https://pypi.org/simple, https://us-python.pkg.dev/colab-wheels/public/simple/\n",
            "Requirement already satisfied: openpyxl in /usr/local/lib/python3.9/dist-packages (3.0.10)\n",
            "Requirement already satisfied: et-xmlfile in /usr/local/lib/python3.9/dist-packages (from openpyxl) (1.1.0)\n"
          ]
        }
      ]
    },
    {
      "cell_type": "code",
      "source": [
        "from youtube_search import YoutubeSearch\n",
        "import webbrowser"
      ],
      "metadata": {
        "id": "W87R3zjt5k-4"
      },
      "execution_count": 4,
      "outputs": []
    },
    {
      "cell_type": "code",
      "source": [
        "from openpyxl import Workbook"
      ],
      "metadata": {
        "id": "txoX1qMq8TzX"
      },
      "execution_count": 14,
      "outputs": []
    },
    {
      "cell_type": "code",
      "source": [
        "mysong = input('Nhap vao ten bai hat:')\n",
        "result = YoutubeSearch(mysong,max_results=10).to_dict()\n",
        "print(result)"
      ],
      "metadata": {
        "colab": {
          "base_uri": "https://localhost:8080/"
        },
        "id": "1cosDG3-5sV_",
        "outputId": "3ae313b9-9e68-4c5d-f8db-9564052b9a87"
      },
      "execution_count": 8,
      "outputs": [
        {
          "output_type": "stream",
          "name": "stdout",
          "text": [
            "Nhap vao ten bai hat:bury the light\n",
            "[{'id': 'Jrg9KxGNeJY', 'thumbnails': ['https://i.ytimg.com/vi/Jrg9KxGNeJY/hq720.jpg?sqp=-oaymwEjCOgCEMoBSFryq4qpAxUIARUAAAAAGAElAADIQj0AgKJDeAE=&rs=AOn4CLBOoAU7rorGxCM7p6qWkLSinlPS6Q', 'https://i.ytimg.com/vi/Jrg9KxGNeJY/hq720.jpg?sqp=-oaymwEXCNAFEJQDSFryq4qpAwkIARUAAIhCGAE=&rs=AOn4CLAhtAf9hZuo_8GdscxZoMR4TqSRPQ'], 'title': \"Bury the Light - Vergil's battle theme from Devil May Cry 5 Special Edition\", 'long_desc': None, 'channel': 'shadow hunter', 'duration': '9:43', 'views': '89,253,663 views', 'publish_time': '2 years ago', 'url_suffix': '/watch?v=Jrg9KxGNeJY&pp=ygUOYnVyeSB0aGUgbGlnaHQ%3D'}, {'id': 'jmLSeUE7aJY', 'thumbnails': ['https://i.ytimg.com/vi/jmLSeUE7aJY/hq720.jpg?sqp=-oaymwEjCOgCEMoBSFryq4qpAxUIARUAAAAAGAElAADIQj0AgKJDeAE=&rs=AOn4CLAHtm8ANegka4NJaMpGeX8hh_eKJg', 'https://i.ytimg.com/vi/jmLSeUE7aJY/hq720.jpg?sqp=-oaymwEXCNAFEJQDSFryq4qpAwkIARUAAIhCGAE=&rs=AOn4CLBj3qA-5iiTrxs5Y-MeHlMUlibopw'], 'title': 'BURY THE LIGHT DEEP WITHIN!!', 'long_desc': None, 'channel': 'Saruei ', 'duration': '0:26', 'views': '1,058,898 views', 'publish_time': '9 months ago', 'url_suffix': '/watch?v=jmLSeUE7aJY&pp=ygUOYnVyeSB0aGUgbGlnaHQ%3D'}, {'id': 'xsu0rI83Kq8', 'thumbnails': ['https://i.ytimg.com/vi/xsu0rI83Kq8/hq720.jpg?sqp=-oaymwEjCOgCEMoBSFryq4qpAxUIARUAAAAAGAElAADIQj0AgKJDeAE=&rs=AOn4CLCbo_YIPYNAEkoi2CWw_xIlemLfLA', 'https://i.ytimg.com/vi/xsu0rI83Kq8/hq720.jpg?sqp=-oaymwEXCNAFEJQDSFryq4qpAwkIARUAAIhCGAE=&rs=AOn4CLDITeTRW3xA7GMUPtCsp6hl7RCLNQ'], 'title': \"[Full Song/Official Lyrics] Bury the Light - Vergil's battle theme from Devil May Cry 5 SE\", 'long_desc': None, 'channel': 'R H', 'duration': '9:43', 'views': '4,253,382 views', 'publish_time': '2 years ago', 'url_suffix': '/watch?v=xsu0rI83Kq8&pp=ygUOYnVyeSB0aGUgbGlnaHQ%3D'}, {'id': '_HA6VxfhVhE', 'thumbnails': ['https://i.ytimg.com/vi/_HA6VxfhVhE/hq720.jpg?sqp=-oaymwE9COgCEMoBSFryq4qpAy8IARUAAAAAGAElAADIQj0AgKJDeAHwAQH4Af4JgALQBYoCDAgAEAEYRSBZKHIwDw==&rs=AOn4CLBxtQne9L187lviQYY1L9I6wgKV9A', 'https://i.ytimg.com/vi/_HA6VxfhVhE/hq720.jpg?sqp=-oaymwExCNAFEJQDSFryq4qpAyMIARUAAIhCGAHwAQH4Af4JgALQBYoCDAgAEAEYRSBZKHIwDw==&rs=AOn4CLDZCGH-XnctNto-XDmGASPsb3n8wA'], 'title': 'Bury the Light reupload', 'long_desc': None, 'channel': 'Lectiasio', 'duration': '7:11', 'views': '197,607 views', 'publish_time': '3 months ago', 'url_suffix': '/watch?v=_HA6VxfhVhE&pp=ygUOYnVyeSB0aGUgbGlnaHQ%3D'}, {'id': 'Sl_4HLk4yXk', 'thumbnails': ['https://i.ytimg.com/vi/Sl_4HLk4yXk/hq720.jpg?sqp=-oaymwEjCOgCEMoBSFryq4qpAxUIARUAAAAAGAElAADIQj0AgKJDeAE=&rs=AOn4CLA28A9cFAGjEpDcs4RoeuY8btIouQ', 'https://i.ytimg.com/vi/Sl_4HLk4yXk/hq720.jpg?sqp=-oaymwEXCNAFEJQDSFryq4qpAwkIARUAAIhCGAE=&rs=AOn4CLA_Cpr-RRzmBmXE6GS0AGR8VQ91rA'], 'title': 'Bury the Light (Game Edit)', 'long_desc': None, 'channel': 'Casey Edwards - Topic', 'duration': '6:19', 'views': '1,185,768 views', 'publish_time': 0, 'url_suffix': '/watch?v=Sl_4HLk4yXk&pp=ygUOYnVyeSB0aGUgbGlnaHQ%3D'}, {'id': 'BsTzFQ9D9iw', 'thumbnails': ['https://i.ytimg.com/vi/BsTzFQ9D9iw/hq720.jpg?sqp=-oaymwEjCOgCEMoBSFryq4qpAxUIARUAAAAAGAElAADIQj0AgKJDeAE=&rs=AOn4CLAnv-c0H453cnGhKsO1nwtNY3I8Wg', 'https://i.ytimg.com/vi/BsTzFQ9D9iw/hq720.jpg?sqp=-oaymwEXCNAFEJQDSFryq4qpAwkIARUAAIhCGAE=&rs=AOn4CLCXlj2GA3pB5aSNa1p82BWzBpoJrQ'], 'title': '[REMASTERED] Devil May Cry 5 - Bury The Light (Special Edit)', 'long_desc': None, 'channel': 'Tyrus Sparda ( Dragon Of Sparda )', 'duration': '14:06', 'views': '1,450,228 views', 'publish_time': '10 months ago', 'url_suffix': '/watch?v=BsTzFQ9D9iw&pp=ygUOYnVyeSB0aGUgbGlnaHQ%3D'}, {'id': '7FcVmS-HXSQ', 'thumbnails': ['https://i.ytimg.com/vi/7FcVmS-HXSQ/hq720.jpg?sqp=-oaymwEjCOgCEMoBSFryq4qpAxUIARUAAAAAGAElAADIQj0AgKJDeAE=&rs=AOn4CLBhWcR-8tNU2G6p30v2aDfaOmOKgg', 'https://i.ytimg.com/vi/7FcVmS-HXSQ/hq720.jpg?sqp=-oaymwEXCNAFEJQDSFryq4qpAwkIARUAAIhCGAE=&rs=AOn4CLAUJ60Bcu6es6gGRUUTSHhsdI9_BQ'], 'title': 'Casey Edwards - Bury The Light (Lyric Video)', 'long_desc': None, 'channel': 'Sadwich', 'duration': '9:48', 'views': '1,666,984 views', 'publish_time': '2 years ago', 'url_suffix': '/watch?v=7FcVmS-HXSQ&pp=ygUOYnVyeSB0aGUgbGlnaHQ%3D'}, {'id': 'jp7sKMrbWX8', 'thumbnails': ['https://i.ytimg.com/vi/jp7sKMrbWX8/hq720.jpg?sqp=-oaymwEjCOgCEMoBSFryq4qpAxUIARUAAAAAGAElAADIQj0AgKJDeAE=&rs=AOn4CLBQo3oIdaTUHv-xzeQ9gTM5mFqkAw', 'https://i.ytimg.com/vi/jp7sKMrbWX8/hq720.jpg?sqp=-oaymwEXCNAFEJQDSFryq4qpAwkIARUAAIhCGAE=&rs=AOn4CLAi83oItZdn21x3VO2lY7ViFLJmlw'], 'title': 'Bury The Light - Definitive Edition (reupload)', 'long_desc': None, 'channel': 'Kirell', 'duration': '10:48', 'views': '181,088 views', 'publish_time': '2 months ago', 'url_suffix': '/watch?v=jp7sKMrbWX8&pp=ygUOYnVyeSB0aGUgbGlnaHQ%3D'}, {'id': 'r5hKojsGR0M', 'thumbnails': ['https://i.ytimg.com/vi/r5hKojsGR0M/hq720.jpg?sqp=-oaymwE9COgCEMoBSFryq4qpAy8IARUAAAAAGAElAADIQj0AgKJDeAHwAQH4Af4JgALQBYoCDAgAEAEYRyA9KH8wDw==&rs=AOn4CLDz2rrCUnF-kmbZC6JHx2sq8euJXA', 'https://i.ytimg.com/vi/r5hKojsGR0M/hq720.jpg?sqp=-oaymwExCNAFEJQDSFryq4qpAyMIARUAAIhCGAHwAQH4Af4JgALQBYoCDAgAEAEYRyA9KH8wDw==&rs=AOn4CLB8m90vCISS161P-QkiDMVX4re5Gw'], 'title': \"Bury The Light//Casey Edwards/lyrics [Vergil's Battle Theme] DMC5\", 'long_desc': None, 'channel': 'L e m o n c h i l l', 'duration': '9:43', 'views': '682,987 views', 'publish_time': '2 years ago', 'url_suffix': '/watch?v=r5hKojsGR0M&pp=ygUOYnVyeSB0aGUgbGlnaHQ%3D'}, {'id': 'YcqI9FdpvNs', 'thumbnails': ['https://i.ytimg.com/vi/YcqI9FdpvNs/hq720.jpg?sqp=-oaymwEjCOgCEMoBSFryq4qpAxUIARUAAAAAGAElAADIQj0AgKJDeAE=&rs=AOn4CLBqBTo_cYBLs9wp6MwA2ylxg9CQHg', 'https://i.ytimg.com/vi/YcqI9FdpvNs/hq720.jpg?sqp=-oaymwEXCNAFEJQDSFryq4qpAwkIARUAAIhCGAE=&rs=AOn4CLAeTLEi6udrx2mWnHFJQgP6ixMkjQ'], 'title': 'DMC5 Vergil Theme Extended (1 Hour) Bury the Light Extended - Casey Edwards | Devil May Cry 5 DMC 5', 'long_desc': None, 'channel': 'Ninja Kuma', 'duration': '1:04:15', 'views': '1,385,094 views', 'publish_time': '2 years ago', 'url_suffix': '/watch?v=YcqI9FdpvNs&pp=ygUOYnVyeSB0aGUgbGlnaHQ%3D'}]\n"
          ]
        }
      ]
    },
    {
      "cell_type": "code",
      "source": [
        "print(result[0]['url_suffix']) # trong trường số 0 sẽ trích dữ liệu từ url suffix  ra\n",
        "for i in range(10):\n",
        "  url = 'http://www.youtube.com' + result[i]['url_suffix']\n",
        "  print(url)\n",
        "  webbrowser.open(url)"
      ],
      "metadata": {
        "colab": {
          "base_uri": "https://localhost:8080/"
        },
        "id": "wKJZV6PU6Vq3",
        "outputId": "7eb80080-8375-45ec-8ba2-7181870a2245"
      },
      "execution_count": 11,
      "outputs": [
        {
          "output_type": "stream",
          "name": "stdout",
          "text": [
            "/watch?v=Jrg9KxGNeJY&pp=ygUOYnVyeSB0aGUgbGlnaHQ%3D\n",
            "http://www.youtube.com/watch?v=Jrg9KxGNeJY&pp=ygUOYnVyeSB0aGUgbGlnaHQ%3D\n",
            "http://www.youtube.com/watch?v=jmLSeUE7aJY&pp=ygUOYnVyeSB0aGUgbGlnaHQ%3D\n",
            "http://www.youtube.com/watch?v=xsu0rI83Kq8&pp=ygUOYnVyeSB0aGUgbGlnaHQ%3D\n",
            "http://www.youtube.com/watch?v=_HA6VxfhVhE&pp=ygUOYnVyeSB0aGUgbGlnaHQ%3D\n",
            "http://www.youtube.com/watch?v=Sl_4HLk4yXk&pp=ygUOYnVyeSB0aGUgbGlnaHQ%3D\n",
            "http://www.youtube.com/watch?v=BsTzFQ9D9iw&pp=ygUOYnVyeSB0aGUgbGlnaHQ%3D\n",
            "http://www.youtube.com/watch?v=7FcVmS-HXSQ&pp=ygUOYnVyeSB0aGUgbGlnaHQ%3D\n",
            "http://www.youtube.com/watch?v=jp7sKMrbWX8&pp=ygUOYnVyeSB0aGUgbGlnaHQ%3D\n",
            "http://www.youtube.com/watch?v=r5hKojsGR0M&pp=ygUOYnVyeSB0aGUgbGlnaHQ%3D\n",
            "http://www.youtube.com/watch?v=YcqI9FdpvNs&pp=ygUOYnVyeSB0aGUgbGlnaHQ%3D\n"
          ]
        }
      ]
    },
    {
      "cell_type": "code",
      "source": [
        "data = Workbook()\n",
        "sheet = data.active\n",
        "\n",
        "\n",
        "mysong = input('xin moi ban chon bai hat:')\n",
        "result = YoutubeSearch(mysong,max_results=10).to_dict()\n",
        "for i in range(10):\n",
        "  print(result[i]['title'])\n",
        "  print(result[i]['url_suffix'])\n",
        "  url='http://www.youtube.com'+result[i]['url_suffix']\n",
        "  print(url)\n",
        "  sheet['A'+str(i+1)] = i + 1\n",
        "  sheet['B'+str(i+1)] = result[i]['title']\n",
        "  sheet['C'+str(i+1)] = result[i]['url_suffix']\n",
        "  sheet['D'+str(i+1)] = result[i]['views']\n",
        "data.save('/content/drive/MyDrive/youtube.xlsx')"
      ],
      "metadata": {
        "colab": {
          "base_uri": "https://localhost:8080/"
        },
        "id": "_r3Z-g3f8bFE",
        "outputId": "5dd083d5-5f18-4013-8930-7e931790ad31"
      },
      "execution_count": 22,
      "outputs": [
        {
          "output_type": "stream",
          "name": "stdout",
          "text": [
            "xin moi ban chon bai hat:bury the light\n",
            "Bury the Light - Vergil's battle theme from Devil May Cry 5 Special Edition\n",
            "/watch?v=Jrg9KxGNeJY&pp=ygUOYnVyeSB0aGUgbGlnaHQ%3D\n",
            "http://www.youtube.com/watch?v=Jrg9KxGNeJY&pp=ygUOYnVyeSB0aGUgbGlnaHQ%3D\n",
            "BURY THE LIGHT DEEP WITHIN!!\n",
            "/watch?v=jmLSeUE7aJY&pp=ygUOYnVyeSB0aGUgbGlnaHQ%3D\n",
            "http://www.youtube.com/watch?v=jmLSeUE7aJY&pp=ygUOYnVyeSB0aGUgbGlnaHQ%3D\n",
            "Bury the Light (Game Edit)\n",
            "/watch?v=Sl_4HLk4yXk&pp=ygUOYnVyeSB0aGUgbGlnaHQ%3D\n",
            "http://www.youtube.com/watch?v=Sl_4HLk4yXk&pp=ygUOYnVyeSB0aGUgbGlnaHQ%3D\n",
            "[REMASTERED] Devil May Cry 5 - Bury The Light (Special Edit)\n",
            "/watch?v=BsTzFQ9D9iw&pp=ygUOYnVyeSB0aGUgbGlnaHQ%3D\n",
            "http://www.youtube.com/watch?v=BsTzFQ9D9iw&pp=ygUOYnVyeSB0aGUgbGlnaHQ%3D\n",
            "[Full Song/Official Lyrics] Bury the Light - Vergil's battle theme from Devil May Cry 5 SE\n",
            "/watch?v=xsu0rI83Kq8&pp=ygUOYnVyeSB0aGUgbGlnaHQ%3D\n",
            "http://www.youtube.com/watch?v=xsu0rI83Kq8&pp=ygUOYnVyeSB0aGUgbGlnaHQ%3D\n",
            "Bury The Light (Definitive Edition) (Illyagd11 Version)\n",
            "/watch?v=rs3AvUvtJZk&pp=ygUOYnVyeSB0aGUgbGlnaHQ%3D\n",
            "http://www.youtube.com/watch?v=rs3AvUvtJZk&pp=ygUOYnVyeSB0aGUgbGlnaHQ%3D\n",
            "Bury the Light reupload\n",
            "/watch?v=_HA6VxfhVhE&pp=ygUOYnVyeSB0aGUgbGlnaHQ%3D\n",
            "http://www.youtube.com/watch?v=_HA6VxfhVhE&pp=ygUOYnVyeSB0aGUgbGlnaHQ%3D\n",
            "Casey Edwards - Bury The Light (Lyric Video)\n",
            "/watch?v=7FcVmS-HXSQ&pp=ygUOYnVyeSB0aGUgbGlnaHQ%3D\n",
            "http://www.youtube.com/watch?v=7FcVmS-HXSQ&pp=ygUOYnVyeSB0aGUgbGlnaHQ%3D\n",
            "I made a wasp listen to Bury The Light\n",
            "/shorts/3TvkPyw_fKQ\n",
            "http://www.youtube.com/shorts/3TvkPyw_fKQ\n",
            "Bury The Light - Definitive Edition (reupload)\n",
            "/watch?v=jp7sKMrbWX8&pp=ygUOYnVyeSB0aGUgbGlnaHQ%3D\n",
            "http://www.youtube.com/watch?v=jp7sKMrbWX8&pp=ygUOYnVyeSB0aGUgbGlnaHQ%3D\n"
          ]
        }
      ]
    },
    {
      "cell_type": "code",
      "source": [
        "pip install SpeechRecognition pydub"
      ],
      "metadata": {
        "colab": {
          "base_uri": "https://localhost:8080/"
        },
        "id": "-xKElRdgBLEH",
        "outputId": "009470e1-ef0b-42d9-9ab8-152b12e00fdb"
      },
      "execution_count": 23,
      "outputs": [
        {
          "output_type": "stream",
          "name": "stdout",
          "text": [
            "Looking in indexes: https://pypi.org/simple, https://us-python.pkg.dev/colab-wheels/public/simple/\n",
            "Collecting SpeechRecognition\n",
            "  Downloading SpeechRecognition-3.10.0-py2.py3-none-any.whl (32.8 MB)\n",
            "\u001b[2K     \u001b[90m━━━━━━━━━━━━━━━━━━━━━━━━━━━━━━━━━━━━━━━━\u001b[0m \u001b[32m32.8/32.8 MB\u001b[0m \u001b[31m23.1 MB/s\u001b[0m eta \u001b[36m0:00:00\u001b[0m\n",
            "\u001b[?25hCollecting pydub\n",
            "  Downloading pydub-0.25.1-py2.py3-none-any.whl (32 kB)\n",
            "Requirement already satisfied: requests>=2.26.0 in /usr/local/lib/python3.9/dist-packages (from SpeechRecognition) (2.27.1)\n",
            "Requirement already satisfied: charset-normalizer~=2.0.0 in /usr/local/lib/python3.9/dist-packages (from requests>=2.26.0->SpeechRecognition) (2.0.12)\n",
            "Requirement already satisfied: idna<4,>=2.5 in /usr/local/lib/python3.9/dist-packages (from requests>=2.26.0->SpeechRecognition) (3.4)\n",
            "Requirement already satisfied: certifi>=2017.4.17 in /usr/local/lib/python3.9/dist-packages (from requests>=2.26.0->SpeechRecognition) (2022.12.7)\n",
            "Requirement already satisfied: urllib3<1.27,>=1.21.1 in /usr/local/lib/python3.9/dist-packages (from requests>=2.26.0->SpeechRecognition) (1.26.15)\n",
            "Installing collected packages: pydub, SpeechRecognition\n",
            "Successfully installed SpeechRecognition-3.10.0 pydub-0.25.1\n"
          ]
        }
      ]
    },
    {
      "cell_type": "markdown",
      "source": [
        "text to speech"
      ],
      "metadata": {
        "id": "HFrXKJxwDtjH"
      }
    },
    {
      "cell_type": "code",
      "source": [
        "file = '/content/drive/MyDrive/tienganh.wav'\n",
        "import speech_recognition as sv\n",
        "r = sv.Recognizer()\n",
        "with sv.AudioFile(file) as source:\n",
        "  audio_data = r.record(source)\n",
        "  text = r.recognize_google(audio_data)\n",
        "  print(text)"
      ],
      "metadata": {
        "colab": {
          "base_uri": "https://localhost:8080/"
        },
        "id": "LFUtP9rRB_oS",
        "outputId": "f0fe64b7-0a05-43e3-85cc-64c695dacb89"
      },
      "execution_count": 24,
      "outputs": [
        {
          "output_type": "stream",
          "name": "stdout",
          "text": [
            "my glory doesn't happen in front of a crowd it doesn't happen in a stadium or on a stage Rondo medals handed out it happens in the darkness of the early morning in solitude where I try and I try and I try again with everything I have to be the best that I can possibly be better than I was yesterday Better Than People thought I could be better than I thought I could be then claim one victory that no one can ever take away from me ever the victory that is earned every single day of victory of determination and will and discipline of Victory achieved because I will not stop\n"
          ]
        }
      ]
    },
    {
      "cell_type": "code",
      "source": [
        "with sv.AudioFile(file) as source:\n",
        "  audio1 = r.record(source,duration=4)\n",
        "  audio2 = r.record(source,duration =10)\n",
        "  audio3 = r.record(source,offset=4,duration=10) #dịch từ 0 giây đến 4 giây\n",
        "  print(r.recognize_google(audio1))\n",
        "  print(r.recognize_google(audio2))\n",
        "  print(r.recognize_google(audio3))"
      ],
      "metadata": {
        "colab": {
          "base_uri": "https://localhost:8080/"
        },
        "id": "-RjlZuaNECjw",
        "outputId": "6879989b-efeb-4e86-f68d-6683ccedd82a"
      },
      "execution_count": 28,
      "outputs": [
        {
          "output_type": "stream",
          "name": "stdout",
          "text": [
            "my glory doesn't happen in front of a crowd\n",
            "it doesn't happen in the stadium or on a stage there are no medals handed out it happens in the darkness of the early morning\n",
            "I tried and I tried again with everything I have to be the best that I can possibly be better than I\n"
          ]
        }
      ]
    },
    {
      "cell_type": "code",
      "source": [
        "import speech_recognition as sv\n",
        "r = sv.Recognizer()\n",
        "with sv.AudioFile('/content/drive/MyDrive/tabun_1p.wav') as source:\n",
        "  audio= r.record(source,duration=31)\n",
        "  audio1= r.record(source,duration=16)\n",
        "a = r.recognize_google(audio,language='ja-JP') #https://cloud.google.com/speech-to-text/docs/speech-to-text-supported-languages\n",
        "b = r.recognize_google(audio1,language='ja-JP')\n",
        "print(a+b)"
      ],
      "metadata": {
        "colab": {
          "base_uri": "https://localhost:8080/"
        },
        "id": "KFVxqFRBFvw5",
        "outputId": "3661ae9e-6d9c-489c-e9e7-6dd0a44bd18e"
      },
      "execution_count": 58,
      "outputs": [
        {
          "output_type": "stream",
          "name": "stdout",
          "text": [
            "1人で迎えた朝に響く 誰かの檻で過ごした部屋です わかんないよ 誰のせいだ もない 多分僕らは さよならとともに終わる仕方がないよ きっと おかえりた言葉は違うな\n"
          ]
        }
      ]
    },
    {
      "cell_type": "markdown",
      "source": [
        "speech to text"
      ],
      "metadata": {
        "id": "dNQ9_dsSRQJM"
      }
    },
    {
      "cell_type": "code",
      "source": [
        "pip install gTTs "
      ],
      "metadata": {
        "colab": {
          "base_uri": "https://localhost:8080/"
        },
        "id": "gtgZ_G7GKLnN",
        "outputId": "83a7fd8b-8d6f-410d-f707-dbf6f2f53c33"
      },
      "execution_count": 40,
      "outputs": [
        {
          "output_type": "stream",
          "name": "stdout",
          "text": [
            "Looking in indexes: https://pypi.org/simple, https://us-python.pkg.dev/colab-wheels/public/simple/\n",
            "Requirement already satisfied: gTTs in /usr/local/lib/python3.9/dist-packages (2.3.1)\n",
            "Requirement already satisfied: click<8.2,>=7.1 in /usr/local/lib/python3.9/dist-packages (from gTTs) (8.1.3)\n",
            "Requirement already satisfied: requests<3,>=2.27 in /usr/local/lib/python3.9/dist-packages (from gTTs) (2.27.1)\n",
            "Requirement already satisfied: certifi>=2017.4.17 in /usr/local/lib/python3.9/dist-packages (from requests<3,>=2.27->gTTs) (2022.12.7)\n",
            "Requirement already satisfied: urllib3<1.27,>=1.21.1 in /usr/local/lib/python3.9/dist-packages (from requests<3,>=2.27->gTTs) (1.26.15)\n",
            "Requirement already satisfied: idna<4,>=2.5 in /usr/local/lib/python3.9/dist-packages (from requests<3,>=2.27->gTTs) (3.4)\n",
            "Requirement already satisfied: charset-normalizer~=2.0.0 in /usr/local/lib/python3.9/dist-packages (from requests<3,>=2.27->gTTs) (2.0.12)\n"
          ]
        }
      ]
    },
    {
      "cell_type": "code",
      "source": [
        "from gtts import gTTS\n",
        "import os\n",
        "A = ''\n",
        "speak = gTTS(text=A,lang='de',slow=False)\n",
        "speak.save('/content/drive/MyDrive/chingjen.mp3')\n",
        "#playsound('/content/drive/MyDrive/anhyeuem.mp3')\n",
        "#os.remove('/content/drive/MyDrive/anhyeuem.mp3')\n",
        "print('text')"
      ],
      "metadata": {
        "colab": {
          "base_uri": "https://localhost:8080/"
        },
        "id": "I9pPjlBcKWDe",
        "outputId": "4e2a388c-d488-4178-f970-c3739fcfdc1c"
      },
      "execution_count": 55,
      "outputs": [
        {
          "output_type": "stream",
          "name": "stdout",
          "text": [
            "text\n"
          ]
        }
      ]
    },
    {
      "cell_type": "markdown",
      "source": [
        "translating"
      ],
      "metadata": {
        "id": "8eJC-H7ZRXR9"
      }
    },
    {
      "cell_type": "code",
      "source": [
        "pip install googletrans==3.1.0a0"
      ],
      "metadata": {
        "colab": {
          "base_uri": "https://localhost:8080/",
          "height": 956
        },
        "id": "HdUUE_BgRYd-",
        "outputId": "2e9c4e9d-52be-4430-9c1e-02c33ac9f21f"
      },
      "execution_count": 59,
      "outputs": [
        {
          "output_type": "stream",
          "name": "stdout",
          "text": [
            "Looking in indexes: https://pypi.org/simple, https://us-python.pkg.dev/colab-wheels/public/simple/\n",
            "Collecting googletrans==3.1.0a0\n",
            "  Downloading googletrans-3.1.0a0.tar.gz (19 kB)\n",
            "  Preparing metadata (setup.py) ... \u001b[?25l\u001b[?25hdone\n",
            "Collecting httpx==0.13.3\n",
            "  Downloading httpx-0.13.3-py3-none-any.whl (55 kB)\n",
            "\u001b[2K     \u001b[90m━━━━━━━━━━━━━━━━━━━━━━━━━━━━━━━━━━━━━━━━\u001b[0m \u001b[32m55.1/55.1 kB\u001b[0m \u001b[31m2.9 MB/s\u001b[0m eta \u001b[36m0:00:00\u001b[0m\n",
            "\u001b[?25hRequirement already satisfied: certifi in /usr/local/lib/python3.9/dist-packages (from httpx==0.13.3->googletrans==3.1.0a0) (2022.12.7)\n",
            "Collecting chardet==3.*\n",
            "  Downloading chardet-3.0.4-py2.py3-none-any.whl (133 kB)\n",
            "\u001b[2K     \u001b[90m━━━━━━━━━━━━━━━━━━━━━━━━━━━━━━━━━━━━━━━\u001b[0m \u001b[32m133.4/133.4 kB\u001b[0m \u001b[31m6.6 MB/s\u001b[0m eta \u001b[36m0:00:00\u001b[0m\n",
            "\u001b[?25hCollecting httpcore==0.9.*\n",
            "  Downloading httpcore-0.9.1-py3-none-any.whl (42 kB)\n",
            "\u001b[2K     \u001b[90m━━━━━━━━━━━━━━━━━━━━━━━━━━━━━━━━━━━━━━━━\u001b[0m \u001b[32m42.6/42.6 kB\u001b[0m \u001b[31m4.2 MB/s\u001b[0m eta \u001b[36m0:00:00\u001b[0m\n",
            "\u001b[?25hCollecting hstspreload\n",
            "  Downloading hstspreload-2023.1.1-py3-none-any.whl (1.5 MB)\n",
            "\u001b[2K     \u001b[90m━━━━━━━━━━━━━━━━━━━━━━━━━━━━━━━━━━━━━━━━\u001b[0m \u001b[32m1.5/1.5 MB\u001b[0m \u001b[31m36.1 MB/s\u001b[0m eta \u001b[36m0:00:00\u001b[0m\n",
            "\u001b[?25hCollecting rfc3986<2,>=1.3\n",
            "  Downloading rfc3986-1.5.0-py2.py3-none-any.whl (31 kB)\n",
            "Collecting idna==2.*\n",
            "  Downloading idna-2.10-py2.py3-none-any.whl (58 kB)\n",
            "\u001b[2K     \u001b[90m━━━━━━━━━━━━━━━━━━━━━━━━━━━━━━━━━━━━━━━━\u001b[0m \u001b[32m58.8/58.8 kB\u001b[0m \u001b[31m5.8 MB/s\u001b[0m eta \u001b[36m0:00:00\u001b[0m\n",
            "\u001b[?25hRequirement already satisfied: sniffio in /usr/local/lib/python3.9/dist-packages (from httpx==0.13.3->googletrans==3.1.0a0) (1.3.0)\n",
            "Collecting h11<0.10,>=0.8\n",
            "  Downloading h11-0.9.0-py2.py3-none-any.whl (53 kB)\n",
            "\u001b[2K     \u001b[90m━━━━━━━━━━━━━━━━━━━━━━━━━━━━━━━━━━━━━━━━\u001b[0m \u001b[32m53.6/53.6 kB\u001b[0m \u001b[31m5.6 MB/s\u001b[0m eta \u001b[36m0:00:00\u001b[0m\n",
            "\u001b[?25hCollecting h2==3.*\n",
            "  Downloading h2-3.2.0-py2.py3-none-any.whl (65 kB)\n",
            "\u001b[2K     \u001b[90m━━━━━━━━━━━━━━━━━━━━━━━━━━━━━━━━━━━━━━━━\u001b[0m \u001b[32m65.0/65.0 kB\u001b[0m \u001b[31m6.1 MB/s\u001b[0m eta \u001b[36m0:00:00\u001b[0m\n",
            "\u001b[?25hCollecting hyperframe<6,>=5.2.0\n",
            "  Downloading hyperframe-5.2.0-py2.py3-none-any.whl (12 kB)\n",
            "Collecting hpack<4,>=3.0\n",
            "  Downloading hpack-3.0.0-py2.py3-none-any.whl (38 kB)\n",
            "Building wheels for collected packages: googletrans\n",
            "  Building wheel for googletrans (setup.py) ... \u001b[?25l\u001b[?25hdone\n",
            "  Created wheel for googletrans: filename=googletrans-3.1.0a0-py3-none-any.whl size=16368 sha256=28ea144e8e8726b40e23e63a0bb9e5ee12bf7e75c5620e4dd113c451a5d78559\n",
            "  Stored in directory: /root/.cache/pip/wheels/ae/e1/6c/5137bc3f35aa130deea71575e165cc4f4f0680a88f3d90a636\n",
            "Successfully built googletrans\n",
            "Installing collected packages: rfc3986, hyperframe, hpack, h11, chardet, idna, hstspreload, h2, httpcore, httpx, googletrans\n",
            "  Attempting uninstall: chardet\n",
            "    Found existing installation: chardet 4.0.0\n",
            "    Uninstalling chardet-4.0.0:\n",
            "      Successfully uninstalled chardet-4.0.0\n",
            "  Attempting uninstall: idna\n",
            "    Found existing installation: idna 3.4\n",
            "    Uninstalling idna-3.4:\n",
            "      Successfully uninstalled idna-3.4\n",
            "Successfully installed chardet-3.0.4 googletrans-3.1.0a0 h11-0.9.0 h2-3.2.0 hpack-3.0.0 hstspreload-2023.1.1 httpcore-0.9.1 httpx-0.13.3 hyperframe-5.2.0 idna-2.10 rfc3986-1.5.0\n"
          ]
        },
        {
          "output_type": "display_data",
          "data": {
            "application/vnd.colab-display-data+json": {
              "pip_warning": {
                "packages": [
                  "chardet",
                  "idna"
                ]
              }
            }
          },
          "metadata": {}
        }
      ]
    },
    {
      "cell_type": "code",
      "source": [
        "from googletrans import Translator"
      ],
      "metadata": {
        "id": "ozaVuob8RlcW"
      },
      "execution_count": 60,
      "outputs": []
    },
    {
      "cell_type": "code",
      "source": [
        "translator = Translator()\n",
        "translator = translator.translate('con mẹ mày',dest='ja')\n",
        "print(translator.text)"
      ],
      "metadata": {
        "colab": {
          "base_uri": "https://localhost:8080/"
        },
        "id": "nOOc49lkRwDY",
        "outputId": "a360e0e5-5765-47f2-baa3-f07e7415115b"
      },
      "execution_count": 67,
      "outputs": [
        {
          "output_type": "stream",
          "name": "stdout",
          "text": [
            "あなたのお母さんの息子\n"
          ]
        }
      ]
    },
    {
      "cell_type": "markdown",
      "source": [
        "wave -> text -> translate -> speech -> mp3"
      ],
      "metadata": {
        "id": "Nv1MtAe9TDzQ"
      }
    },
    {
      "cell_type": "code",
      "source": [
        "#wave to text\n",
        "file = '/content/drive/MyDrive/tabun_1p.wav'\n",
        "import speech_recognition as sv\n",
        "r = sv.Recognizer()\n",
        "with sv.AudioFile(file) as source:\n",
        "  audio_data = r.record(source,duration=30)\n",
        "  audio_data1 = r.record(source,duration=17)\n",
        "text1 = r.recognize_google(audio_data,language='ja') \n",
        "text2 = r.recognize_google(audio_data1,language='ja')\n",
        "text_sum = text1 + text2\n",
        "#text to translate\n",
        "translator = Translator()\n",
        "translator = translator.translate(text_sum,dest='sv')\n",
        "#translate to speech, then speech to mp3\n",
        "speak = gTTS(text=translator.text,lang='sv',slow=False)\n",
        "speak.save('/content/drive/MyDrive/motivation.mp3')\n"
      ],
      "metadata": {
        "id": "fKLKE0AfTHvT"
      },
      "execution_count": 78,
      "outputs": []
    },
    {
      "cell_type": "markdown",
      "source": [
        "chuyển âm thanh sang miền tần số (MFCC)"
      ],
      "metadata": {
        "id": "ShmZdKuEYdFm"
      }
    },
    {
      "cell_type": "code",
      "source": [
        "!pip install python_speech_features"
      ],
      "metadata": {
        "colab": {
          "base_uri": "https://localhost:8080/"
        },
        "id": "lTYBAtZ_ZYbe",
        "outputId": "b8c14ba9-e079-40e3-8890-5d8b3e9b164a"
      },
      "execution_count": 82,
      "outputs": [
        {
          "output_type": "stream",
          "name": "stdout",
          "text": [
            "Looking in indexes: https://pypi.org/simple, https://us-python.pkg.dev/colab-wheels/public/simple/\n",
            "Requirement already satisfied: python_speech_features in /usr/local/lib/python3.9/dist-packages (0.6)\n"
          ]
        }
      ]
    },
    {
      "cell_type": "code",
      "source": [
        "import numpy as np\n",
        "import matplotlib.pyplot as plt\n",
        "from scipy.io import wavfile\n",
        "from python_speech_features import mfcc,logfbank"
      ],
      "metadata": {
        "id": "qSF7pmJOYfsP"
      },
      "execution_count": 83,
      "outputs": []
    },
    {
      "cell_type": "code",
      "source": [
        "frequency_sample,audio_signal=wavfile.read('/content/drive/MyDrive/tiengangang.wav')\n",
        "audio_signal = audio_signal[:1500]\n",
        "feature_mfcc = mfcc(audio_signal,frequency_sample)\n",
        "print('\\n MFCC:\\n Number of windows=',feature_mfcc.shape[0])\n",
        "print('Length of each feature:',feature_mfcc.shape[1])"
      ],
      "metadata": {
        "colab": {
          "base_uri": "https://localhost:8080/"
        },
        "id": "2C2fH_FDZtOi",
        "outputId": "abefb6bb-9faa-4adb-f78a-4c5029c8c12a"
      },
      "execution_count": 102,
      "outputs": [
        {
          "output_type": "stream",
          "name": "stderr",
          "text": [
            "WARNING:root:frame length (1103) is greater than FFT size (512), frame will be truncated. Increase NFFT to avoid.\n"
          ]
        },
        {
          "output_type": "stream",
          "name": "stdout",
          "text": [
            "\n",
            " MFCC:\n",
            " Number of windows= 2\n",
            "Length of each feature: 13\n"
          ]
        }
      ]
    },
    {
      "cell_type": "code",
      "source": [
        "feature_mfcc = feature_mfcc.T\n",
        "plt.matshow(feature_mfcc)\n",
        "plt.title('MFCC')"
      ],
      "metadata": {
        "colab": {
          "base_uri": "https://localhost:8080/",
          "height": 1000
        },
        "id": "6fSlCIxfawvz",
        "outputId": "a4772609-38e0-44ee-9ff6-a87f4aaa9417"
      },
      "execution_count": 103,
      "outputs": [
        {
          "output_type": "execute_result",
          "data": {
            "text/plain": [
              "Text(0.5, 1.0, 'MFCC')"
            ]
          },
          "metadata": {},
          "execution_count": 103
        },
        {
          "output_type": "display_data",
          "data": {
            "text/plain": [
              "<Figure size 400x1600 with 1 Axes>"
            ],
            "image/png": "[encoded data removed]"
          },
          "metadata": {}
        }
      ]
    },
    {
      "cell_type": "markdown",
      "source": [
        "Lọc và Trích xuất"
      ],
      "metadata": {
        "id": "h-Ribrswbxbq"
      }
    },
    {
      "cell_type": "code",
      "source": [
        "filterbank_feature = logfbank(audio_signal,frequency_sample)\n",
        "print('\\n filter ban:\\n number of windows=',filterbank_feature.shape[0])\n",
        "print('length of each feature:',filterbank_feature.shape[1])\n",
        "filterbank_feature = filterbank_feature.T\n",
        "plt.matshow(filterbank_feature)\n",
        "plt.title('filter bank')\n",
        "plt.show"
      ],
      "metadata": {
        "colab": {
          "base_uri": "https://localhost:8080/",
          "height": 1000
        },
        "id": "aLhevDJibwYa",
        "outputId": "afb30b73-8c6b-4b8b-f9fa-c8bab6d44500"
      },
      "execution_count": 104,
      "outputs": [
        {
          "output_type": "stream",
          "name": "stderr",
          "text": [
            "WARNING:root:frame length (1103) is greater than FFT size (512), frame will be truncated. Increase NFFT to avoid.\n"
          ]
        },
        {
          "output_type": "stream",
          "name": "stdout",
          "text": [
            "\n",
            " filter ban:\n",
            " number of windows= 2\n",
            "length of each feature: 26\n"
          ]
        },
        {
          "output_type": "execute_result",
          "data": {
            "text/plain": [
              "<function matplotlib.pyplot.show(close=None, block=None)>"
            ]
          },
          "metadata": {},
          "execution_count": 104
        },
        {
          "output_type": "display_data",
          "data": {
            "text/plain": [
              "<Figure size 400x1600 with 1 Axes>"
            ],
            "image/png": "[encoded data removed]"
          },
          "metadata": {}
        }
      ]
    }
  ]
}