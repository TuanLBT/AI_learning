{
  "nbformat": 4,
  "nbformat_minor": 0,
  "metadata": {
    "colab": {
      "provenance": [],
      "authorship_tag": "ABX9TyPwdJYicQvXFWgxub9fy/QR",
      "include_colab_link": true
    },
    "kernelspec": {
      "name": "python3",
      "display_name": "Python 3"
    },
    "language_info": {
      "name": "python"
    }
  },
  "cells": [
    {
      "cell_type": "markdown",
      "metadata": {
        "id": "view-in-github",
        "colab_type": "text"
      },
      "source": [
        "<a href=\"https://colab.research.google.com/github/TuanLBT/AI_learning/blob/main/deep_learning.ipynb\" target=\"_parent\"><img src=\"https://colab.research.google.com/assets/colab-badge.svg\" alt=\"Open In Colab\"/></a>"
      ]
    },
    {
      "cell_type": "code",
      "execution_count": 3,
      "metadata": {
        "colab": {
          "base_uri": "https://localhost:8080/",
          "height": 288
        },
        "id": "6pv2W41XihFa",
        "outputId": "802608ba-f131-4c64-f048-44d127fe747f"
      },
      "outputs": [
        {
          "output_type": "display_data",
          "data": {
            "text/plain": [
              "<Figure size 432x288 with 1 Axes>"
            ],
            "image/png": "[encoded data removed]"
          },
          "metadata": {
            "needs_background": "light"
          }
        }
      ],
      "source": [
        "import pandas as pd\n",
        "import numpy as np\n",
        "import matplotlib.pyplot as plt\n",
        "\n",
        "data = 'Simple_linear_regression.csv'\n",
        "dataframe = pd.read_csv(data)\n",
        "\n",
        "x = dataframe['SAT']\n",
        "y = dataframe['GPA']\n",
        "\n",
        "plt.scatter(x,y)\n",
        "plt.xlabel('SAT',fontsize = 20)\n",
        "plt.ylabel('GPA',fontsize=20)\n",
        "plt.show()\n"
      ]
    },
    {
      "cell_type": "markdown",
      "source": [
        "# New Section"
      ],
      "metadata": {
        "id": "dG82pQtNjoJl"
      }
    },
    {
      "cell_type": "code",
      "source": [
        "dataframe.hist()\n",
        "plt.show()"
      ],
      "metadata": {
        "colab": {
          "base_uri": "https://localhost:8080/",
          "height": 281
        },
        "id": "rSuwPQoxi5td",
        "outputId": "8d0b40ca-f1dd-49df-dc42-8091df0429d3"
      },
      "execution_count": 6,
      "outputs": [
        {
          "output_type": "display_data",
          "data": {
            "text/plain": [
              "<Figure size 432x288 with 2 Axes>"
            ],
            "image/png": "[encoded data removed]"
          },
          "metadata": {
            "needs_background": "light"
          }
        }
      ]
    },
    {
      "cell_type": "code",
      "source": [
        "correnlation = dataframe.corr()\n",
        "print(correnlation)"
      ],
      "metadata": {
        "colab": {
          "base_uri": "https://localhost:8080/"
        },
        "id": "CoBfzyawlDEg",
        "outputId": "84b772c7-4607-40cf-a1e9-d9960b227f72"
      },
      "execution_count": 7,
      "outputs": [
        {
          "output_type": "stream",
          "name": "stdout",
          "text": [
            "          SAT       GPA\n",
            "SAT  1.000000  0.637184\n",
            "GPA  0.637184  1.000000\n"
          ]
        }
      ]
    },
    {
      "cell_type": "code",
      "source": [],
      "metadata": {
        "id": "nYEObWRwok-R"
      },
      "execution_count": null,
      "outputs": []
    },
    {
      "cell_type": "code",
      "source": [
        "from sklearn import linear_model\n",
        "import pandas as pd\n",
        "import numpy as np\n",
        "import matplotlib.pyplot as plt\n",
        "x = np.array(dataframe['SAT'])\n",
        "y = np.array(dataframe['GPA'])\n",
        "regression_model = linear_model.LinearRegression() #là biến hồi quy tuyến tính\n",
        "regression_model.fit(x.reshape(1,84), y.reshape(1,84)) #hàm để học dữ liệu\n",
        "#thường dành ra 80% để học, còn lại là đánh giá test nhưng ở đây sẽ sử dụng 100%\n",
        "print('model intercept')\n",
        "print(regression_model.intercept_)\n",
        "print('model coefficient')\n",
        "print(regression_model.coef_)"
      ],
      "metadata": {
        "colab": {
          "base_uri": "https://localhost:8080/"
        },
        "id": "sSdb7V42mewd",
        "outputId": "a04a2d90-e0e1-4b66-b204-ab688a142250"
      },
      "execution_count": 15,
      "outputs": [
        {
          "output_type": "stream",
          "name": "stdout",
          "text": [
            "[2.4  2.52 2.54 2.74 2.83 2.91 3.   3.   3.01 3.01 3.02 3.07 3.08 3.08\n",
            " 3.12 3.17 3.17 3.17 3.17 3.19 3.19 3.19 3.2  3.21 3.24 3.28 3.28 3.28\n",
            " 3.28 3.28 3.28 3.28 3.29 3.29 3.29 3.31 3.32 3.34 3.37 3.37 3.37 3.38\n",
            " 3.38 3.39 3.39 3.4  3.4  3.4  3.41 3.41 3.41 3.42 3.42 3.42 3.44 3.47\n",
            " 3.47 3.47 3.47 3.48 3.49 3.49 3.5  3.51 3.51 3.52 3.52 3.54 3.58 3.58\n",
            " 3.59 3.59 3.6  3.6  3.61 3.62 3.64 3.65 3.71 3.71 3.71 3.73 3.76 3.81]\n",
            "[[0. 0. 0. ... 0. 0. 0.]\n",
            " [0. 0. 0. ... 0. 0. 0.]\n",
            " [0. 0. 0. ... 0. 0. 0.]\n",
            " ...\n",
            " [0. 0. 0. ... 0. 0. 0.]\n",
            " [0. 0. 0. ... 0. 0. 0.]\n",
            " [0. 0. 0. ... 0. 0. 0.]]\n"
          ]
        }
      ]
    },
    {
      "cell_type": "code",
      "source": [
        "#bai tap\n",
        "import pandas as pd\n",
        "url = 'mtcars.csv'\n",
        "dataframe = pd.read_csv(url)\n",
        "\n",
        "mpg = np.array(dataframe['mpg'])\n",
        "disp = np.array(dataframe['disp'])\n",
        "hp = np.array(dataframe['hp'])\n",
        "wt = np.array(dataframe['wt'])\n",
        "correnlation = dataframe.corr() #moi quan nhe\n",
        "print(correnlation)"
      ],
      "metadata": {
        "colab": {
          "base_uri": "https://localhost:8080/"
        },
        "id": "lBhBHbAho-3W",
        "outputId": "ebddbbbe-298e-462b-bdd0-5d44e425be4f"
      },
      "execution_count": 17,
      "outputs": [
        {
          "output_type": "stream",
          "name": "stdout",
          "text": [
            "           mpg      disp        hp        wt\n",
            "mpg   1.000000 -0.847551 -0.776168 -0.867659\n",
            "disp -0.847551  1.000000  0.790949  0.887980\n",
            "hp   -0.776168  0.790949  1.000000  0.658748\n",
            "wt   -0.867659  0.887980  0.658748  1.000000\n"
          ]
        }
      ]
    },
    {
      "cell_type": "code",
      "source": [
        "dataframe.hist()\n",
        "plt.show()"
      ],
      "metadata": {
        "colab": {
          "base_uri": "https://localhost:8080/",
          "height": 281
        },
        "id": "ojsGCDUQqxiu",
        "outputId": "744e3d30-50cb-43c4-9669-89bb644c9c05"
      },
      "execution_count": 18,
      "outputs": [
        {
          "output_type": "display_data",
          "data": {
            "text/plain": [
              "<Figure size 432x288 with 4 Axes>"
            ],
            "image/png": "[encoded data removed]"
          },
          "metadata": {
            "needs_background": "light"
          }
        }
      ]
    },
    {
      "cell_type": "code",
      "source": [
        "import pandas as pd\n",
        "url = 'mtcars.csv'\n",
        "dataframe = pd.read_csv(url)\n",
        "\n",
        "mpg = np.array(dataframe['mpg'])\n",
        "disp = np.array(dataframe['disp'])\n",
        "hp = np.array(dataframe['hp'])\n",
        "wt = np.array(dataframe['wt'])\n",
        "X =  dataframe.drop(dataframe.columns[0:2],axis=1) #vì giá trị tương quan giữa mpg với wt là mạnh nhất (1- -0.86) nên lấy 2 cột này\n",
        "dataframe.plot(kind='scatter',x='wt',y='mpg',figsize=(9,9),color='red')"
      ],
      "metadata": {
        "colab": {
          "base_uri": "https://localhost:8080/",
          "height": 571
        },
        "id": "V0GSGPc-q4UK",
        "outputId": "613d3fd7-da02-4d41-9ac3-2c6e0681619c"
      },
      "execution_count": 23,
      "outputs": [
        {
          "output_type": "execute_result",
          "data": {
            "text/plain": [
              "<AxesSubplot:xlabel='wt', ylabel='mpg'>"
            ]
          },
          "metadata": {},
          "execution_count": 23
        },
        {
          "output_type": "display_data",
          "data": {
            "text/plain": [
              "<Figure size 648x648 with 1 Axes>"
            ],
            "image/png": "[encoded data removed]"
          },
          "metadata": {
            "needs_background": "light"
          }
        }
      ]
    },
    {
      "cell_type": "code",
      "source": [
        "from sklearn import linear_model\n",
        "\n",
        "mpg = np.array(dataframe['mpg'])\n",
        "model = linear_model.LinearRegression()\n",
        "model.fit(X=pd.DataFrame(dataframe['wt']),y=dataframe['mpg'])\n",
        "print('model intercept')\n",
        "print(model.intercept_)\n",
        "print('model coefficient')\n",
        "print(model.coef_)\n",
        "print('Độ chính xác')\n",
        "model.score(X=pd.DataFrame(dataframe['wt']),y=dataframe['mpg']) #ddooj chinh xac\n",
        "\n",
        "#tính toán sự chênh lệch giữa dữ liệu đầu ra và dữ liệu tiên đoán\n",
        "y_pred = model.predict(X=pd.DataFrame(dataframe['wt']))\n",
        "residual = dataframe['mpg'] - y_pred\n",
        "residual.describe()"
      ],
      "metadata": {
        "colab": {
          "base_uri": "https://localhost:8080/"
        },
        "id": "IMR91ahts0fX",
        "outputId": "009bf003-cbd0-430b-fc65-7469777e5f5d"
      },
      "execution_count": 35,
      "outputs": [
        {
          "output_type": "stream",
          "name": "stdout",
          "text": [
            "model intercept\n",
            "37.28512616734204\n",
            "model coefficient\n",
            "[-5.34447157]\n",
            "Độ chính xác\n"
          ]
        },
        {
          "output_type": "execute_result",
          "data": {
            "text/plain": [
              "count    3.200000e+01\n",
              "mean    -8.215650e-15\n",
              "std      2.996352e+00\n",
              "min     -4.543151e+00\n",
              "25%     -2.364709e+00\n",
              "50%     -1.251956e-01\n",
              "75%      1.409561e+00\n",
              "max      6.872711e+00\n",
              "Name: mpg, dtype: float64"
            ]
          },
          "metadata": {},
          "execution_count": 35
        }
      ]
    },
    {
      "cell_type": "code",
      "source": [
        "from sklearn import linear_model\n",
        "\n",
        "mpg = np.array(dataframe['mpg'])\n",
        "model = linear_model.LinearRegression()\n",
        "model.fit(X=pd.DataFrame(dataframe['wt']),y=dataframe['mpg'])\n",
        "print('model intercept')\n",
        "print(model.intercept_)\n",
        "print('model coefficient')\n",
        "print(model.coef_)\n",
        "print('Độ chính xác')\n",
        "model.score(X=pd.DataFrame(dataframe['wt']),y=dataframe['mpg'])\n",
        "\n",
        "y_pred = model.predict(X=pd.DataFrame(dataframe['wt']))\n",
        "residual = dataframe['mpg'] - y_pred\n",
        "residual.describe()\n",
        "dataframe.plot(kind='scatter',x='wt',y='mpg',figsize=(9,9),color='red')\n",
        "plt.plot(dataframe['wt'], y_pred, color='red')"
      ],
      "metadata": {
        "colab": {
          "base_uri": "https://localhost:8080/",
          "height": 656
        },
        "id": "1fEfi4QWvkam",
        "outputId": "ae56850f-48dc-43c0-9e26-a34a44a8a9c8"
      },
      "execution_count": 37,
      "outputs": [
        {
          "output_type": "stream",
          "name": "stdout",
          "text": [
            "model intercept\n",
            "37.28512616734204\n",
            "model coefficient\n",
            "[-5.34447157]\n",
            "Độ chính xác\n"
          ]
        },
        {
          "output_type": "execute_result",
          "data": {
            "text/plain": [
              "[<matplotlib.lines.Line2D at 0x7fd1f7b08490>]"
            ]
          },
          "metadata": {},
          "execution_count": 37
        },
        {
          "output_type": "display_data",
          "data": {
            "text/plain": [
              "<Figure size 648x648 with 1 Axes>"
            ],
            "image/png": "[encoded data removed]"
          },
          "metadata": {
            "needs_background": "light"
          }
        }
      ]
    }
  ]
}