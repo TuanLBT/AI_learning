{
  "nbformat": 4,
  "nbformat_minor": 0,
  "metadata": {
    "colab": {
      "provenance": [],
      "authorship_tag": "ABX9TyMQa+Molqtg4ySCAJXBvNB7",
      "include_colab_link": true
    },
    "kernelspec": {
      "name": "python3",
      "display_name": "Python 3"
    },
    "language_info": {
      "name": "python"
    }
  },
  "cells": [
    {
      "cell_type": "markdown",
      "metadata": {
        "id": "view-in-github",
        "colab_type": "text"
      },
      "source": [
        "<a href=\"https://colab.research.google.com/github/TuanLBT/AI_learning/blob/main/CYFAR_100.ipynb\" target=\"_parent\"><img src=\"https://colab.research.google.com/assets/colab-badge.svg\" alt=\"Open In Colab\"/></a>"
      ]
    },
    {
      "cell_type": "markdown",
      "source": [],
      "metadata": {
        "id": "qq0M5MkmDYmm"
      }
    },
    {
      "cell_type": "code",
      "source": [
        "pip install tensorflow keras"
      ],
      "metadata": {
        "colab": {
          "base_uri": "https://localhost:8080/"
        },
        "id": "YjI9dT7eETbu",
        "outputId": "bb9386c9-9ddf-4b54-ecd2-8a8a598fd9fd"
      },
      "execution_count": 1,
      "outputs": [
        {
          "output_type": "stream",
          "name": "stdout",
          "text": [
            "Looking in indexes: https://pypi.org/simple, https://us-python.pkg.dev/colab-wheels/public/simple/\n",
            "Requirement already satisfied: tensorflow in /usr/local/lib/python3.9/dist-packages (2.11.0)\n",
            "Requirement already satisfied: keras in /usr/local/lib/python3.9/dist-packages (2.11.0)\n",
            "Requirement already satisfied: numpy>=1.20 in /usr/local/lib/python3.9/dist-packages (from tensorflow) (1.22.4)\n",
            "Requirement already satisfied: setuptools in /usr/local/lib/python3.9/dist-packages (from tensorflow) (67.6.0)\n",
            "Requirement already satisfied: tensorboard<2.12,>=2.11 in /usr/local/lib/python3.9/dist-packages (from tensorflow) (2.11.2)\n",
            "Requirement already satisfied: h5py>=2.9.0 in /usr/local/lib/python3.9/dist-packages (from tensorflow) (3.8.0)\n",
            "Requirement already satisfied: grpcio<2.0,>=1.24.3 in /usr/local/lib/python3.9/dist-packages (from tensorflow) (1.51.3)\n",
            "Requirement already satisfied: tensorflow-estimator<2.12,>=2.11.0 in /usr/local/lib/python3.9/dist-packages (from tensorflow) (2.11.0)\n",
            "Requirement already satisfied: termcolor>=1.1.0 in /usr/local/lib/python3.9/dist-packages (from tensorflow) (2.2.0)\n",
            "Requirement already satisfied: flatbuffers>=2.0 in /usr/local/lib/python3.9/dist-packages (from tensorflow) (23.3.3)\n",
            "Requirement already satisfied: protobuf<3.20,>=3.9.2 in /usr/local/lib/python3.9/dist-packages (from tensorflow) (3.19.6)\n",
            "Requirement already satisfied: packaging in /usr/local/lib/python3.9/dist-packages (from tensorflow) (23.0)\n",
            "Requirement already satisfied: absl-py>=1.0.0 in /usr/local/lib/python3.9/dist-packages (from tensorflow) (1.4.0)\n",
            "Requirement already satisfied: six>=1.12.0 in /usr/local/lib/python3.9/dist-packages (from tensorflow) (1.16.0)\n",
            "Requirement already satisfied: typing-extensions>=3.6.6 in /usr/local/lib/python3.9/dist-packages (from tensorflow) (4.5.0)\n",
            "Requirement already satisfied: google-pasta>=0.1.1 in /usr/local/lib/python3.9/dist-packages (from tensorflow) (0.2.0)\n",
            "Requirement already satisfied: gast<=0.4.0,>=0.2.1 in /usr/local/lib/python3.9/dist-packages (from tensorflow) (0.4.0)\n",
            "Requirement already satisfied: tensorflow-io-gcs-filesystem>=0.23.1 in /usr/local/lib/python3.9/dist-packages (from tensorflow) (0.31.0)\n",
            "Requirement already satisfied: opt-einsum>=2.3.2 in /usr/local/lib/python3.9/dist-packages (from tensorflow) (3.3.0)\n",
            "Requirement already satisfied: wrapt>=1.11.0 in /usr/local/lib/python3.9/dist-packages (from tensorflow) (1.15.0)\n",
            "Requirement already satisfied: astunparse>=1.6.0 in /usr/local/lib/python3.9/dist-packages (from tensorflow) (1.6.3)\n",
            "Requirement already satisfied: libclang>=13.0.0 in /usr/local/lib/python3.9/dist-packages (from tensorflow) (15.0.6.1)\n",
            "Requirement already satisfied: wheel<1.0,>=0.23.0 in /usr/local/lib/python3.9/dist-packages (from astunparse>=1.6.0->tensorflow) (0.40.0)\n",
            "Requirement already satisfied: google-auth-oauthlib<0.5,>=0.4.1 in /usr/local/lib/python3.9/dist-packages (from tensorboard<2.12,>=2.11->tensorflow) (0.4.6)\n",
            "Requirement already satisfied: werkzeug>=1.0.1 in /usr/local/lib/python3.9/dist-packages (from tensorboard<2.12,>=2.11->tensorflow) (2.2.3)\n",
            "Requirement already satisfied: tensorboard-plugin-wit>=1.6.0 in /usr/local/lib/python3.9/dist-packages (from tensorboard<2.12,>=2.11->tensorflow) (1.8.1)\n",
            "Requirement already satisfied: google-auth<3,>=1.6.3 in /usr/local/lib/python3.9/dist-packages (from tensorboard<2.12,>=2.11->tensorflow) (2.16.2)\n",
            "Requirement already satisfied: requests<3,>=2.21.0 in /usr/local/lib/python3.9/dist-packages (from tensorboard<2.12,>=2.11->tensorflow) (2.27.1)\n",
            "Requirement already satisfied: tensorboard-data-server<0.7.0,>=0.6.0 in /usr/local/lib/python3.9/dist-packages (from tensorboard<2.12,>=2.11->tensorflow) (0.6.1)\n",
            "Requirement already satisfied: markdown>=2.6.8 in /usr/local/lib/python3.9/dist-packages (from tensorboard<2.12,>=2.11->tensorflow) (3.4.3)\n",
            "Requirement already satisfied: rsa<5,>=3.1.4 in /usr/local/lib/python3.9/dist-packages (from google-auth<3,>=1.6.3->tensorboard<2.12,>=2.11->tensorflow) (4.9)\n",
            "Requirement already satisfied: cachetools<6.0,>=2.0.0 in /usr/local/lib/python3.9/dist-packages (from google-auth<3,>=1.6.3->tensorboard<2.12,>=2.11->tensorflow) (5.3.0)\n",
            "Requirement already satisfied: pyasn1-modules>=0.2.1 in /usr/local/lib/python3.9/dist-packages (from google-auth<3,>=1.6.3->tensorboard<2.12,>=2.11->tensorflow) (0.2.8)\n",
            "Requirement already satisfied: requests-oauthlib>=0.7.0 in /usr/local/lib/python3.9/dist-packages (from google-auth-oauthlib<0.5,>=0.4.1->tensorboard<2.12,>=2.11->tensorflow) (1.3.1)\n",
            "Requirement already satisfied: importlib-metadata>=4.4 in /usr/local/lib/python3.9/dist-packages (from markdown>=2.6.8->tensorboard<2.12,>=2.11->tensorflow) (6.1.0)\n",
            "Requirement already satisfied: urllib3<1.27,>=1.21.1 in /usr/local/lib/python3.9/dist-packages (from requests<3,>=2.21.0->tensorboard<2.12,>=2.11->tensorflow) (1.26.15)\n",
            "Requirement already satisfied: idna<4,>=2.5 in /usr/local/lib/python3.9/dist-packages (from requests<3,>=2.21.0->tensorboard<2.12,>=2.11->tensorflow) (3.4)\n",
            "Requirement already satisfied: certifi>=2017.4.17 in /usr/local/lib/python3.9/dist-packages (from requests<3,>=2.21.0->tensorboard<2.12,>=2.11->tensorflow) (2022.12.7)\n",
            "Requirement already satisfied: charset-normalizer~=2.0.0 in /usr/local/lib/python3.9/dist-packages (from requests<3,>=2.21.0->tensorboard<2.12,>=2.11->tensorflow) (2.0.12)\n",
            "Requirement already satisfied: MarkupSafe>=2.1.1 in /usr/local/lib/python3.9/dist-packages (from werkzeug>=1.0.1->tensorboard<2.12,>=2.11->tensorflow) (2.1.2)\n",
            "Requirement already satisfied: zipp>=0.5 in /usr/local/lib/python3.9/dist-packages (from importlib-metadata>=4.4->markdown>=2.6.8->tensorboard<2.12,>=2.11->tensorflow) (3.15.0)\n",
            "Requirement already satisfied: pyasn1<0.5.0,>=0.4.6 in /usr/local/lib/python3.9/dist-packages (from pyasn1-modules>=0.2.1->google-auth<3,>=1.6.3->tensorboard<2.12,>=2.11->tensorflow) (0.4.8)\n",
            "Requirement already satisfied: oauthlib>=3.0.0 in /usr/local/lib/python3.9/dist-packages (from requests-oauthlib>=0.7.0->google-auth-oauthlib<0.5,>=0.4.1->tensorboard<2.12,>=2.11->tensorflow) (3.2.2)\n"
          ]
        }
      ]
    },
    {
      "cell_type": "markdown",
      "source": [
        "IMPORT THƯ VIỆN"
      ],
      "metadata": {
        "id": "0tMXpoJfDZy1"
      }
    },
    {
      "cell_type": "code",
      "source": [
        "from keras.datasets import cifar100\n",
        "from keras.models import Sequential\n",
        "from keras.layers import Dense\n",
        "(x_trains,y_trains), (x_tests,y_tests) = cifar100.load_data()\n",
        "\n",
        "from keras.utils import to_categorical #lệnh chuyển qua hot endcoding\n",
        "\n",
        "from keras.utils import load_img\n",
        "from tensorflow.keras.utils import img_to_array\n",
        "import matplotlib.pyplot as plt\n",
        "import numpy as np\n",
        "\n",
        "from keras.models import load_model"
      ],
      "metadata": {
        "id": "o04z52hKDcCV",
        "colab": {
          "base_uri": "https://localhost:8080/"
        },
        "outputId": "682fc483-3375-481c-936e-055b5846f405"
      },
      "execution_count": 2,
      "outputs": [
        {
          "output_type": "stream",
          "name": "stdout",
          "text": [
            "Downloading data from https://www.cs.toronto.edu/~kriz/cifar-100-python.tar.gz\n",
            "169001437/169001437 [==============================] - 4s 0us/step\n"
          ]
        }
      ]
    },
    {
      "cell_type": "markdown",
      "source": [
        "kIỂM TRA KÍCH THƯỚC"
      ],
      "metadata": {
        "id": "C007NzuXEodd"
      }
    },
    {
      "cell_type": "code",
      "source": [
        "x_trains.shape"
      ],
      "metadata": {
        "colab": {
          "base_uri": "https://localhost:8080/"
        },
        "id": "q2xoxgvgEuOw",
        "outputId": "da36a384-6e3b-4f8b-e933-3b14c6891420"
      },
      "execution_count": 3,
      "outputs": [
        {
          "output_type": "execute_result",
          "data": {
            "text/plain": [
              "(50000, 32, 32, 3)"
            ]
          },
          "metadata": {},
          "execution_count": 3
        }
      ]
    },
    {
      "cell_type": "code",
      "source": [
        "y_trains.shape"
      ],
      "metadata": {
        "colab": {
          "base_uri": "https://localhost:8080/"
        },
        "id": "hAMqoeyfEzM3",
        "outputId": "bcfc1780-93c2-40dd-af7a-7dc854985cf6"
      },
      "execution_count": 4,
      "outputs": [
        {
          "output_type": "execute_result",
          "data": {
            "text/plain": [
              "(50000, 1)"
            ]
          },
          "metadata": {},
          "execution_count": 4
        }
      ]
    },
    {
      "cell_type": "code",
      "source": [
        "x_tests.shape"
      ],
      "metadata": {
        "colab": {
          "base_uri": "https://localhost:8080/"
        },
        "id": "IoS70eUVE62m",
        "outputId": "508b84fd-36f4-45aa-9e10-556278d7aae6"
      },
      "execution_count": 5,
      "outputs": [
        {
          "output_type": "execute_result",
          "data": {
            "text/plain": [
              "(10000, 32, 32, 3)"
            ]
          },
          "metadata": {},
          "execution_count": 5
        }
      ]
    },
    {
      "cell_type": "code",
      "source": [
        "y_tests.shape"
      ],
      "metadata": {
        "colab": {
          "base_uri": "https://localhost:8080/"
        },
        "id": "UCukCgDDE-0d",
        "outputId": "6e6703fe-17a2-4cc5-ac12-d9dae7a076bc"
      },
      "execution_count": 6,
      "outputs": [
        {
          "output_type": "execute_result",
          "data": {
            "text/plain": [
              "(10000, 1)"
            ]
          },
          "metadata": {},
          "execution_count": 6
        }
      ]
    },
    {
      "cell_type": "markdown",
      "source": [
        "Tạo mạng neural (mô hình)"
      ],
      "metadata": {
        "id": "z64fqa6FFSan"
      }
    },
    {
      "cell_type": "code",
      "source": [
        "model = Sequential() #anh gom 32x32 (1024 dau vao)\n",
        "model.add(Dense(600,input_shape=(1024*3,),activation='relu')) #lop dau tien la relu, thu 2 la softmax\n",
        "model.add(Dense(200,activation='relu'))\n",
        "model.add(Dense(100,activation='softmax')) #hàm để phân biệt 0 với 1 (gg thêm) chuyển về ảnh xám\n",
        "#vì mô hình cifar100 có 100 class, nên đầu ra có 100 mức phân loại\n",
        "model.summary()"
      ],
      "metadata": {
        "colab": {
          "base_uri": "https://localhost:8080/"
        },
        "id": "LHRS2gZKFWS2",
        "outputId": "934b12fa-2602-4f54-aeeb-5ebc600352cb"
      },
      "execution_count": 86,
      "outputs": [
        {
          "output_type": "stream",
          "name": "stdout",
          "text": [
            "Model: \"sequential_9\"\n",
            "_________________________________________________________________\n",
            " Layer (type)                Output Shape              Param #   \n",
            "=================================================================\n",
            " dense_27 (Dense)            (None, 600)               1843800   \n",
            "                                                                 \n",
            " dense_28 (Dense)            (None, 200)               120200    \n",
            "                                                                 \n",
            " dense_29 (Dense)            (None, 100)               20100     \n",
            "                                                                 \n",
            "=================================================================\n",
            "Total params: 1,984,100\n",
            "Trainable params: 1,984,100\n",
            "Non-trainable params: 0\n",
            "_________________________________________________________________\n"
          ]
        }
      ]
    },
    {
      "cell_type": "markdown",
      "source": [
        "Xử lý dữ liệu"
      ],
      "metadata": {
        "id": "q-9sjkvkFuHF"
      }
    },
    {
      "cell_type": "code",
      "source": [
        "#scale lại dữ liệu của x_train\n",
        "x_trains = x_trains.reshape([50000,32*32*3,1]) #giá trị 1 mảng chứa giá trị 3 kênh\n",
        "#nó là số nguyên(int) nên phải chuyển sang dạng float\n",
        "x_train = x_trains.astype('float32')/255 "
      ],
      "metadata": {
        "id": "AO8o7gFgFwIu"
      },
      "execution_count": 87,
      "outputs": []
    },
    {
      "cell_type": "code",
      "source": [
        "#scale lại dữ liệu của x_test\n",
        "x_tests = x_tests.reshape([10000,32*32*3,1])\n",
        "#nó là số nguyên(int) nên phải chuyển sang dạng float\n",
        "x_test = x_tests.astype('float32')/255 "
      ],
      "metadata": {
        "id": "HvjXMC7oF37H"
      },
      "execution_count": 88,
      "outputs": []
    },
    {
      "cell_type": "code",
      "source": [
        "#chuyeenr sang encoding het\n",
        "y_train = to_categorical(y_trains,100) \n",
        "y_test = to_categorical(y_tests,100)   "
      ],
      "metadata": {
        "id": "nV2PooWJGYAt"
      },
      "execution_count": 89,
      "outputs": []
    },
    {
      "cell_type": "code",
      "source": [
        "y_train.shape"
      ],
      "metadata": {
        "colab": {
          "base_uri": "https://localhost:8080/"
        },
        "id": "iGqefRqIIYa_",
        "outputId": "71081804-faf3-4051-ac45-8dfd3618f96d"
      },
      "execution_count": 90,
      "outputs": [
        {
          "output_type": "execute_result",
          "data": {
            "text/plain": [
              "(50000, 100)"
            ]
          },
          "metadata": {},
          "execution_count": 90
        }
      ]
    },
    {
      "cell_type": "code",
      "source": [
        "x_train.shape"
      ],
      "metadata": {
        "colab": {
          "base_uri": "https://localhost:8080/"
        },
        "id": "OX2cmL7LJVze",
        "outputId": "fa682f70-0d67-4901-ea2e-6914c1f5329d"
      },
      "execution_count": 91,
      "outputs": [
        {
          "output_type": "execute_result",
          "data": {
            "text/plain": [
              "(50000, 3072, 1)"
            ]
          },
          "metadata": {},
          "execution_count": 91
        }
      ]
    },
    {
      "cell_type": "markdown",
      "source": [
        "Biên dịch\n",
        "\n",
        "1. rmsprop = accurate (10times) = 0.19910000264644623\n",
        "2. sgd = accurate = 0.1547\n",
        "3. adam = 0.2076\n",
        "4. adaletal = 0.04820000007748604\n",
        "5. adagrad = 0.1062\n",
        "6. adamax = 0.2004999965429306\n",
        "7. nadam = 0.23420000076293945"
      ],
      "metadata": {
        "id": "Kva0KigKI7wa"
      }
    },
    {
      "cell_type": "code",
      "source": [
        "model.compile(optimizer='nadam',loss='categorical_crossentropy',metrics = ['accuracy']) #bộ tối ưu cho đầu ra là phân loại(RMSprop). mất mát sư dụng categlanal_cross.. (cũng là phân loại)\n",
        "model.fit(x_train,y_train,epochs=100,batch_size=128) #kích thước học 1 lần ngẫu nhiên 128 thôi, ko học hết, học 1o lần, \n",
        "test_loss,test_acc=model.evaluate(x_test,y_test)\n",
        "print('tét_accuracy',test_acc)\n",
        "print('tét_loss',test_loss)"
      ],
      "metadata": {
        "colab": {
          "base_uri": "https://localhost:8080/"
        },
        "id": "LxznSgQ5I5Me",
        "outputId": "7939a721-d1b5-475e-a33c-aa4135a8485d"
      },
      "execution_count": 92,
      "outputs": [
        {
          "output_type": "stream",
          "name": "stdout",
          "text": [
            "Epoch 1/100\n",
            "391/391 [==============================] - 18s 43ms/step - loss: 4.0809 - accuracy: 0.0803\n",
            "Epoch 2/100\n",
            "391/391 [==============================] - 18s 45ms/step - loss: 3.6640 - accuracy: 0.1451\n",
            "Epoch 3/100\n",
            "391/391 [==============================] - 17s 43ms/step - loss: 3.4968 - accuracy: 0.1736\n",
            "Epoch 4/100\n",
            "391/391 [==============================] - 18s 45ms/step - loss: 3.3833 - accuracy: 0.1948\n",
            "Epoch 5/100\n",
            "391/391 [==============================] - 18s 45ms/step - loss: 3.2899 - accuracy: 0.2111\n",
            "Epoch 6/100\n",
            "391/391 [==============================] - 17s 43ms/step - loss: 3.2202 - accuracy: 0.2234\n",
            "Epoch 7/100\n",
            "391/391 [==============================] - 17s 43ms/step - loss: 3.1522 - accuracy: 0.2364\n",
            "Epoch 8/100\n",
            "391/391 [==============================] - 18s 46ms/step - loss: 3.0974 - accuracy: 0.2485\n",
            "Epoch 9/100\n",
            "391/391 [==============================] - 17s 43ms/step - loss: 3.0481 - accuracy: 0.2539\n",
            "Epoch 10/100\n",
            "391/391 [==============================] - 17s 43ms/step - loss: 3.0039 - accuracy: 0.2636\n",
            "Epoch 11/100\n",
            "391/391 [==============================] - 18s 45ms/step - loss: 2.9612 - accuracy: 0.2693\n",
            "Epoch 12/100\n",
            "391/391 [==============================] - 17s 43ms/step - loss: 2.9140 - accuracy: 0.2799\n",
            "Epoch 13/100\n",
            "391/391 [==============================] - 17s 45ms/step - loss: 2.8832 - accuracy: 0.2851\n",
            "Epoch 14/100\n",
            "391/391 [==============================] - 17s 44ms/step - loss: 2.8462 - accuracy: 0.2914\n",
            "Epoch 15/100\n",
            "391/391 [==============================] - 17s 43ms/step - loss: 2.8091 - accuracy: 0.3021\n",
            "Epoch 16/100\n",
            "391/391 [==============================] - 19s 49ms/step - loss: 2.7746 - accuracy: 0.3063\n",
            "Epoch 17/100\n",
            "391/391 [==============================] - 17s 43ms/step - loss: 2.7418 - accuracy: 0.3133\n",
            "Epoch 18/100\n",
            "391/391 [==============================] - 17s 43ms/step - loss: 2.7121 - accuracy: 0.3192\n",
            "Epoch 19/100\n",
            "391/391 [==============================] - 18s 46ms/step - loss: 2.6777 - accuracy: 0.3242\n",
            "Epoch 20/100\n",
            "391/391 [==============================] - 17s 43ms/step - loss: 2.6455 - accuracy: 0.3344\n",
            "Epoch 21/100\n",
            "391/391 [==============================] - 17s 43ms/step - loss: 2.6130 - accuracy: 0.3383\n",
            "Epoch 22/100\n",
            "391/391 [==============================] - 18s 46ms/step - loss: 2.5853 - accuracy: 0.3442\n",
            "Epoch 23/100\n",
            "391/391 [==============================] - 17s 43ms/step - loss: 2.5605 - accuracy: 0.3494\n",
            "Epoch 24/100\n",
            "391/391 [==============================] - 17s 43ms/step - loss: 2.5258 - accuracy: 0.3580\n",
            "Epoch 25/100\n",
            "391/391 [==============================] - 18s 46ms/step - loss: 2.4970 - accuracy: 0.3642\n",
            "Epoch 26/100\n",
            "391/391 [==============================] - 17s 43ms/step - loss: 2.4726 - accuracy: 0.3688\n",
            "Epoch 27/100\n",
            "391/391 [==============================] - 17s 43ms/step - loss: 2.4469 - accuracy: 0.3759\n",
            "Epoch 28/100\n",
            "391/391 [==============================] - 18s 46ms/step - loss: 2.4206 - accuracy: 0.3798\n",
            "Epoch 29/100\n",
            "391/391 [==============================] - 17s 43ms/step - loss: 2.3952 - accuracy: 0.3870\n",
            "Epoch 30/100\n",
            "391/391 [==============================] - 17s 45ms/step - loss: 2.3678 - accuracy: 0.3923\n",
            "Epoch 31/100\n",
            "391/391 [==============================] - 17s 44ms/step - loss: 2.3478 - accuracy: 0.3952\n",
            "Epoch 32/100\n",
            "391/391 [==============================] - 18s 46ms/step - loss: 2.3203 - accuracy: 0.4003\n",
            "Epoch 33/100\n",
            "391/391 [==============================] - 18s 46ms/step - loss: 2.2969 - accuracy: 0.4057\n",
            "Epoch 34/100\n",
            "391/391 [==============================] - 17s 44ms/step - loss: 2.2775 - accuracy: 0.4099\n",
            "Epoch 35/100\n",
            "391/391 [==============================] - 19s 49ms/step - loss: 2.2546 - accuracy: 0.4150\n",
            "Epoch 36/100\n",
            "391/391 [==============================] - 18s 45ms/step - loss: 2.2310 - accuracy: 0.4203\n",
            "Epoch 37/100\n",
            "391/391 [==============================] - 17s 43ms/step - loss: 2.2114 - accuracy: 0.4227\n",
            "Epoch 38/100\n",
            "391/391 [==============================] - 18s 46ms/step - loss: 2.1920 - accuracy: 0.4302\n",
            "Epoch 39/100\n",
            "391/391 [==============================] - 17s 43ms/step - loss: 2.1703 - accuracy: 0.4345\n",
            "Epoch 40/100\n",
            "391/391 [==============================] - 17s 43ms/step - loss: 2.1530 - accuracy: 0.4385\n",
            "Epoch 41/100\n",
            "391/391 [==============================] - 18s 46ms/step - loss: 2.1368 - accuracy: 0.4422\n",
            "Epoch 42/100\n",
            "391/391 [==============================] - 17s 43ms/step - loss: 2.1085 - accuracy: 0.4481\n",
            "Epoch 43/100\n",
            "391/391 [==============================] - 17s 43ms/step - loss: 2.0958 - accuracy: 0.4508\n",
            "Epoch 44/100\n",
            "391/391 [==============================] - 18s 46ms/step - loss: 2.0798 - accuracy: 0.4551\n",
            "Epoch 45/100\n",
            "391/391 [==============================] - 17s 43ms/step - loss: 2.0616 - accuracy: 0.4562\n",
            "Epoch 46/100\n",
            "391/391 [==============================] - 17s 43ms/step - loss: 2.0425 - accuracy: 0.4636\n",
            "Epoch 47/100\n",
            "391/391 [==============================] - 18s 46ms/step - loss: 2.0265 - accuracy: 0.4679\n",
            "Epoch 48/100\n",
            "391/391 [==============================] - 18s 46ms/step - loss: 2.0092 - accuracy: 0.4714\n",
            "Epoch 49/100\n",
            "391/391 [==============================] - 18s 46ms/step - loss: 1.9923 - accuracy: 0.4761\n",
            "Epoch 50/100\n",
            "391/391 [==============================] - 17s 43ms/step - loss: 1.9782 - accuracy: 0.4784\n",
            "Epoch 51/100\n",
            "391/391 [==============================] - 17s 43ms/step - loss: 1.9551 - accuracy: 0.4822\n",
            "Epoch 52/100\n",
            "391/391 [==============================] - 18s 46ms/step - loss: 1.9427 - accuracy: 0.4872\n",
            "Epoch 53/100\n",
            "391/391 [==============================] - 17s 43ms/step - loss: 1.9304 - accuracy: 0.4890\n",
            "Epoch 54/100\n",
            "391/391 [==============================] - 17s 43ms/step - loss: 1.9147 - accuracy: 0.4928\n",
            "Epoch 55/100\n",
            "391/391 [==============================] - 18s 46ms/step - loss: 1.8975 - accuracy: 0.4979\n",
            "Epoch 56/100\n",
            "391/391 [==============================] - 17s 43ms/step - loss: 1.8859 - accuracy: 0.4982\n",
            "Epoch 57/100\n",
            "391/391 [==============================] - 17s 43ms/step - loss: 1.8660 - accuracy: 0.5035\n",
            "Epoch 58/100\n",
            "391/391 [==============================] - 18s 46ms/step - loss: 1.8572 - accuracy: 0.5057\n",
            "Epoch 59/100\n",
            "391/391 [==============================] - 17s 43ms/step - loss: 1.8382 - accuracy: 0.5106\n",
            "Epoch 60/100\n",
            "391/391 [==============================] - 17s 45ms/step - loss: 1.8285 - accuracy: 0.5135\n",
            "Epoch 61/100\n",
            "391/391 [==============================] - 18s 45ms/step - loss: 1.8160 - accuracy: 0.5156\n",
            "Epoch 62/100\n",
            "391/391 [==============================] - 17s 43ms/step - loss: 1.7969 - accuracy: 0.5202\n",
            "Epoch 63/100\n",
            "391/391 [==============================] - 18s 46ms/step - loss: 1.7819 - accuracy: 0.5243\n",
            "Epoch 64/100\n",
            "391/391 [==============================] - 18s 46ms/step - loss: 1.7738 - accuracy: 0.5252\n",
            "Epoch 65/100\n",
            "391/391 [==============================] - 17s 43ms/step - loss: 1.7579 - accuracy: 0.5298\n",
            "Epoch 66/100\n",
            "391/391 [==============================] - 18s 46ms/step - loss: 1.7506 - accuracy: 0.5321\n",
            "Epoch 67/100\n",
            "391/391 [==============================] - 17s 43ms/step - loss: 1.7362 - accuracy: 0.5337\n",
            "Epoch 68/100\n",
            "391/391 [==============================] - 17s 44ms/step - loss: 1.7266 - accuracy: 0.5368\n",
            "Epoch 69/100\n",
            "391/391 [==============================] - 18s 45ms/step - loss: 1.7202 - accuracy: 0.5386\n",
            "Epoch 70/100\n",
            "391/391 [==============================] - 17s 43ms/step - loss: 1.6990 - accuracy: 0.5438\n",
            "Epoch 71/100\n",
            "391/391 [==============================] - 18s 45ms/step - loss: 1.6847 - accuracy: 0.5461\n",
            "Epoch 72/100\n",
            "391/391 [==============================] - 17s 44ms/step - loss: 1.6748 - accuracy: 0.5504\n",
            "Epoch 73/100\n",
            "391/391 [==============================] - 17s 43ms/step - loss: 1.6635 - accuracy: 0.5523\n",
            "Epoch 74/100\n",
            "391/391 [==============================] - 18s 46ms/step - loss: 1.6545 - accuracy: 0.5551\n",
            "Epoch 75/100\n",
            "391/391 [==============================] - 17s 43ms/step - loss: 1.6409 - accuracy: 0.5575\n",
            "Epoch 76/100\n",
            "391/391 [==============================] - 17s 43ms/step - loss: 1.6309 - accuracy: 0.5604\n",
            "Epoch 77/100\n",
            "391/391 [==============================] - 18s 46ms/step - loss: 1.6164 - accuracy: 0.5629\n",
            "Epoch 78/100\n",
            "391/391 [==============================] - 17s 43ms/step - loss: 1.6066 - accuracy: 0.5671\n",
            "Epoch 79/100\n",
            "391/391 [==============================] - 17s 43ms/step - loss: 1.5988 - accuracy: 0.5663\n",
            "Epoch 80/100\n",
            "391/391 [==============================] - 19s 49ms/step - loss: 1.5835 - accuracy: 0.5720\n",
            "Epoch 81/100\n",
            "391/391 [==============================] - 17s 43ms/step - loss: 1.5695 - accuracy: 0.5760\n",
            "Epoch 82/100\n",
            "391/391 [==============================] - 18s 46ms/step - loss: 1.5578 - accuracy: 0.5783\n",
            "Epoch 83/100\n",
            "391/391 [==============================] - 17s 43ms/step - loss: 1.5600 - accuracy: 0.5780\n",
            "Epoch 84/100\n",
            "391/391 [==============================] - 17s 43ms/step - loss: 1.5389 - accuracy: 0.5845\n",
            "Epoch 85/100\n",
            "391/391 [==============================] - 18s 46ms/step - loss: 1.5348 - accuracy: 0.5825\n",
            "Epoch 86/100\n",
            "391/391 [==============================] - 17s 43ms/step - loss: 1.5183 - accuracy: 0.5905\n",
            "Epoch 87/100\n",
            "391/391 [==============================] - 17s 43ms/step - loss: 1.5132 - accuracy: 0.5878\n",
            "Epoch 88/100\n",
            "391/391 [==============================] - 18s 46ms/step - loss: 1.5048 - accuracy: 0.5897\n",
            "Epoch 89/100\n",
            "391/391 [==============================] - 17s 43ms/step - loss: 1.4905 - accuracy: 0.5939\n",
            "Epoch 90/100\n",
            "391/391 [==============================] - 17s 43ms/step - loss: 1.4837 - accuracy: 0.5975\n",
            "Epoch 91/100\n",
            "391/391 [==============================] - 18s 47ms/step - loss: 1.4812 - accuracy: 0.5959\n",
            "Epoch 92/100\n",
            "391/391 [==============================] - 17s 43ms/step - loss: 1.4745 - accuracy: 0.5978\n",
            "Epoch 93/100\n",
            "391/391 [==============================] - 18s 45ms/step - loss: 1.4629 - accuracy: 0.5999\n",
            "Epoch 94/100\n",
            "391/391 [==============================] - 17s 44ms/step - loss: 1.4533 - accuracy: 0.6025\n",
            "Epoch 95/100\n",
            "391/391 [==============================] - 17s 45ms/step - loss: 1.4434 - accuracy: 0.6072\n",
            "Epoch 96/100\n",
            "391/391 [==============================] - 19s 48ms/step - loss: 1.4278 - accuracy: 0.6083\n",
            "Epoch 97/100\n",
            "391/391 [==============================] - 17s 43ms/step - loss: 1.4214 - accuracy: 0.6103\n",
            "Epoch 98/100\n",
            "391/391 [==============================] - 17s 43ms/step - loss: 1.4109 - accuracy: 0.6114\n",
            "Epoch 99/100\n",
            "391/391 [==============================] - 18s 46ms/step - loss: 1.4065 - accuracy: 0.6154\n",
            "Epoch 100/100\n",
            "391/391 [==============================] - 17s 43ms/step - loss: 1.4025 - accuracy: 0.6137\n",
            "313/313 [==============================] - 2s 7ms/step - loss: 5.6539 - accuracy: 0.2208\n",
            "tét_accuracy 0.2207999974489212\n",
            "tét_loss 5.653903961181641\n"
          ]
        }
      ]
    },
    {
      "cell_type": "code",
      "source": [
        "#test mo hinh\n",
        "'''\n",
        "from keras.utils import load_img\n",
        "from tensorflow.keras.utils import img_to_array\n",
        "import matplotlib.pyplot as plt\n",
        "import numpy as np\n",
        "img = load_img('butterfly.jpg',target_size=(32,32))\n",
        "plt.imshow(img)\n",
        "img = img_to_array(img)\n",
        "img = img.reshape(1,-1)\n",
        "img = img.astype('float32')\n",
        "img = img/255\n",
        "np.argmax(model.predict(img),axis=-1)'''\n"
      ],
      "metadata": {
        "colab": {
          "base_uri": "https://localhost:8080/",
          "height": 70
        },
        "id": "fFPZBCdYf8q2",
        "outputId": "4892f2cc-65cc-463d-d0b1-82ee799906a6"
      },
      "execution_count": 93,
      "outputs": [
        {
          "output_type": "execute_result",
          "data": {
            "text/plain": [
              "\"\\nfrom keras.utils import load_img\\nfrom tensorflow.keras.utils import img_to_array\\nimport matplotlib.pyplot as plt\\nimport numpy as np\\nimg = load_img('butterfly.jpg',target_size=(32,32))\\nplt.imshow(img)\\nimg = img_to_array(img)\\nimg = img.reshape(1,-1)\\nimg = img.astype('float32')\\nimg = img/255\\nnp.argmax(model.predict(img),axis=-1)\""
            ],
            "application/vnd.google.colaboratory.intrinsic+json": {
              "type": "string"
            }
          },
          "metadata": {},
          "execution_count": 93
        }
      ]
    }
  ]
}