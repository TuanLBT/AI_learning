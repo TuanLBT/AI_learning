{
  "nbformat": 4,
  "nbformat_minor": 0,
  "metadata": {
    "colab": {
      "provenance": [],
      "mount_file_id": "https://github.com/TuanLBT/AI_learning/blob/main/drive_nang_cao.ipynb",
      "authorship_tag": "ABX9TyOHOqFjRw/fRTIyrNpxQ1N2",
      "include_colab_link": true
    },
    "kernelspec": {
      "name": "python3",
      "display_name": "Python 3"
    },
    "language_info": {
      "name": "python"
    },
    "accelerator": "GPU",
    "gpuClass": "standard"
  },
  "cells": [
    {
      "cell_type": "markdown",
      "metadata": {
        "id": "view-in-github",
        "colab_type": "text"
      },
      "source": [
        "<a href=\"https://colab.research.google.com/github/TuanLBT/AI_learning/blob/main/drive_nang_cao.ipynb\" target=\"_parent\"><img src=\"https://colab.research.google.com/assets/colab-badge.svg\" alt=\"Open In Colab\"/></a>"
      ]
    },
    {
      "cell_type": "markdown",
      "source": [
        "Tạo set data (chưa split)"
      ],
      "metadata": {
        "id": "K1r_dNuDtQRG"
      }
    },
    {
      "cell_type": "code",
      "execution_count": 2,
      "metadata": {
        "id": "SVgnsIbsHpEV"
      },
      "outputs": [],
      "source": [
        "from os import listdir\n",
        "from numpy import asarray\n",
        "from numpy import save\n",
        "from keras.utils.image_utils import img_to_array\n",
        "from keras.utils import load_img"
      ]
    },
    {
      "cell_type": "code",
      "source": [
        "folder='/content/drive/MyDrive/Anh_lop/'"
      ],
      "metadata": {
        "id": "Nzgt6HZGI2jY"
      },
      "execution_count": 3,
      "outputs": []
    },
    {
      "cell_type": "code",
      "source": [
        "photos,labels = list(),list()\n",
        "for file in listdir(folder):\n",
        "  output = 0.0\n",
        "  if file.startswith('Tuan_'):\n",
        "    output=1.0\n",
        "  if file.startswith('BINH_'):\n",
        "    output=2.0\n",
        "  if file.startswith('Chuong_'):\n",
        "    output=3.0\n",
        "  if file.startswith('Dong_'):\n",
        "    output=4.0\n",
        "  if file.startswith('Hieu_'):\n",
        "    output=5.0\n",
        "  if file.startswith('Nam_'):\n",
        "    output=6.0\n",
        "  if file.startswith('Phi_'):\n",
        "    output=7.0\n",
        "  if file.startswith('Phong_'):\n",
        "    output=8.0\n",
        "  if file.startswith('Thang_'):\n",
        "    output=9.0\n",
        "  if file.startswith('Thanh_'):\n",
        "    output=10.0\n",
        "  if file.startswith('Tri_'):\n",
        "    output=11.0\n",
        "  if file.startswith('Tung_'):\n",
        "    output=12.0\n",
        "  photo = load_img(folder+file,target_size=(30,40))\n",
        "  photo = img_to_array(photo)\n",
        "  photos.append(photo)\n",
        "  labels.append(output)\n"
      ],
      "metadata": {
        "id": "D-y1Ca_9I9NP"
      },
      "execution_count": 4,
      "outputs": []
    },
    {
      "cell_type": "code",
      "source": [
        "photos = asarray(photos)\n",
        "labels = asarray(labels)\n",
        "save('/content/drive/MyDrive/photo_lop.npy',photos)\n",
        "save('/content/drive/MyDrive/label_lop.npy',labels)"
      ],
      "metadata": {
        "id": "RDRBzahFMlZZ"
      },
      "execution_count": 5,
      "outputs": []
    },
    {
      "cell_type": "code",
      "source": [
        "photos.shape"
      ],
      "metadata": {
        "colab": {
          "base_uri": "https://localhost:8080/"
        },
        "id": "tdlxj0FwtrHW",
        "outputId": "f14a29e5-a43b-4c9f-9a8e-41ac087b838d"
      },
      "execution_count": 6,
      "outputs": [
        {
          "output_type": "execute_result",
          "data": {
            "text/plain": [
              "(722, 30, 40, 3)"
            ]
          },
          "metadata": {},
          "execution_count": 6
        }
      ]
    },
    {
      "cell_type": "code",
      "source": [
        "labels.shape"
      ],
      "metadata": {
        "id": "qW5oBRWltyyO",
        "outputId": "ffdcfb29-5a37-4ed7-984d-5a5c91d1adc4",
        "colab": {
          "base_uri": "https://localhost:8080/"
        }
      },
      "execution_count": 7,
      "outputs": [
        {
          "output_type": "execute_result",
          "data": {
            "text/plain": [
              "(722,)"
            ]
          },
          "metadata": {},
          "execution_count": 7
        }
      ]
    },
    {
      "cell_type": "markdown",
      "source": [
        "split data thành 70% train, 30% test"
      ],
      "metadata": {
        "id": "EbOrabFFONmq"
      }
    },
    {
      "cell_type": "code",
      "source": [
        "from sklearn.model_selection import train_test_split"
      ],
      "metadata": {
        "id": "9NLMtinNJI8V"
      },
      "execution_count": 8,
      "outputs": []
    },
    {
      "cell_type": "code",
      "source": [
        "train_x, test_x, train_y,  test_y = train_test_split(photos,labels, test_size=0.3, train_size=0.7)\n",
        "#test_x, test_y = train_test_split(photos,labels, test_size=0.3)"
      ],
      "metadata": {
        "id": "kx--CED_JMyd"
      },
      "execution_count": 9,
      "outputs": []
    },
    {
      "cell_type": "code",
      "source": [
        "train_x.shape"
      ],
      "metadata": {
        "colab": {
          "base_uri": "https://localhost:8080/"
        },
        "id": "pExn-uhYOCD8",
        "outputId": "9217c538-bc88-4cb6-d2f1-69122fe79ae9"
      },
      "execution_count": 10,
      "outputs": [
        {
          "output_type": "execute_result",
          "data": {
            "text/plain": [
              "(505, 30, 40, 3)"
            ]
          },
          "metadata": {},
          "execution_count": 10
        }
      ]
    },
    {
      "cell_type": "code",
      "source": [
        "test_x.shape"
      ],
      "metadata": {
        "colab": {
          "base_uri": "https://localhost:8080/"
        },
        "id": "6tAIHXolOGBp",
        "outputId": "3248d90c-c417-4132-8f6a-8f9961577b05"
      },
      "execution_count": 11,
      "outputs": [
        {
          "output_type": "execute_result",
          "data": {
            "text/plain": [
              "(217, 30, 40, 3)"
            ]
          },
          "metadata": {},
          "execution_count": 11
        }
      ]
    },
    {
      "cell_type": "markdown",
      "source": [
        "scale lại data"
      ],
      "metadata": {
        "id": "fwvDrbndOStr"
      }
    },
    {
      "cell_type": "code",
      "source": [
        "train_x = train_x.reshape([505,30,40,3])\n",
        "train_x = train_x.astype('float32')\n",
        "train_x = train_x/255"
      ],
      "metadata": {
        "id": "hz2YPqf_OWXT"
      },
      "execution_count": 12,
      "outputs": []
    },
    {
      "cell_type": "code",
      "source": [
        "test_x = test_x.reshape([217,30,40,3])\n",
        "test_x = test_x.astype('float32')\n",
        "test_x = test_x/255"
      ],
      "metadata": {
        "id": "8VDXTIw7OaZC"
      },
      "execution_count": 13,
      "outputs": []
    },
    {
      "cell_type": "code",
      "source": [
        "from keras.utils import to_categorical\n",
        "y_train = to_categorical(train_y)\n",
        "y_test = to_categorical(test_y)"
      ],
      "metadata": {
        "id": "FlQmIW8ePkhL"
      },
      "execution_count": 14,
      "outputs": []
    },
    {
      "cell_type": "code",
      "source": [
        "train_x.shape"
      ],
      "metadata": {
        "colab": {
          "base_uri": "https://localhost:8080/"
        },
        "id": "1gJ9fXuDTBn9",
        "outputId": "9597b765-6df5-463d-e7f2-d831605ba156"
      },
      "execution_count": 15,
      "outputs": [
        {
          "output_type": "execute_result",
          "data": {
            "text/plain": [
              "(505, 30, 40, 3)"
            ]
          },
          "metadata": {},
          "execution_count": 15
        }
      ]
    },
    {
      "cell_type": "code",
      "source": [
        "y_train.shape"
      ],
      "metadata": {
        "colab": {
          "base_uri": "https://localhost:8080/"
        },
        "id": "_PdikE-aTE_7",
        "outputId": "f205b5aa-02dd-42bb-975c-573431621c81"
      },
      "execution_count": 16,
      "outputs": [
        {
          "output_type": "execute_result",
          "data": {
            "text/plain": [
              "(505, 13)"
            ]
          },
          "metadata": {},
          "execution_count": 16
        }
      ]
    },
    {
      "cell_type": "markdown",
      "source": [
        "tạo mô hình CNN"
      ],
      "metadata": {
        "id": "jNa2fSJPOdPq"
      }
    },
    {
      "cell_type": "code",
      "source": [
        "from keras import Sequential,Model,Input\n",
        "from keras.layers import Dense,Flatten,Dropout, Conv2D, MaxPooling2D,Normalization\n",
        "from keras.optimizers import Adam"
      ],
      "metadata": {
        "id": "mHcJNJgSOt9r"
      },
      "execution_count": 17,
      "outputs": []
    },
    {
      "cell_type": "code",
      "source": [
        "batch_size = 100\n",
        "epochs = 10\n",
        "classes = 12"
      ],
      "metadata": {
        "id": "7drewKnhOw6T"
      },
      "execution_count": 18,
      "outputs": []
    },
    {
      "cell_type": "code",
      "source": [
        "model = Sequential()\n",
        "model.add(Conv2D(32,kernel_size=(3,3),activation='linear',input_shape=(30,40,3),padding='same'))"
      ],
      "metadata": {
        "id": "Od6yhEvDO03q"
      },
      "execution_count": 19,
      "outputs": []
    },
    {
      "cell_type": "code",
      "source": [
        "from keras.layers import LeakyReLU\n",
        "model.add(LeakyReLU(alpha=0.1))\n",
        "model.add(MaxPooling2D((2,2),padding='same'))\n",
        "\n",
        "\n",
        "model.add(Conv2D(64,(3,3),activation='linear',padding='same'))\n",
        "model.add(LeakyReLU(alpha=0.1))\n",
        "model.add(MaxPooling2D((2,2),padding='same'))\n",
        "\n",
        "model.add(Conv2D(128,(3,3),activation='linear',padding='same'))\n",
        "model.add(LeakyReLU(alpha=0.1))\n",
        "model.add(MaxPooling2D((2,2),padding='same'))"
      ],
      "metadata": {
        "id": "zBqNVniHO9Ji"
      },
      "execution_count": 20,
      "outputs": []
    },
    {
      "cell_type": "code",
      "source": [
        "model.add(Flatten())"
      ],
      "metadata": {
        "id": "vE6RvPrOPZwT"
      },
      "execution_count": 21,
      "outputs": []
    },
    {
      "cell_type": "code",
      "source": [
        "model.add(Dense(200,activation='linear'))\n",
        "model.add(Dropout(0.5))\n",
        "model.add(Dense(200,activation='linear'))\n",
        "model.add(Dropout(0.5))\n",
        "model.add(Dense(13,activation='softmax'))\n"
      ],
      "metadata": {
        "id": "KHE_GV4NPa-i"
      },
      "execution_count": 22,
      "outputs": []
    },
    {
      "cell_type": "code",
      "source": [
        "model.summary()"
      ],
      "metadata": {
        "colab": {
          "base_uri": "https://localhost:8080/"
        },
        "id": "ZDOpoRWU09K_",
        "outputId": "6b9c7920-1279-4cf5-8504-eb99b413c673"
      },
      "execution_count": 23,
      "outputs": [
        {
          "output_type": "stream",
          "name": "stdout",
          "text": [
            "Model: \"sequential\"\n",
            "_________________________________________________________________\n",
            " Layer (type)                Output Shape              Param #   \n",
            "=================================================================\n",
            " conv2d (Conv2D)             (None, 30, 40, 32)        896       \n",
            "                                                                 \n",
            " leaky_re_lu (LeakyReLU)     (None, 30, 40, 32)        0         \n",
            "                                                                 \n",
            " max_pooling2d (MaxPooling2D  (None, 15, 20, 32)       0         \n",
            " )                                                               \n",
            "                                                                 \n",
            " conv2d_1 (Conv2D)           (None, 15, 20, 64)        18496     \n",
            "                                                                 \n",
            " leaky_re_lu_1 (LeakyReLU)   (None, 15, 20, 64)        0         \n",
            "                                                                 \n",
            " max_pooling2d_1 (MaxPooling  (None, 8, 10, 64)        0         \n",
            " 2D)                                                             \n",
            "                                                                 \n",
            " conv2d_2 (Conv2D)           (None, 8, 10, 128)        73856     \n",
            "                                                                 \n",
            " leaky_re_lu_2 (LeakyReLU)   (None, 8, 10, 128)        0         \n",
            "                                                                 \n",
            " max_pooling2d_2 (MaxPooling  (None, 4, 5, 128)        0         \n",
            " 2D)                                                             \n",
            "                                                                 \n",
            " flatten (Flatten)           (None, 2560)              0         \n",
            "                                                                 \n",
            " dense (Dense)               (None, 200)               512200    \n",
            "                                                                 \n",
            " dropout (Dropout)           (None, 200)               0         \n",
            "                                                                 \n",
            " dense_1 (Dense)             (None, 200)               40200     \n",
            "                                                                 \n",
            " dropout_1 (Dropout)         (None, 200)               0         \n",
            "                                                                 \n",
            " dense_2 (Dense)             (None, 13)                2613      \n",
            "                                                                 \n",
            "=================================================================\n",
            "Total params: 648,261\n",
            "Trainable params: 648,261\n",
            "Non-trainable params: 0\n",
            "_________________________________________________________________\n"
          ]
        }
      ]
    },
    {
      "cell_type": "code",
      "source": [
        "from keras.backend import categorical_crossentropy\n",
        "model.compile(loss='categorical_crossentropy', optimizer=Adam(),metrics =['accuracy'])"
      ],
      "metadata": {
        "id": "OcazCLB6Pqki"
      },
      "execution_count": 24,
      "outputs": []
    },
    {
      "cell_type": "code",
      "source": [
        "train = model.fit(train_x,y_train,batch_size=batch_size,epochs=epochs,verbose=1)\n",
        "test_loss, test_acc = model.evaluate(test_x, y_test)\n",
        "print(\"Accuracy:\", test_acc)\n",
        "print('Loss:', test_loss)"
      ],
      "metadata": {
        "colab": {
          "base_uri": "https://localhost:8080/"
        },
        "id": "xuYtGZW3Pt6a",
        "outputId": "30591944-8994-4305-d537-24e663b74af9"
      },
      "execution_count": 25,
      "outputs": [
        {
          "output_type": "stream",
          "name": "stdout",
          "text": [
            "Epoch 1/10\n",
            "6/6 [==============================] - 9s 37ms/step - loss: 2.4773 - accuracy: 0.1089\n",
            "Epoch 2/10\n",
            "6/6 [==============================] - 0s 7ms/step - loss: 2.1434 - accuracy: 0.3168\n",
            "Epoch 3/10\n",
            "6/6 [==============================] - 0s 7ms/step - loss: 1.5892 - accuracy: 0.5465\n",
            "Epoch 4/10\n",
            "6/6 [==============================] - 0s 7ms/step - loss: 0.9178 - accuracy: 0.7465\n",
            "Epoch 5/10\n",
            "6/6 [==============================] - 0s 7ms/step - loss: 0.6890 - accuracy: 0.8099\n",
            "Epoch 6/10\n",
            "6/6 [==============================] - 0s 7ms/step - loss: 0.4994 - accuracy: 0.8495\n",
            "Epoch 7/10\n",
            "6/6 [==============================] - 0s 7ms/step - loss: 0.3403 - accuracy: 0.8931\n",
            "Epoch 8/10\n",
            "6/6 [==============================] - 0s 7ms/step - loss: 0.2488 - accuracy: 0.9307\n",
            "Epoch 9/10\n",
            "6/6 [==============================] - 0s 8ms/step - loss: 0.1957 - accuracy: 0.9406\n",
            "Epoch 10/10\n",
            "6/6 [==============================] - 0s 9ms/step - loss: 0.1456 - accuracy: 0.9604\n",
            "7/7 [==============================] - 1s 42ms/step - loss: 0.0607 - accuracy: 0.9862\n",
            "Accuracy: 0.9861751198768616\n",
            "Loss: 0.06072819605469704\n"
          ]
        }
      ]
    },
    {
      "cell_type": "code",
      "source": [
        "model.save('/content/drive/MyDrive/face_detection.h5')"
      ],
      "metadata": {
        "id": "yuLUAHG18g1M"
      },
      "execution_count": 27,
      "outputs": []
    },
    {
      "cell_type": "code",
      "source": [
        "#test mo hinh\n",
        "from keras.utils import load_img\n",
        "from tensorflow.keras.utils import img_to_array\n",
        "import matplotlib.pyplot as plt\n",
        "import numpy as np\n",
        "img = load_img('/content/drive/MyDrive/Anh_lop/Nam_11.jpg',target_size=(30,40,3))\n",
        "plt.imshow(img)\n",
        "img = img_to_array(img)\n",
        "img = img.reshape(1,30,40,3)\n",
        "img = img.astype('float32')\n",
        "img = img/255\n",
        "a = np.argmax(model.predict(img),axis=-1)\n",
        "print(a)\n",
        "if(a == 1):\n",
        "  print(\"Đây là Tuấn\")\n",
        "if (a == 2):\n",
        "  print(\"Đây là Bình\")\n",
        "if (a == 3):\n",
        "  print(\"Đây là Chương\")\n",
        "if (a == 4):\n",
        "  print(\"Đây là Chương\")\n",
        "if (a == 5):\n",
        "  print(\"Đây là Hiếu\")\n",
        "if (a == 6):\n",
        "  print(\"Đây là Nam\")\n",
        "if (a == 7):\n",
        "  print(\"Đây là Phi\")\n",
        "if (a == 8):\n",
        "  print(\"Đây là Phong\")\n",
        "if (a == 9):\n",
        "  print(\"Đây là Thắng\")\n",
        "if (a == 10):\n",
        "  print(\"Đây là Thanh\")\n",
        "if (a == 11):\n",
        "  print(\"Đây là Trí\")\n",
        "if (a == 12):\n",
        "  print(\"Đây là Tùng\")"
      ],
      "metadata": {
        "colab": {
          "base_uri": "https://localhost:8080/",
          "height": 482
        },
        "id": "A6ai0bUFT4C7",
        "outputId": "371ae603-07ec-4d46-ed1b-be1bd4b107d8"
      },
      "execution_count": 32,
      "outputs": [
        {
          "output_type": "stream",
          "name": "stdout",
          "text": [
            "1/1 [==============================] - 0s 21ms/step\n",
            "[6]\n",
            "Đây là Nam\n"
          ]
        },
        {
          "output_type": "display_data",
          "data": {
            "text/plain": [
              "<Figure size 640x480 with 1 Axes>"
            ],
            "image/png": "[encoded data removed]"
          },
          "metadata": {}
        }
      ]
    }
  ]
}