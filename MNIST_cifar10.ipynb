{
  "nbformat": 4,
  "nbformat_minor": 0,
  "metadata": {
    "colab": {
      "provenance": [],
      "authorship_tag": "ABX9TyOppIBrqE4LM7wlgIvGiwa8",
      "include_colab_link": true
    },
    "kernelspec": {
      "name": "python3",
      "display_name": "Python 3"
    },
    "language_info": {
      "name": "python"
    }
  },
  "cells": [
    {
      "cell_type": "markdown",
      "metadata": {
        "id": "view-in-github",
        "colab_type": "text"
      },
      "source": [
        "<a href=\"https://colab.research.google.com/github/TuanLBT/AI_learning/blob/main/MNIST_cifar10.ipynb\" target=\"_parent\"><img src=\"https://colab.research.google.com/assets/colab-badge.svg\" alt=\"Open In Colab\"/></a>"
      ]
    },
    {
      "cell_type": "code",
      "execution_count": null,
      "metadata": {
        "id": "sWdiFFA2zVyj"
      },
      "outputs": [],
      "source": [
        "from keras.datasets import mnist\n",
        "(train_images,train_labels), (test_images,test_labels) = mnist.load_data() #quy định nó, cú pháp nó như vậy"
      ]
    },
    {
      "cell_type": "code",
      "source": [
        "#kich thuoc train image\n",
        "train_images.shape"
      ],
      "metadata": {
        "colab": {
          "base_uri": "https://localhost:8080/"
        },
        "id": "aRk_mARb0M0u",
        "outputId": "299a098d-e420-4fa7-9461-9311587b7d0a"
      },
      "execution_count": null,
      "outputs": [
        {
          "output_type": "execute_result",
          "data": {
            "text/plain": [
              "(60000, 28, 28)"
            ]
          },
          "metadata": {},
          "execution_count": 82
        }
      ]
    },
    {
      "cell_type": "code",
      "source": [
        "#kich thuoc train label\n",
        "train_labels.shape"
      ],
      "metadata": {
        "colab": {
          "base_uri": "https://localhost:8080/"
        },
        "id": "TcW-uD0N0Sul",
        "outputId": "7a2e7e19-0279-42e2-b536-15eaa570d593"
      },
      "execution_count": null,
      "outputs": [
        {
          "output_type": "execute_result",
          "data": {
            "text/plain": [
              "(60000,)"
            ]
          },
          "metadata": {},
          "execution_count": 83
        }
      ]
    },
    {
      "cell_type": "code",
      "source": [
        "#kich thuoc test_images\n",
        "test_images.shape"
      ],
      "metadata": {
        "colab": {
          "base_uri": "https://localhost:8080/"
        },
        "id": "ENftd6MO0Y9X",
        "outputId": "3cf8568c-f122-4216-f064-a274e784c240"
      },
      "execution_count": null,
      "outputs": [
        {
          "output_type": "execute_result",
          "data": {
            "text/plain": [
              "(10000, 28, 28)"
            ]
          },
          "metadata": {},
          "execution_count": 84
        }
      ]
    },
    {
      "cell_type": "code",
      "source": [
        "#kich thuoc test_labels\n",
        "test_labels.shape"
      ],
      "metadata": {
        "colab": {
          "base_uri": "https://localhost:8080/"
        },
        "id": "cnkyWzjg0edW",
        "outputId": "15c1afe6-fef1-4931-903d-2d9b05b368ac"
      },
      "execution_count": null,
      "outputs": [
        {
          "output_type": "execute_result",
          "data": {
            "text/plain": [
              "(10000,)"
            ]
          },
          "metadata": {},
          "execution_count": 85
        }
      ]
    },
    {
      "cell_type": "code",
      "source": [
        "import matplotlib.pyplot as plt\n",
        "import numpy, random, os\n",
        "a = int(random.random())\n",
        "hinh = train_images[a]\n",
        "plt.imshow(hinh,cmap = 'gray')\n",
        "plt.show\n",
        "print('Số này là:',train_labels[a])"
      ],
      "metadata": {
        "colab": {
          "base_uri": "https://localhost:8080/",
          "height": 282
        },
        "id": "3QUZwmHq0u71",
        "outputId": "d971a67e-fdac-4099-9879-907e10732eeb"
      },
      "execution_count": null,
      "outputs": [
        {
          "output_type": "stream",
          "name": "stdout",
          "text": [
            "Số này là: 5\n"
          ]
        },
        {
          "output_type": "display_data",
          "data": {
            "text/plain": [
              "<Figure size 432x288 with 1 Axes>"
            ],
            "image/png": "[encoded data removed]"
          },
          "metadata": {
            "needs_background": "light"
          }
        }
      ]
    },
    {
      "cell_type": "code",
      "source": [
        "for i in range(10):\n",
        "  plt.subplot(3,5,i+1)\n",
        "  plt.tight_layout()\n",
        "  plt.imshow(train_images[i],cmap='gray',interpolation='none')\n",
        "  plt.title('Số:{}'.format(train_labels[i]))\n",
        "  plt.xticks([])\n",
        "  plt.yticks([])"
      ],
      "metadata": {
        "colab": {
          "base_uri": "https://localhost:8080/",
          "height": 196
        },
        "id": "oTbJhCga1sEn",
        "outputId": "83a5c63d-7b03-4188-947a-cae2f3bba277"
      },
      "execution_count": null,
      "outputs": [
        {
          "output_type": "display_data",
          "data": {
            "text/plain": [
              "<Figure size 432x288 with 10 Axes>"
            ],
            "image/png": "[encoded data removed]"
          },
          "metadata": {}
        }
      ]
    },
    {
      "cell_type": "code",
      "source": [
        "from keras.models import Sequential\n",
        "from keras.layers import Dense"
      ],
      "metadata": {
        "id": "YxmS8Pjf3IQR"
      },
      "execution_count": null,
      "outputs": []
    },
    {
      "cell_type": "markdown",
      "source": [
        "Giai đoạn xử lí dữ liệu"
      ],
      "metadata": {
        "id": "EWOuoBRX7KdO"
      }
    },
    {
      "cell_type": "code",
      "source": [
        "model = Sequential() #anh gom 28x28 (784 dau vao)\n",
        "model.add(Dense(500,input_shape=(784,),activation='relu')) #lop dau tien la relu, thu 2 la softmax\n",
        "model.add(Dense(10,activation='softmax')) #hàm để phân biệt 0 với 1 (gg thêm)"
      ],
      "metadata": {
        "id": "o6dg0PSV3wM8"
      },
      "execution_count": null,
      "outputs": []
    },
    {
      "cell_type": "code",
      "source": [
        "#scale lại dữ liệu của t\n",
        "train_images = train_images.reshape([60000,28*28])\n",
        "train_image = train_images.astype('float32')/255 #nó là số nguyên(int) nên phải chuyển sang dạng float"
      ],
      "metadata": {
        "id": "4J80ivTu5Meh"
      },
      "execution_count": null,
      "outputs": []
    },
    {
      "cell_type": "code",
      "source": [
        "#scale lại dữ liệu của test_image\n",
        "test_images = test_images.reshape([10000,28*28])\n",
        "test_image = test_images.astype('float32')/255 #nó là số nguyên(int) nên phải chuyển sang dạng float"
      ],
      "metadata": {
        "id": "YHFPSkoW5rYN"
      },
      "execution_count": null,
      "outputs": []
    },
    {
      "cell_type": "code",
      "source": [
        "#chuyeenr sang encoding het\n",
        "from keras.utils import to_categorical #lệnh chuyển qua hot endcoding\n",
        "train_label = to_categorical(train_labels,10) #10 bit\n",
        "test_label = to_categorical(test_labels,10)   #1o bit"
      ],
      "metadata": {
        "id": "815dAcCJ5-Hu"
      },
      "execution_count": null,
      "outputs": []
    },
    {
      "cell_type": "code",
      "source": [
        "train_label.shape"
      ],
      "metadata": {
        "colab": {
          "base_uri": "https://localhost:8080/"
        },
        "id": "J3EEjGZ4-FUX",
        "outputId": "cea52a71-5a68-4507-ee9e-a0bedc026ed2"
      },
      "execution_count": null,
      "outputs": [
        {
          "output_type": "execute_result",
          "data": {
            "text/plain": [
              "(60000, 10)"
            ]
          },
          "metadata": {},
          "execution_count": 99
        }
      ]
    },
    {
      "cell_type": "code",
      "source": [
        "train_label[0]"
      ],
      "metadata": {
        "colab": {
          "base_uri": "https://localhost:8080/"
        },
        "id": "ke7hh1qb-Lyd",
        "outputId": "67c3cba6-71aa-43e6-9a14-469b5e05e99e"
      },
      "execution_count": null,
      "outputs": [
        {
          "output_type": "execute_result",
          "data": {
            "text/plain": [
              "array([0., 0., 0., 0., 0., 1., 0., 0., 0., 0.], dtype=float32)"
            ]
          },
          "metadata": {},
          "execution_count": 100
        }
      ]
    },
    {
      "cell_type": "markdown",
      "source": [
        "Giai đoạn biên dịch"
      ],
      "metadata": {
        "id": "FLq2pRHE7Syt"
      }
    },
    {
      "cell_type": "code",
      "source": [
        "model.compile(optimizer='rmsprop',loss='categorical_crossentropy',metrics = ['accuracy']) #bộ tối ưu cho đầu ra là phân loại(RMSprop). mất mát sư dụng categlanal_cross.. (cũng là phân loại)\n",
        "model.fit(train_image,train_label,epochs=10,batch_size=128) #kích thước học 1 lần ngẫu nhiên 128 thôi, ko học hết, học 1o lần, \n",
        "test_loss,test_acc=model.evaluate(test_image,test_label)\n",
        "print('tét_accuracy',test_acc)\n",
        "print('tét_loss',test_loss)\n"
      ],
      "metadata": {
        "colab": {
          "base_uri": "https://localhost:8080/"
        },
        "id": "Py3MifcJ7SSi",
        "outputId": "f433166b-43da-4f79-c40d-8139dce9db14"
      },
      "execution_count": null,
      "outputs": [
        {
          "output_type": "stream",
          "name": "stdout",
          "text": [
            "Epoch 1/10\n",
            "469/469 [==============================] - 6s 12ms/step - loss: 3.0734e-04 - accuracy: 1.0000\n",
            "Epoch 2/10\n",
            "469/469 [==============================] - 4s 8ms/step - loss: 2.7374e-04 - accuracy: 1.0000\n",
            "Epoch 3/10\n",
            "469/469 [==============================] - 4s 8ms/step - loss: 2.4555e-04 - accuracy: 1.0000\n",
            "Epoch 4/10\n",
            "469/469 [==============================] - 5s 10ms/step - loss: 2.2582e-04 - accuracy: 1.0000\n",
            "Epoch 5/10\n",
            "469/469 [==============================] - 4s 8ms/step - loss: 2.0571e-04 - accuracy: 1.0000\n",
            "Epoch 6/10\n",
            "469/469 [==============================] - 4s 8ms/step - loss: 1.9138e-04 - accuracy: 1.0000\n",
            "Epoch 7/10\n",
            "469/469 [==============================] - 5s 10ms/step - loss: 1.8038e-04 - accuracy: 1.0000\n",
            "Epoch 8/10\n",
            "469/469 [==============================] - 4s 8ms/step - loss: 1.6937e-04 - accuracy: 1.0000\n",
            "Epoch 9/10\n",
            "469/469 [==============================] - 4s 8ms/step - loss: 1.5925e-04 - accuracy: 1.0000\n",
            "Epoch 10/10\n",
            "469/469 [==============================] - 5s 10ms/step - loss: 1.4953e-04 - accuracy: 1.0000\n",
            "313/313 [==============================] - 1s 2ms/step - loss: 0.0711 - accuracy: 0.9831\n",
            "tét_accuracy 0.9830999970436096\n",
            "tét_loss 0.07110019028186798\n"
          ]
        }
      ]
    },
    {
      "cell_type": "code",
      "source": [
        "import matplotlib.pyplot as plt\n",
        "import numpy, random, os\n",
        "hinh = test_images[500]\n",
        "plt.imshow(hinh.reshape(28,28),cmap = 'gray')\n",
        "plt.show()\n",
        "print('Số này là:',test_labels[500])"
      ],
      "metadata": {
        "colab": {
          "base_uri": "https://localhost:8080/",
          "height": 282
        },
        "id": "nQaAxPGoB2yi",
        "outputId": "f4bd45b7-6793-45c6-e0ca-584cfd73922d"
      },
      "execution_count": null,
      "outputs": [
        {
          "output_type": "display_data",
          "data": {
            "text/plain": [
              "<Figure size 432x288 with 1 Axes>"
            ],
            "image/png": "[encoded data removed]"
          },
          "metadata": {
            "needs_background": "light"
          }
        },
        {
          "output_type": "stream",
          "name": "stdout",
          "text": [
            "Số này là: 3\n"
          ]
        }
      ]
    },
    {
      "cell_type": "code",
      "source": [
        "#test mo hinh\n"
      ],
      "metadata": {
        "id": "dnrOZR29Cqqd"
      },
      "execution_count": null,
      "outputs": []
    },
    {
      "cell_type": "markdown",
      "source": [
        "Lưu trữ và gọi mô hình ra"
      ],
      "metadata": {
        "id": "ySiUqwo1D11G"
      }
    },
    {
      "cell_type": "code",
      "source": [
        "from keras.models import load_model\n",
        "model.save('model1.h5')\n",
        "model11= load_model('model1.h5') \n",
        "#label1 = model11.predict(test_image[10])"
      ],
      "metadata": {
        "id": "WQGotH3-DBI-"
      },
      "execution_count": null,
      "outputs": []
    },
    {
      "cell_type": "markdown",
      "source": [
        "cifar10"
      ],
      "metadata": {
        "id": "T4LiSxfyD7Rt"
      }
    },
    {
      "cell_type": "code",
      "source": [
        "from keras.datasets import cifar10\n",
        "from keras.models import Sequential\n",
        "from keras.layers import Dense\n",
        "(x_trains,y_trains), (x_tests,y_tests) = cifar10.load_data()"
      ],
      "metadata": {
        "id": "KqQ42ljlD60d",
        "colab": {
          "base_uri": "https://localhost:8080/"
        },
        "outputId": "0a79807f-126b-4a23-bd45-925878105c93"
      },
      "execution_count": 2,
      "outputs": [
        {
          "output_type": "stream",
          "name": "stdout",
          "text": [
            "Downloading data from https://www.cs.toronto.edu/~kriz/cifar-10-python.tar.gz\n",
            "170498071/170498071 [==============================] - 7s 0us/step\n"
          ]
        }
      ]
    },
    {
      "cell_type": "code",
      "source": [
        "x_trains.shape #3 là 3 chiều (ảnh màu)"
      ],
      "metadata": {
        "colab": {
          "base_uri": "https://localhost:8080/"
        },
        "id": "JZYf1NlTE1D2",
        "outputId": "9616260a-ffd4-40b9-80ba-6c2e78bfbf82"
      },
      "execution_count": 3,
      "outputs": [
        {
          "output_type": "execute_result",
          "data": {
            "text/plain": [
              "(50000, 32, 32, 3)"
            ]
          },
          "metadata": {},
          "execution_count": 3
        }
      ]
    },
    {
      "cell_type": "code",
      "source": [
        "y_trains.shape"
      ],
      "metadata": {
        "colab": {
          "base_uri": "https://localhost:8080/"
        },
        "id": "qqLz2t_0E5Vg",
        "outputId": "e8a824f1-dfa4-4314-c309-b429471ee2d2"
      },
      "execution_count": 4,
      "outputs": [
        {
          "output_type": "execute_result",
          "data": {
            "text/plain": [
              "(50000, 1)"
            ]
          },
          "metadata": {},
          "execution_count": 4
        }
      ]
    },
    {
      "cell_type": "code",
      "source": [
        "x_tests.shape"
      ],
      "metadata": {
        "colab": {
          "base_uri": "https://localhost:8080/"
        },
        "id": "LXFOuh44E_At",
        "outputId": "a6e04340-e7d1-446a-c638-20f00b4b4e62"
      },
      "execution_count": 5,
      "outputs": [
        {
          "output_type": "execute_result",
          "data": {
            "text/plain": [
              "(10000, 32, 32, 3)"
            ]
          },
          "metadata": {},
          "execution_count": 5
        }
      ]
    },
    {
      "cell_type": "code",
      "source": [
        "y_tests.shape"
      ],
      "metadata": {
        "colab": {
          "base_uri": "https://localhost:8080/"
        },
        "id": "zdAMxbciFBeW",
        "outputId": "943b5066-59c9-4162-810c-c15bee17b5bf"
      },
      "execution_count": 6,
      "outputs": [
        {
          "output_type": "execute_result",
          "data": {
            "text/plain": [
              "(10000, 1)"
            ]
          },
          "metadata": {},
          "execution_count": 6
        }
      ]
    },
    {
      "cell_type": "markdown",
      "source": [
        "giai đoạn xử lý dữ liệu"
      ],
      "metadata": {
        "id": "Y5nmfTLxFK3l"
      }
    },
    {
      "cell_type": "code",
      "source": [
        "model_1 = Sequential() #anh gom 32x32 (1024 dau vao)\n",
        "model_1.add(Dense(512,input_shape=(1024*3,),activation='relu')) #lop dau tien la relu, thu 2 la softmax\n",
        "model_1.add(Dense(206,activation='relu'))\n",
        "model_1.add(Dense(103,activation='relu'))\n",
        "model_1.add(Dense(10,activation='softmax')) #hàm để phân biệt 0 với 1 (gg thêm) chuyển về ảnh xám\n",
        "model_1.summary()"
      ],
      "metadata": {
        "colab": {
          "base_uri": "https://localhost:8080/"
        },
        "id": "t0XISos_FKa9",
        "outputId": "ef968c45-5a0e-4ef5-e8a9-64fe629263dd"
      },
      "execution_count": 7,
      "outputs": [
        {
          "output_type": "stream",
          "name": "stdout",
          "text": [
            "Model: \"sequential\"\n",
            "_________________________________________________________________\n",
            " Layer (type)                Output Shape              Param #   \n",
            "=================================================================\n",
            " dense (Dense)               (None, 512)               1573376   \n",
            "                                                                 \n",
            " dense_1 (Dense)             (None, 206)               105678    \n",
            "                                                                 \n",
            " dense_2 (Dense)             (None, 103)               21321     \n",
            "                                                                 \n",
            " dense_3 (Dense)             (None, 10)                1040      \n",
            "                                                                 \n",
            "=================================================================\n",
            "Total params: 1,701,415\n",
            "Trainable params: 1,701,415\n",
            "Non-trainable params: 0\n",
            "_________________________________________________________________\n"
          ]
        }
      ]
    },
    {
      "cell_type": "code",
      "source": [
        "#scale lại dữ liệu của x_train\n",
        "#x_trains = x_trains[:, :, :, 0]\n",
        "x_trains = x_trains.reshape([50000,32*32*3,1]) #giá trị 1 mảng chứa giá trị 3 kênh\n",
        "x_train = x_trains.astype('float32')/255 #nó là số nguyên(int) nên phải chuyển sang dạng float"
      ],
      "metadata": {
        "id": "V8FnJL9gFjJW"
      },
      "execution_count": 8,
      "outputs": []
    },
    {
      "cell_type": "code",
      "source": [
        "#scale lại dữ liệu của x_test\n",
        "#x_tests = x_tests[:, :, :, 0]\n",
        "x_tests = x_tests.reshape([10000,32*32*3,1])\n",
        "x_test = x_tests.astype('float32')/255 #nó là số nguyên(int) nên phải chuyển sang dạng float"
      ],
      "metadata": {
        "id": "NbA1YRAWGdQx"
      },
      "execution_count": 9,
      "outputs": []
    },
    {
      "cell_type": "code",
      "source": [
        "#chuyeenr sang encoding het\n",
        "from keras.utils import to_categorical #lệnh chuyển qua hot endcoding\n",
        "y_train = to_categorical(y_trains,10) #10 bit\n",
        "y_test = to_categorical(y_tests,10)   #1o bit"
      ],
      "metadata": {
        "id": "-sQ66fOLGv-e"
      },
      "execution_count": 10,
      "outputs": []
    },
    {
      "cell_type": "markdown",
      "source": [
        "Biên dịch"
      ],
      "metadata": {
        "id": "ripXMbaFHN79"
      }
    },
    {
      "cell_type": "code",
      "source": [
        "model_1.compile(optimizer='rmsprop',loss='categorical_crossentropy',metrics = ['accuracy']) #bộ tối ưu cho đầu ra là phân loại(RMSprop). mất mát sư dụng categlanal_cross.. (cũng là phân loại)\n",
        "model_1.fit(x_train,y_train,epochs=10,batch_size=128) #kích thước học 1 lần ngẫu nhiên 128 thôi, ko học hết, học 1o lần, \n",
        "test_loss,test_acc=model_1.evaluate(x_test,y_test)\n",
        "print('tét_accuracy',test_acc)\n",
        "print('tét_loss',test_loss)"
      ],
      "metadata": {
        "id": "vi_SQaxjHNZG",
        "colab": {
          "base_uri": "https://localhost:8080/"
        },
        "outputId": "9988854f-e78b-4be6-c4ed-7e18315bae6f"
      },
      "execution_count": 11,
      "outputs": [
        {
          "output_type": "stream",
          "name": "stdout",
          "text": [
            "Epoch 1/10\n",
            "391/391 [==============================] - 15s 35ms/step - loss: 2.0688 - accuracy: 0.2596\n",
            "Epoch 2/10\n",
            "391/391 [==============================] - 15s 39ms/step - loss: 1.8004 - accuracy: 0.3528\n",
            "Epoch 3/10\n",
            "391/391 [==============================] - 13s 34ms/step - loss: 1.7009 - accuracy: 0.3912\n",
            "Epoch 4/10\n",
            "391/391 [==============================] - 14s 36ms/step - loss: 1.6316 - accuracy: 0.4161\n",
            "Epoch 5/10\n",
            "391/391 [==============================] - 14s 36ms/step - loss: 1.5815 - accuracy: 0.4356\n",
            "Epoch 6/10\n",
            "391/391 [==============================] - 13s 34ms/step - loss: 1.5375 - accuracy: 0.4522\n",
            "Epoch 7/10\n",
            "391/391 [==============================] - 14s 36ms/step - loss: 1.5046 - accuracy: 0.4624\n",
            "Epoch 8/10\n",
            "391/391 [==============================] - 14s 35ms/step - loss: 1.4708 - accuracy: 0.4775\n",
            "Epoch 9/10\n",
            "391/391 [==============================] - 14s 35ms/step - loss: 1.4434 - accuracy: 0.4855\n",
            "Epoch 10/10\n",
            "391/391 [==============================] - 13s 34ms/step - loss: 1.4174 - accuracy: 0.4932\n",
            "313/313 [==============================] - 2s 5ms/step - loss: 1.4742 - accuracy: 0.4695\n",
            "tét_accuracy 0.46950000524520874\n",
            "tét_loss 1.4742053747177124\n"
          ]
        }
      ]
    },
    {
      "cell_type": "code",
      "source": [
        "from keras.utils import load_img\n",
        "from tensorflow.keras.utils import img_to_array\n",
        "import matplotlib.pyplot as plt\n",
        "import numpy as np\n",
        "img = load_img('con_ngua.jpg',target_size=(32,32))\n",
        "plt.imshow(img)\n",
        "img = img_to_array(img)\n",
        "img = img.reshape(1,-1)\n",
        "img = img.astype('float32')\n",
        "img = img/255\n",
        "a = np.argmax(model_1.predict(img),axis=-1)\n",
        "if(a == 8):\n",
        "  print('Là con ngựa')"
      ],
      "metadata": {
        "colab": {
          "base_uri": "https://localhost:8080/",
          "height": 301
        },
        "id": "AURNeiobOGPo",
        "outputId": "b47c8cfc-9fee-48d6-f98d-092eab9d7716"
      },
      "execution_count": 21,
      "outputs": [
        {
          "output_type": "stream",
          "name": "stdout",
          "text": [
            "1/1 [==============================] - 0s 35ms/step\n",
            "Là con ngựa\n"
          ]
        },
        {
          "output_type": "display_data",
          "data": {
            "text/plain": [
              "<Figure size 432x288 with 1 Axes>"
            ],
            "image/png": "[encoded data removed]"
          },
          "metadata": {
            "needs_background": "light"
          }
        }
      ]
    },
    {
      "cell_type": "code",
      "source": [
        "#lưu trữ và gọi mô hình ra\n",
        "from keras.models import load_model\n",
        "model_1.save('model_1_out_10.h5')\n",
        "model11= load_model('model_1_out_10.h5') "
      ],
      "metadata": {
        "id": "1n7GrGoxBlqy"
      },
      "execution_count": 20,
      "outputs": []
    }
  ]
}