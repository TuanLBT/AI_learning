{
  "nbformat": 4,
  "nbformat_minor": 0,
  "metadata": {
    "colab": {
      "provenance": [],
      "mount_file_id": "16o03BaJIopVkQNtwIwoF1d_pzGNFEPt8",
      "authorship_tag": "ABX9TyO2uosXukCAY+uggS98yMBW",
      "include_colab_link": true
    },
    "kernelspec": {
      "name": "python3",
      "display_name": "Python 3"
    },
    "language_info": {
      "name": "python"
    },
    "accelerator": "GPU",
    "gpuClass": "standard"
  },
  "cells": [
    {
      "cell_type": "markdown",
      "metadata": {
        "id": "view-in-github",
        "colab_type": "text"
      },
      "source": [
        "<a href=\"https://colab.research.google.com/github/TuanLBT/AI_learning/blob/main/flower_detection.ipynb\" target=\"_parent\"><img src=\"https://colab.research.google.com/assets/colab-badge.svg\" alt=\"Open In Colab\"/></a>"
      ]
    },
    {
      "cell_type": "markdown",
      "source": [
        "Tạo set data (chưa split)"
      ],
      "metadata": {
        "id": "K1r_dNuDtQRG"
      }
    },
    {
      "cell_type": "code",
      "execution_count": 51,
      "metadata": {
        "id": "SVgnsIbsHpEV"
      },
      "outputs": [],
      "source": [
        "from os import listdir\n",
        "from numpy import asarray\n",
        "from numpy import save\n",
        "from keras.utils.image_utils import img_to_array\n",
        "from keras.utils import load_img"
      ]
    },
    {
      "cell_type": "code",
      "source": [
        "folder='/content/drive/MyDrive/flower_tonghop/'"
      ],
      "metadata": {
        "id": "Nzgt6HZGI2jY"
      },
      "execution_count": 52,
      "outputs": []
    },
    {
      "cell_type": "code",
      "source": [
        "\n",
        "photos,labels = list(),list()\n",
        "for file in listdir(folder):\n",
        "  output = 0.0\n",
        "  if file.startswith('apricot'):\n",
        "    output=1.0\n",
        "  if file.startswith('bingan'):\n",
        "    output=2.0\n",
        "  if file.startswith('daisy'):\n",
        "    output=3.0\n",
        "  if file.startswith('lotus'):\n",
        "    output=4.0\n",
        "  if file.startswith('waterlily'):\n",
        "    output=5.0\n",
        "  if file.startswith('rose'):\n",
        "    output=6.0\n",
        "  photo = load_img(folder+file,target_size=(100,100))\n",
        "  photo = img_to_array(photo)\n",
        "  photos.append(photo)\n",
        "  labels.append(output)\n"
      ],
      "metadata": {
        "id": "D-y1Ca_9I9NP"
      },
      "execution_count": 53,
      "outputs": []
    },
    {
      "cell_type": "code",
      "source": [
        "photos = asarray(photos)\n",
        "labels = asarray(labels)\n",
        "save('/content/drive/MyDrive/photo_flower.npy',photos)\n",
        "save('/content/drive/MyDrive/label_flower.npy',labels)"
      ],
      "metadata": {
        "id": "RDRBzahFMlZZ"
      },
      "execution_count": 54,
      "outputs": []
    },
    {
      "cell_type": "code",
      "source": [
        "photos.shape"
      ],
      "metadata": {
        "colab": {
          "base_uri": "https://localhost:8080/"
        },
        "id": "tdlxj0FwtrHW",
        "outputId": "47f25c17-07b1-49f0-e748-f7350019d5db"
      },
      "execution_count": 55,
      "outputs": [
        {
          "output_type": "execute_result",
          "data": {
            "text/plain": [
              "(1083, 100, 100, 3)"
            ]
          },
          "metadata": {},
          "execution_count": 55
        }
      ]
    },
    {
      "cell_type": "code",
      "source": [
        "labels.shape"
      ],
      "metadata": {
        "id": "qW5oBRWltyyO",
        "outputId": "ac63437b-ba46-45a9-a7e2-dd30ed21f334",
        "colab": {
          "base_uri": "https://localhost:8080/"
        }
      },
      "execution_count": 56,
      "outputs": [
        {
          "output_type": "execute_result",
          "data": {
            "text/plain": [
              "(1083,)"
            ]
          },
          "metadata": {},
          "execution_count": 56
        }
      ]
    },
    {
      "cell_type": "markdown",
      "source": [
        "split data thành 70% train, 30% test"
      ],
      "metadata": {
        "id": "EbOrabFFONmq"
      }
    },
    {
      "cell_type": "code",
      "source": [
        "from sklearn.model_selection import train_test_split"
      ],
      "metadata": {
        "id": "9NLMtinNJI8V"
      },
      "execution_count": 57,
      "outputs": []
    },
    {
      "cell_type": "code",
      "source": [
        "train_x, test_x, train_y,  test_y = train_test_split(photos,labels, test_size=0.3, train_size=0.7)\n",
        "#test_x, test_y = train_test_split(photos,labels, test_size=0.3)"
      ],
      "metadata": {
        "id": "kx--CED_JMyd"
      },
      "execution_count": 58,
      "outputs": []
    },
    {
      "cell_type": "code",
      "source": [
        "train_x.shape"
      ],
      "metadata": {
        "colab": {
          "base_uri": "https://localhost:8080/"
        },
        "id": "pExn-uhYOCD8",
        "outputId": "56203e2a-65d6-431b-80c4-936c047295ac"
      },
      "execution_count": 59,
      "outputs": [
        {
          "output_type": "execute_result",
          "data": {
            "text/plain": [
              "(758, 100, 100, 3)"
            ]
          },
          "metadata": {},
          "execution_count": 59
        }
      ]
    },
    {
      "cell_type": "code",
      "source": [
        "test_x.shape"
      ],
      "metadata": {
        "colab": {
          "base_uri": "https://localhost:8080/"
        },
        "id": "6tAIHXolOGBp",
        "outputId": "b68a7039-930b-4cb3-c1b6-fd18f6b3cf17"
      },
      "execution_count": 60,
      "outputs": [
        {
          "output_type": "execute_result",
          "data": {
            "text/plain": [
              "(325, 100, 100, 3)"
            ]
          },
          "metadata": {},
          "execution_count": 60
        }
      ]
    },
    {
      "cell_type": "markdown",
      "source": [
        "scale lại data"
      ],
      "metadata": {
        "id": "fwvDrbndOStr"
      }
    },
    {
      "cell_type": "code",
      "source": [
        "train_x = train_x.reshape([758,100,100,3])\n",
        "train_x = train_x.astype('float32')\n",
        "train_x = train_x/255"
      ],
      "metadata": {
        "id": "hz2YPqf_OWXT"
      },
      "execution_count": 61,
      "outputs": []
    },
    {
      "cell_type": "code",
      "source": [
        "test_x = test_x.reshape([325,100,100,3])\n",
        "test_x = test_x.astype('float32')\n",
        "test_x = test_x/255"
      ],
      "metadata": {
        "id": "8VDXTIw7OaZC"
      },
      "execution_count": 62,
      "outputs": []
    },
    {
      "cell_type": "code",
      "source": [
        "from keras.utils import to_categorical\n",
        "y_train = to_categorical(train_y) #hot encoding\n",
        "y_test = to_categorical(test_y)"
      ],
      "metadata": {
        "id": "FlQmIW8ePkhL"
      },
      "execution_count": 63,
      "outputs": []
    },
    {
      "cell_type": "code",
      "source": [
        "train_x.shape"
      ],
      "metadata": {
        "colab": {
          "base_uri": "https://localhost:8080/"
        },
        "id": "1gJ9fXuDTBn9",
        "outputId": "e548744a-9f24-4a17-d7ec-fb94ef244bcf"
      },
      "execution_count": 64,
      "outputs": [
        {
          "output_type": "execute_result",
          "data": {
            "text/plain": [
              "(758, 100, 100, 3)"
            ]
          },
          "metadata": {},
          "execution_count": 64
        }
      ]
    },
    {
      "cell_type": "code",
      "source": [
        "y_train.shape"
      ],
      "metadata": {
        "colab": {
          "base_uri": "https://localhost:8080/"
        },
        "id": "_PdikE-aTE_7",
        "outputId": "b72c9308-135e-496b-9c01-49b2674a9f71"
      },
      "execution_count": 65,
      "outputs": [
        {
          "output_type": "execute_result",
          "data": {
            "text/plain": [
              "(758, 7)"
            ]
          },
          "metadata": {},
          "execution_count": 65
        }
      ]
    },
    {
      "cell_type": "markdown",
      "source": [
        "tạo mô hình CNN"
      ],
      "metadata": {
        "id": "jNa2fSJPOdPq"
      }
    },
    {
      "cell_type": "code",
      "source": [
        "from keras import Sequential,Model,Input\n",
        "from keras.layers import Dense,Flatten,Dropout, Conv2D, MaxPooling2D,Normalization\n",
        "from keras.optimizers import Adam"
      ],
      "metadata": {
        "id": "mHcJNJgSOt9r"
      },
      "execution_count": 66,
      "outputs": []
    },
    {
      "cell_type": "code",
      "source": [
        "batch_size = 100\n",
        "epochs = 10\n",
        "classes = 10"
      ],
      "metadata": {
        "id": "7drewKnhOw6T"
      },
      "execution_count": 67,
      "outputs": []
    },
    {
      "cell_type": "code",
      "source": [
        "model = Sequential()\n",
        "model.add(Conv2D(32,kernel_size=(3,3),activation='linear',input_shape=(100,100,3),padding='same'))"
      ],
      "metadata": {
        "id": "Od6yhEvDO03q"
      },
      "execution_count": 80,
      "outputs": []
    },
    {
      "cell_type": "code",
      "source": [
        "from keras.layers import LeakyReLU\n",
        "model.add(LeakyReLU(alpha=0.1))\n",
        "model.add(MaxPooling2D((2,2),padding='same'))\n",
        "\n",
        "model.add(Conv2D(64,(3,3),activation='linear',padding='same'))\n",
        "model.add(LeakyReLU(alpha=0.1))\n",
        "model.add(MaxPooling2D((2,2),padding='same'))\n",
        "\n",
        "model.add(Conv2D(128,(3,3),activation='linear',padding='same'))\n",
        "model.add(LeakyReLU(alpha=0.1))\n",
        "model.add(MaxPooling2D((2,2),padding='same'))"
      ],
      "metadata": {
        "id": "zBqNVniHO9Ji"
      },
      "execution_count": 81,
      "outputs": []
    },
    {
      "cell_type": "code",
      "source": [
        "model.add(Flatten())"
      ],
      "metadata": {
        "id": "vE6RvPrOPZwT"
      },
      "execution_count": 82,
      "outputs": []
    },
    {
      "cell_type": "markdown",
      "source": [
        "ANN\n"
      ],
      "metadata": {
        "id": "ePkPPyueO2zp"
      }
    },
    {
      "cell_type": "code",
      "source": [
        "model.add(Dense(300,activation='linear'))\n",
        "model.add(Dropout(0.5))\n",
        "model.add(Dense(7,activation='softmax'))\n"
      ],
      "metadata": {
        "id": "KHE_GV4NPa-i"
      },
      "execution_count": 83,
      "outputs": []
    },
    {
      "cell_type": "code",
      "source": [
        "model.summary()"
      ],
      "metadata": {
        "colab": {
          "base_uri": "https://localhost:8080/"
        },
        "id": "ZDOpoRWU09K_",
        "outputId": "287a466f-5356-4e22-9102-32315ad1cfa2"
      },
      "execution_count": 84,
      "outputs": [
        {
          "output_type": "stream",
          "name": "stdout",
          "text": [
            "Model: \"sequential_3\"\n",
            "_________________________________________________________________\n",
            " Layer (type)                Output Shape              Param #   \n",
            "=================================================================\n",
            " conv2d_9 (Conv2D)           (None, 100, 100, 32)      896       \n",
            "                                                                 \n",
            " leaky_re_lu_9 (LeakyReLU)   (None, 100, 100, 32)      0         \n",
            "                                                                 \n",
            " max_pooling2d_9 (MaxPooling  (None, 50, 50, 32)       0         \n",
            " 2D)                                                             \n",
            "                                                                 \n",
            " conv2d_10 (Conv2D)          (None, 50, 50, 64)        18496     \n",
            "                                                                 \n",
            " leaky_re_lu_10 (LeakyReLU)  (None, 50, 50, 64)        0         \n",
            "                                                                 \n",
            " max_pooling2d_10 (MaxPoolin  (None, 25, 25, 64)       0         \n",
            " g2D)                                                            \n",
            "                                                                 \n",
            " conv2d_11 (Conv2D)          (None, 25, 25, 128)       73856     \n",
            "                                                                 \n",
            " leaky_re_lu_11 (LeakyReLU)  (None, 25, 25, 128)       0         \n",
            "                                                                 \n",
            " max_pooling2d_11 (MaxPoolin  (None, 13, 13, 128)      0         \n",
            " g2D)                                                            \n",
            "                                                                 \n",
            " flatten_3 (Flatten)         (None, 21632)             0         \n",
            "                                                                 \n",
            " dense_8 (Dense)             (None, 300)               6489900   \n",
            "                                                                 \n",
            " dropout_4 (Dropout)         (None, 300)               0         \n",
            "                                                                 \n",
            " dense_9 (Dense)             (None, 7)                 2107      \n",
            "                                                                 \n",
            "=================================================================\n",
            "Total params: 6,585,255\n",
            "Trainable params: 6,585,255\n",
            "Non-trainable params: 0\n",
            "_________________________________________________________________\n"
          ]
        }
      ]
    },
    {
      "cell_type": "code",
      "source": [
        "from keras.backend import categorical_crossentropy\n",
        "model.compile(loss='categorical_crossentropy', optimizer=Adam(),metrics =['accuracy'])"
      ],
      "metadata": {
        "id": "OcazCLB6Pqki"
      },
      "execution_count": 85,
      "outputs": []
    },
    {
      "cell_type": "code",
      "source": [
        "train = model.fit(train_x,y_train,batch_size=100,epochs=5,verbose=1)\n"
      ],
      "metadata": {
        "colab": {
          "base_uri": "https://localhost:8080/"
        },
        "id": "xuYtGZW3Pt6a",
        "outputId": "0c61148b-c310-48c4-eed2-fa7a0ca3ea76"
      },
      "execution_count": 101,
      "outputs": [
        {
          "output_type": "stream",
          "name": "stdout",
          "text": [
            "Epoch 1/5\n",
            "8/8 [==============================] - 22s 3s/step - loss: 0.0055 - accuracy: 0.9987\n",
            "Epoch 2/5\n",
            "8/8 [==============================] - 20s 3s/step - loss: 0.0080 - accuracy: 0.9987\n",
            "Epoch 3/5\n",
            "8/8 [==============================] - 22s 3s/step - loss: 0.0052 - accuracy: 0.9974\n",
            "Epoch 4/5\n",
            "8/8 [==============================] - 20s 3s/step - loss: 0.0044 - accuracy: 0.9987\n",
            "Epoch 5/5\n",
            "8/8 [==============================] - 21s 3s/step - loss: 0.0051 - accuracy: 0.9974\n"
          ]
        }
      ]
    },
    {
      "cell_type": "code",
      "source": [
        "test_loss, test_acc = model.evaluate(test_x, y_test)\n",
        "print(\"Accuracy:\", test_acc)\n",
        "print('Loss:', test_loss)"
      ],
      "metadata": {
        "colab": {
          "base_uri": "https://localhost:8080/"
        },
        "id": "XjiblJDQ0xf_",
        "outputId": "212c5c90-459d-48b9-a687-7f6cc9137b0e"
      },
      "execution_count": 106,
      "outputs": [
        {
          "output_type": "stream",
          "name": "stdout",
          "text": [
            "11/11 [==============================] - 4s 356ms/step - loss: 1.3879 - accuracy: 0.7785\n",
            "Accuracy: 0.7784615159034729\n",
            "Loss: 1.387947916984558\n"
          ]
        }
      ]
    },
    {
      "cell_type": "code",
      "source": [
        "model.save('/content/drive/MyDrive/flower_detection.h5')"
      ],
      "metadata": {
        "id": "dr7DCF89Cw7K"
      },
      "execution_count": 87,
      "outputs": []
    },
    {
      "cell_type": "code",
      "source": [
        "#test mo hinh\n",
        "from keras.utils import load_img\n",
        "from tensorflow.keras.utils import img_to_array\n",
        "import matplotlib.pyplot as plt\n",
        "import numpy as np\n",
        "img = load_img('hoasen_test.jpg',target_size=(100,100,3))\n",
        "plt.imshow(img)\n",
        "img = img_to_array(img)\n",
        "img = img.reshape(1,100,100,3)\n",
        "img = img.astype('float32')\n",
        "img = img/255\n",
        "a = np.argmax(model.predict(img),axis=-1)\n",
        "print(a)\n",
        "if(a == 1):\n",
        "  print(\"Đây là hoa apricot\")\n",
        "if (a == 2):\n",
        "  print(\"Đây là hoa bỉ ngạn\")\n",
        "if (a == 3):\n",
        "  print(\"Đây là hoa daisy\")\n",
        "if (a == 4):\n",
        "  print(\"Đây là hoa sen\")\n",
        "if (a == 5):\n",
        "  print(\"Đây là hoa waterlily\")\n",
        "if (a == 6):\n",
        "  print(\"Đây là hoa hồng\")"
      ],
      "metadata": {
        "colab": {
          "base_uri": "https://localhost:8080/",
          "height": 485
        },
        "id": "A6ai0bUFT4C7",
        "outputId": "2f829d95-b8bc-4427-f7e3-3e472751acd3"
      },
      "execution_count": 107,
      "outputs": [
        {
          "output_type": "stream",
          "name": "stdout",
          "text": [
            "1/1 [==============================] - 0s 125ms/step\n",
            "[4]\n",
            "Đây là hoa sen\n"
          ]
        },
        {
          "output_type": "display_data",
          "data": {
            "text/plain": [
              "<Figure size 640x480 with 1 Axes>"
            ],
            "image/png": "[encoded data removed]"
          },
          "metadata": {}
        }
      ]
    }
  ]
}