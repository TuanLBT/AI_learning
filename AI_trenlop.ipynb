{
  "nbformat": 4,
  "nbformat_minor": 0,
  "metadata": {
    "colab": {
      "provenance": [],
      "authorship_tag": "ABX9TyNxiGabgEEBVLjBvojkPK+r",
      "include_colab_link": true
    },
    "kernelspec": {
      "name": "python3",
      "display_name": "Python 3"
    },
    "language_info": {
      "name": "python"
    }
  },
  "cells": [
    {
      "cell_type": "markdown",
      "metadata": {
        "id": "view-in-github",
        "colab_type": "text"
      },
      "source": [
        "<a href=\"https://colab.research.google.com/github/TuanLBT/AI_learning/blob/main/AI_trenlop.ipynb\" target=\"_parent\"><img src=\"https://colab.research.google.com/assets/colab-badge.svg\" alt=\"Open In Colab\"/></a>"
      ]
    },
    {
      "cell_type": "code",
      "execution_count": 2,
      "metadata": {
        "colab": {
          "base_uri": "https://localhost:8080/"
        },
        "id": "tyr82WPrVHdi",
        "outputId": "9b7b88a5-e188-4fac-a7f7-1daa068713a2"
      },
      "outputs": [
        {
          "output_type": "stream",
          "name": "stdout",
          "text": [
            "Nhập vào số thứ 1:5\n",
            "Nhập vào số thứ 2:5\n",
            "10\n"
          ]
        }
      ],
      "source": [
        "value1 = int(input(\"Nhập vào số thứ 1:\"))\n",
        "value2 = int(input(\"Nhập vào số thứ 2:\"))\n",
        "print(value1 + value2)"
      ]
    },
    {
      "cell_type": "code",
      "source": [
        "with open('text_write.txt',mode='w') as accounts:\n",
        "  accounts.write('20146543 Vo Ngoc Anh Tuan \\n')\n",
        "  accounts.write('20146564 Vo Ngoc Anh Tuan  \\n')\n",
        "  accounts.write('20146593 Vo Ngoc Anh Tuan  \\n')\n",
        "  accounts.write('20146587 Vo Ngoc Anh Tuan  \\n')"
      ],
      "metadata": {
        "id": "RT-nJiFtXSKC"
      },
      "execution_count": 11,
      "outputs": []
    },
    {
      "cell_type": "code",
      "source": [
        "with open('text_print.txt',mode='w') as accounts:\n",
        "  print('sinh vien 1',file=accounts)\n",
        "  print('sinh vien 2',file=accounts)\n",
        "  print('sinh vien 3',file=accounts)\n",
        "  print('sinh vien 4',file=accounts)"
      ],
      "metadata": {
        "id": "_1RQP9DbY-2O"
      },
      "execution_count": 17,
      "outputs": []
    },
    {
      "cell_type": "code",
      "source": [
        "with open('text.txt',mode='r') as accounts:\n",
        "  print(f\"{'mssv':<10}{'name':<20}{'score':>2}\")\n",
        "  for record in accounts:\n",
        "    mssv, name, score = record.split()\n",
        "    print(f\"{'mssv':<10}{'name':<20}{'score':>2}\")"
      ],
      "metadata": {
        "colab": {
          "base_uri": "https://localhost:8080/"
        },
        "id": "siqg3XmrZ0KP",
        "outputId": "4b2e9a87-2e3d-4545-fa38-e2a2ee22c088"
      },
      "execution_count": 19,
      "outputs": [
        {
          "output_type": "stream",
          "name": "stdout",
          "text": [
            "mssv      name                score\n",
            "mssv      name                score\n",
            "mssv      name                score\n",
            "mssv      name                score\n",
            "mssv      name                score\n"
          ]
        }
      ]
    },
    {
      "cell_type": "code",
      "source": [
        "import pandas as pd\n",
        "url = 'data1_1.csv'\n",
        "dataframe = pd.read_csv(url)\n",
        "dataframe.head(21) #hien thi 21 dong dau tien\n",
        "#dataframe.iloc[0:10] #i location lay du lieu tu dong 0 den dong thu 10\n",
        "\n",
        "#Loc ra du lieu\n",
        "#dataframe = dataframe.set_index(dataframe[\"1\"])\n",
        "#dataframe.loc['Nguyen Van A']\n",
        "\n",
        "#Cũng là lọc nhưng chỉ tốn 1 dòng\n",
        "#dataframe[dataframe['Name'] == 'Nguyen Van C'].head(10)\n",
        "\n",
        "#Lọc nhiều yếu tố\n",
        "#dataframe[ (dataframe['khoa'] == 'ThoiTrang') & (dataframe['Name'] == 'Nguyen Van C') ]\n",
        "\n",
        "#thay doi gia tri trong excel\n",
        "#dataframe['khoa'].replace('ThoiTrang','CKM').head(10)\n",
        "#dataframe.replace('CKM','CO KHI MAY').head(10)\n",
        "\n",
        "#loc ra lon nhat, nho nhat, trung binh,....\n",
        "#print('MAX SCORE: ',dataframe['Score'].mean()) #min,mean(trungbinh),sum,count\n",
        "\n",
        "#dataframe['khoa'].unique()\n",
        "#dataframe['khoa'].value_counts() #dem xem 1 khoa lặp lại bao nhiêu lần\n",
        "\n",
        "#lenh xoa(chi xóa trên bộ nhớ đệm, không phải bộ nhớ kia), Axis = nghĩa là xoa theo một cột, ví dụ (['ID','Name'],axis = 1)\n",
        "#dataframe.drop(['ID','Score'],axis = 1).head(10)\n",
        "#dataframe.drop(dataframe.columns[1:4],axis =1).head(10)\n",
        "\n",
        "#xoa dua tren tu khoa\n",
        "#dataframe[dataframe['khoa'] != 'ThoiTrang'].head(10) #xoa hàng chứa chữ Thoitrang\n",
        "#dataframe[dataframe['khoa'] != 3].head(20)\n",
        "#dataframe[dataframe.index != 4].head(10)\n",
        "\n",
        "#xoa nhung hang co gia tri trung lap\n",
        "#dataframe.drop_duplicates().head(10)\n",
        "\n",
        "#nhom cac gia tri trung lap voi nhau\n",
        "#dataframe.groupby('khoa').count()\n",
        "#dataframe.groupby(['khoa','Score']).count()\n",
        "#dataframe.groupby('khoa')['Score'].count()"
      ],
      "metadata": {
        "colab": {
          "base_uri": "https://localhost:8080/"
        },
        "id": "BiWY--8Fehga",
        "outputId": "ff0cd66f-46de-45a1-c46d-eccb41019496"
      },
      "execution_count": 69,
      "outputs": [
        {
          "output_type": "execute_result",
          "data": {
            "text/plain": [
              "khoa\n",
              "AmThuc       1\n",
              "BoiLoi       1\n",
              "CKM          1\n",
              "DaNgoai      1\n",
              "DanhBai      1\n",
              "DiAn         1\n",
              "DiChoi       1\n",
              "DiPhuot      1\n",
              "DongLuc      1\n",
              "DongVat      1\n",
              "Dulich       1\n",
              "NauAn        1\n",
              "NgoaiNgu     1\n",
              "Oto          1\n",
              "ThietKe      1\n",
              "ThoiTrang    2\n",
              "Ve           1\n",
              "XayDung      1\n",
              "XeMay        1\n",
              "Name: Score, dtype: int64"
            ]
          },
          "metadata": {},
          "execution_count": 69
        }
      ]
    },
    {
      "cell_type": "code",
      "source": [
        "import pandas as pd\n",
        "import numpy as np\n",
        "\n",
        "time_index = pd.date_range('01/01/2050', periods = 100000, freq = '30s') #30 giay lay mẫu 1 lần\n",
        "dataframe = pd.DataFrame(index = time_index)\n",
        "dataframe['Acess_amoun'] = np.random.randint(1,10,100000) #100000 lan lay mau\n",
        "dataframe.resample('W').sum() # W --> Week, M, 2W, 3W\n"
      ],
      "metadata": {
        "colab": {
          "base_uri": "https://localhost:8080/",
          "height": 237
        },
        "id": "ab2byYSUsrDq",
        "outputId": "0ab5b113-aa34-469c-9a20-329e61dab310"
      },
      "execution_count": 74,
      "outputs": [
        {
          "output_type": "execute_result",
          "data": {
            "text/plain": [
              "            Acess_amoun\n",
              "2050-01-02        28751\n",
              "2050-01-09       100250\n",
              "2050-01-16       100648\n",
              "2050-01-23       101351\n",
              "2050-01-30       101294\n",
              "2050-02-06        68173"
            ],
            "text/html": [
              "\n",
              "  <div id=\"df-9194f908-d4db-4d41-92d4-2552ffb60b6b\">\n",
              "    <div class=\"colab-df-container\">\n",
              "      <div>\n",
              "<style scoped>\n",
              "    .dataframe tbody tr th:only-of-type {\n",
              "        vertical-align: middle;\n",
              "    }\n",
              "\n",
              "    .dataframe tbody tr th {\n",
              "        vertical-align: top;\n",
              "    }\n",
              "\n",
              "    .dataframe thead th {\n",
              "        text-align: right;\n",
              "    }\n",
              "</style>\n",
              "<table border=\"1\" class=\"dataframe\">\n",
              "  <thead>\n",
              "    <tr style=\"text-align: right;\">\n",
              "      <th></th>\n",
              "      <th>Acess_amoun</th>\n",
              "    </tr>\n",
              "  </thead>\n",
              "  <tbody>\n",
              "    <tr>\n",
              "      <th>2050-01-02</th>\n",
              "      <td>28751</td>\n",
              "    </tr>\n",
              "    <tr>\n",
              "      <th>2050-01-09</th>\n",
              "      <td>100250</td>\n",
              "    </tr>\n",
              "    <tr>\n",
              "      <th>2050-01-16</th>\n",
              "      <td>100648</td>\n",
              "    </tr>\n",
              "    <tr>\n",
              "      <th>2050-01-23</th>\n",
              "      <td>101351</td>\n",
              "    </tr>\n",
              "    <tr>\n",
              "      <th>2050-01-30</th>\n",
              "      <td>101294</td>\n",
              "    </tr>\n",
              "    <tr>\n",
              "      <th>2050-02-06</th>\n",
              "      <td>68173</td>\n",
              "    </tr>\n",
              "  </tbody>\n",
              "</table>\n",
              "</div>\n",
              "      <button class=\"colab-df-convert\" onclick=\"convertToInteractive('df-9194f908-d4db-4d41-92d4-2552ffb60b6b')\"\n",
              "              title=\"Convert this dataframe to an interactive table.\"\n",
              "              style=\"display:none;\">\n",
              "        \n",
              "  <svg xmlns=\"http://www.w3.org/2000/svg\" height=\"24px\"viewBox=\"0 0 24 24\"\n",
              "       width=\"24px\">\n",
              "    <path d=\"M0 0h24v24H0V0z\" fill=\"none\"/>\n",
              "    <path d=\"M18.56 5.44l.94 2.06.94-2.06 2.06-.94-2.06-.94-.94-2.06-.94 2.06-2.06.94zm-11 1L8.5 8.5l.94-2.06 2.06-.94-2.06-.94L8.5 2.5l-.94 2.06-2.06.94zm10 10l.94 2.06.94-2.06 2.06-.94-2.06-.94-.94-2.06-.94 2.06-2.06.94z\"/><path d=\"M17.41 7.96l-1.37-1.37c-.4-.4-.92-.59-1.43-.59-.52 0-1.04.2-1.43.59L10.3 9.45l-7.72 7.72c-.78.78-.78 2.05 0 2.83L4 21.41c.39.39.9.59 1.41.59.51 0 1.02-.2 1.41-.59l7.78-7.78 2.81-2.81c.8-.78.8-2.07 0-2.86zM5.41 20L4 18.59l7.72-7.72 1.47 1.35L5.41 20z\"/>\n",
              "  </svg>\n",
              "      </button>\n",
              "      \n",
              "  <style>\n",
              "    .colab-df-container {\n",
              "      display:flex;\n",
              "      flex-wrap:wrap;\n",
              "      gap: 12px;\n",
              "    }\n",
              "\n",
              "    .colab-df-convert {\n",
              "      background-color: #E8F0FE;\n",
              "      border: none;\n",
              "      border-radius: 50%;\n",
              "      cursor: pointer;\n",
              "      display: none;\n",
              "      fill: #1967D2;\n",
              "      height: 32px;\n",
              "      padding: 0 0 0 0;\n",
              "      width: 32px;\n",
              "    }\n",
              "\n",
              "    .colab-df-convert:hover {\n",
              "      background-color: #E2EBFA;\n",
              "      box-shadow: 0px 1px 2px rgba(60, 64, 67, 0.3), 0px 1px 3px 1px rgba(60, 64, 67, 0.15);\n",
              "      fill: #174EA6;\n",
              "    }\n",
              "\n",
              "    [theme=dark] .colab-df-convert {\n",
              "      background-color: #3B4455;\n",
              "      fill: #D2E3FC;\n",
              "    }\n",
              "\n",
              "    [theme=dark] .colab-df-convert:hover {\n",
              "      background-color: #434B5C;\n",
              "      box-shadow: 0px 1px 3px 1px rgba(0, 0, 0, 0.15);\n",
              "      filter: drop-shadow(0px 1px 2px rgba(0, 0, 0, 0.3));\n",
              "      fill: #FFFFFF;\n",
              "    }\n",
              "  </style>\n",
              "\n",
              "      <script>\n",
              "        const buttonEl =\n",
              "          document.querySelector('#df-9194f908-d4db-4d41-92d4-2552ffb60b6b button.colab-df-convert');\n",
              "        buttonEl.style.display =\n",
              "          google.colab.kernel.accessAllowed ? 'block' : 'none';\n",
              "\n",
              "        async function convertToInteractive(key) {\n",
              "          const element = document.querySelector('#df-9194f908-d4db-4d41-92d4-2552ffb60b6b');\n",
              "          const dataTable =\n",
              "            await google.colab.kernel.invokeFunction('convertToInteractive',\n",
              "                                                     [key], {});\n",
              "          if (!dataTable) return;\n",
              "\n",
              "          const docLinkHtml = 'Like what you see? Visit the ' +\n",
              "            '<a target=\"_blank\" href=https://colab.research.google.com/notebooks/data_table.ipynb>data table notebook</a>'\n",
              "            + ' to learn more about interactive tables.';\n",
              "          element.innerHTML = '';\n",
              "          dataTable['output_type'] = 'display_data';\n",
              "          await google.colab.output.renderOutput(dataTable, element);\n",
              "          const docLink = document.createElement('div');\n",
              "          docLink.innerHTML = docLinkHtml;\n",
              "          element.appendChild(docLink);\n",
              "        }\n",
              "      </script>\n",
              "    </div>\n",
              "  </div>\n",
              "  "
            ]
          },
          "metadata": {},
          "execution_count": 74
        }
      ]
    },
    {
      "cell_type": "code",
      "source": [
        "import pandas as pd\n",
        "url = 'http//winterolympicsmedals.com/medals.csv'\n",
        "data = pd.read_csv(url)"
      ],
      "metadata": {
        "id": "WY0YMRxuz8Lh"
      },
      "execution_count": null,
      "outputs": []
    },
    {
      "cell_type": "code",
      "source": [],
      "metadata": {
        "id": "TR2EBSDchjVa"
      },
      "execution_count": null,
      "outputs": []
    }
  ]
}