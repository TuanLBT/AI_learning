{
  "nbformat": 4,
  "nbformat_minor": 0,
  "metadata": {
    "colab": {
      "provenance": [],
      "authorship_tag": "ABX9TyMVIgJo2O1f+nz7D3V1Xhkh",
      "include_colab_link": true
    },
    "kernelspec": {
      "name": "python3",
      "display_name": "Python 3"
    },
    "language_info": {
      "name": "python"
    }
  },
  "cells": [
    {
      "cell_type": "markdown",
      "metadata": {
        "id": "view-in-github",
        "colab_type": "text"
      },
      "source": [
        "<a href=\"https://colab.research.google.com/github/TuanLBT/AI_learning/blob/main/CNN.ipynb\" target=\"_parent\"><img src=\"https://colab.research.google.com/assets/colab-badge.svg\" alt=\"Open In Colab\"/></a>"
      ]
    },
    {
      "cell_type": "code",
      "execution_count": null,
      "metadata": {
        "id": "smqlzk6R3p5l"
      },
      "outputs": [],
      "source": [
        "from keras.datasets import fashion_mnist"
      ]
    },
    {
      "cell_type": "code",
      "source": [
        "(train_x,train_y), (test_x,test_y) = fashion_mnist.load_data()"
      ],
      "metadata": {
        "id": "h7z-8b3W4IOR"
      },
      "execution_count": null,
      "outputs": []
    },
    {
      "cell_type": "code",
      "source": [
        "train_x.shape"
      ],
      "metadata": {
        "colab": {
          "base_uri": "https://localhost:8080/"
        },
        "id": "-XRc07EN4MgR",
        "outputId": "5b61debf-0429-4677-87f5-090fdea27741"
      },
      "execution_count": null,
      "outputs": [
        {
          "output_type": "execute_result",
          "data": {
            "text/plain": [
              "(60000, 28, 28)"
            ]
          },
          "metadata": {},
          "execution_count": 50
        }
      ]
    },
    {
      "cell_type": "code",
      "source": [
        "train_y.shape"
      ],
      "metadata": {
        "colab": {
          "base_uri": "https://localhost:8080/"
        },
        "id": "kTny-F9I4apw",
        "outputId": "3d4f09d0-da7d-4e35-ca7b-72c66514fdd5"
      },
      "execution_count": null,
      "outputs": [
        {
          "output_type": "execute_result",
          "data": {
            "text/plain": [
              "(60000,)"
            ]
          },
          "metadata": {},
          "execution_count": 51
        }
      ]
    },
    {
      "cell_type": "code",
      "source": [
        "test_x.shape"
      ],
      "metadata": {
        "colab": {
          "base_uri": "https://localhost:8080/"
        },
        "id": "t2hAa5cL46OX",
        "outputId": "be32c077-b3b7-4141-e24d-698e32acc575"
      },
      "execution_count": null,
      "outputs": [
        {
          "output_type": "execute_result",
          "data": {
            "text/plain": [
              "(10000, 28, 28)"
            ]
          },
          "metadata": {},
          "execution_count": 52
        }
      ]
    },
    {
      "cell_type": "code",
      "source": [
        "test_y.shape"
      ],
      "metadata": {
        "colab": {
          "base_uri": "https://localhost:8080/"
        },
        "id": "JrOdmoK9491A",
        "outputId": "39ca4e02-f347-4a65-f986-f29f34cf3c6d"
      },
      "execution_count": null,
      "outputs": [
        {
          "output_type": "execute_result",
          "data": {
            "text/plain": [
              "(10000,)"
            ]
          },
          "metadata": {},
          "execution_count": 53
        }
      ]
    },
    {
      "cell_type": "code",
      "source": [
        "import matplotlib.pyplot as plt\n",
        "plt.figure(figsize=[10,10])\n",
        "plt.subplot(121)\n",
        "plt.imshow(train_x[0],cmap='gray') #[0]:hien thi tat ca\n",
        "plt.title('So :{}'.format(train_y[0]))\n",
        "plt.subplot(122)\n",
        "plt.imshow(train_x[100],cmap='gray')\n",
        "plt.title('So:{}'.format(train_y[100]))"
      ],
      "metadata": {
        "colab": {
          "base_uri": "https://localhost:8080/",
          "height": 452
        },
        "id": "lnh9_U564e8v",
        "outputId": "2d131043-1fb5-48c3-c37f-5ce4df601459"
      },
      "execution_count": null,
      "outputs": [
        {
          "output_type": "execute_result",
          "data": {
            "text/plain": [
              "Text(0.5, 1.0, 'So:8')"
            ]
          },
          "metadata": {},
          "execution_count": 54
        },
        {
          "output_type": "display_data",
          "data": {
            "text/plain": [
              "<Figure size 1000x1000 with 2 Axes>"
            ],
            "image/png": "[encoded data removed]"
          },
          "metadata": {}
        }
      ]
    },
    {
      "cell_type": "markdown",
      "source": [
        "reshape lai 60000 anh va 10000 anh"
      ],
      "metadata": {
        "id": "hskuEsvk5t6u"
      }
    },
    {
      "cell_type": "code",
      "source": [
        "train_x = train_x.reshape(60000,28,28,1)\n",
        "test_x = test_x.reshape(10000,28,28,1)\n"
      ],
      "metadata": {
        "id": "jcPTy1e45pYe"
      },
      "execution_count": null,
      "outputs": []
    },
    {
      "cell_type": "code",
      "source": [
        "train_x.shape"
      ],
      "metadata": {
        "colab": {
          "base_uri": "https://localhost:8080/"
        },
        "id": "-DpSg2Qu6Eq_",
        "outputId": "2247bb9b-414a-4da2-a570-5c54a7991d0c"
      },
      "execution_count": null,
      "outputs": [
        {
          "output_type": "execute_result",
          "data": {
            "text/plain": [
              "(60000, 28, 28, 1)"
            ]
          },
          "metadata": {},
          "execution_count": 56
        }
      ]
    },
    {
      "cell_type": "code",
      "source": [
        "test_x.shape"
      ],
      "metadata": {
        "colab": {
          "base_uri": "https://localhost:8080/"
        },
        "id": "9YXeerH86GS3",
        "outputId": "07b07e50-b251-4ff1-ffed-c0c3e108b0b9"
      },
      "execution_count": null,
      "outputs": [
        {
          "output_type": "execute_result",
          "data": {
            "text/plain": [
              "(10000, 28, 28, 1)"
            ]
          },
          "metadata": {},
          "execution_count": 57
        }
      ]
    },
    {
      "cell_type": "markdown",
      "source": [],
      "metadata": {
        "id": "DpLpY1IA6MBH"
      }
    },
    {
      "cell_type": "code",
      "source": [
        "train_x = train_x.astype('float32')\n",
        "train_x = train_x/255"
      ],
      "metadata": {
        "id": "Vq66CB7S6MQv"
      },
      "execution_count": null,
      "outputs": []
    },
    {
      "cell_type": "code",
      "source": [
        "test_x = test_x.astype('float32')\n",
        "test_x = test_x/255"
      ],
      "metadata": {
        "id": "LeUK0YCj6l-s"
      },
      "execution_count": null,
      "outputs": []
    },
    {
      "cell_type": "code",
      "source": [
        "from keras.utils import to_categorical\n",
        "y_train = to_categorical(train_y)\n",
        "y_test = to_categorical(test_y)"
      ],
      "metadata": {
        "id": "78O0Sdrl6ulP"
      },
      "execution_count": null,
      "outputs": []
    },
    {
      "cell_type": "markdown",
      "source": [
        "tao mo hinh"
      ],
      "metadata": {
        "id": "5LMba1ar7nkQ"
      }
    },
    {
      "cell_type": "code",
      "source": [
        "from keras import Sequential,Model,Input\n",
        "from keras.layers import Dense,Flatten,Dropout, Conv2D, MaxPooling2D,Normalization\n",
        "from keras.optimizers import Adam"
      ],
      "metadata": {
        "id": "-3JUW_s47mg_"
      },
      "execution_count": null,
      "outputs": []
    },
    {
      "cell_type": "code",
      "source": [
        "batch_size = 64\n",
        "epochs = 20\n",
        "classes = 10"
      ],
      "metadata": {
        "id": "VliQ80ps8odw"
      },
      "execution_count": null,
      "outputs": []
    },
    {
      "cell_type": "code",
      "source": [
        "model = Sequential()\n",
        "model.add(Conv2D(32,kernel_size=(3,3),activation='linear',input_shape=(28,28,1),padding='same'))  #Conv2D(so lan nhan tich chap,kichthuoc boloc)"
      ],
      "metadata": {
        "id": "bSD5mCzk9Q3_"
      },
      "execution_count": null,
      "outputs": []
    },
    {
      "cell_type": "code",
      "source": [
        "from keras.layers import LeakyReLU\n",
        "model.add(LeakyReLU(alpha=0.1))\n",
        "model.add(MaxPooling2D((2,2),padding='same'))\n",
        "\n",
        "\n",
        "model.add(Conv2D(64,(3,3),activation='linear',padding='same'))\n",
        "model.add(LeakyReLU(alpha=0.1))\n",
        "model.add(MaxPooling2D((2,2),padding='same'))\n",
        "\n",
        "model.add(Conv2D(128,(3,3),activation='linear',padding='same'))\n",
        "model.add(LeakyReLU(alpha=0.1))\n",
        "model.add(MaxPooling2D((2,2),padding='same'))"
      ],
      "metadata": {
        "id": "EmL17U-W96Qh"
      },
      "execution_count": null,
      "outputs": []
    },
    {
      "cell_type": "markdown",
      "source": [
        "dua vao bo CNN"
      ],
      "metadata": {
        "id": "igEn3WiZAAe9"
      }
    },
    {
      "cell_type": "code",
      "source": [
        "model.add(Flatten()) #Tự động lấy ảnh thành 1 cái vector, vì sau khi nhân tích chập ta ko biết kích thước ntn\n",
        "#sau đó đưa vector đó qua một mạng đã học là mạng ANN, để quyết định phân loại nó là loại gì \n"
      ],
      "metadata": {
        "id": "DJuT3c2HADd0"
      },
      "execution_count": null,
      "outputs": []
    },
    {
      "cell_type": "markdown",
      "source": [
        "mang ANN de phan loai"
      ],
      "metadata": {
        "id": "orWyPt8QAvl9"
      }
    },
    {
      "cell_type": "code",
      "source": [
        "model.add(Dense(128,activation='linear'))\n",
        "model.add(LeakyReLU(alpha=0.1))\n",
        "model.add(Dense(classes,activation='softmax'))"
      ],
      "metadata": {
        "id": "JdH6nM7eAuyc"
      },
      "execution_count": null,
      "outputs": []
    },
    {
      "cell_type": "code",
      "source": [
        "from keras.backend import categorical_crossentropy\n",
        "model.compile(loss='categorical_crossentropy', optimizer=Adam(),metrics =['accuracy'])"
      ],
      "metadata": {
        "id": "jgQIi7da7LPv"
      },
      "execution_count": null,
      "outputs": []
    },
    {
      "cell_type": "code",
      "source": [
        "train = model.fit(train_x,y_train,batch_size=batch_size,epochs=epochs,verbose=1)"
      ],
      "metadata": {
        "colab": {
          "base_uri": "https://localhost:8080/"
        },
        "id": "J8GvgeKaB2zH",
        "outputId": "cd376b03-5dfc-4a95-f95f-7e5be6e3974d"
      },
      "execution_count": null,
      "outputs": [
        {
          "output_type": "stream",
          "name": "stdout",
          "text": [
            "Epoch 1/20\n",
            "938/938 [==============================] - 120s 127ms/step - loss: 0.4461 - accuracy: 0.8367\n",
            "Epoch 2/20\n",
            "938/938 [==============================] - 118s 126ms/step - loss: 0.2754 - accuracy: 0.8994\n",
            "Epoch 3/20\n",
            "938/938 [==============================] - 114s 122ms/step - loss: 0.2286 - accuracy: 0.9158\n",
            "Epoch 4/20\n",
            "938/938 [==============================] - 116s 124ms/step - loss: 0.1965 - accuracy: 0.9273\n",
            "Epoch 5/20\n",
            "938/938 [==============================] - 116s 123ms/step - loss: 0.1716 - accuracy: 0.9360\n",
            "Epoch 6/20\n",
            "938/938 [==============================] - 117s 125ms/step - loss: 0.1489 - accuracy: 0.9452\n",
            "Epoch 7/20\n",
            "938/938 [==============================] - 119s 127ms/step - loss: 0.1291 - accuracy: 0.9510\n",
            "Epoch 8/20\n",
            "938/938 [==============================] - 117s 125ms/step - loss: 0.1120 - accuracy: 0.9581\n",
            "Epoch 9/20\n",
            "938/938 [==============================] - 117s 124ms/step - loss: 0.0924 - accuracy: 0.9646\n",
            "Epoch 10/20\n",
            "938/938 [==============================] - 116s 124ms/step - loss: 0.0786 - accuracy: 0.9707\n",
            "Epoch 11/20\n",
            "938/938 [==============================] - 117s 124ms/step - loss: 0.0681 - accuracy: 0.9744\n",
            "Epoch 12/20\n",
            "938/938 [==============================] - 116s 123ms/step - loss: 0.0598 - accuracy: 0.9777\n",
            "Epoch 13/20\n",
            "938/938 [==============================] - 117s 124ms/step - loss: 0.0524 - accuracy: 0.9803\n",
            "Epoch 14/20\n",
            "938/938 [==============================] - 116s 124ms/step - loss: 0.0466 - accuracy: 0.9822\n",
            "Epoch 15/20\n",
            "938/938 [==============================] - 117s 124ms/step - loss: 0.0435 - accuracy: 0.9839\n",
            "Epoch 16/20\n",
            "938/938 [==============================] - 116s 124ms/step - loss: 0.0385 - accuracy: 0.9858\n",
            "Epoch 17/20\n",
            "938/938 [==============================] - 117s 125ms/step - loss: 0.0332 - accuracy: 0.9877\n",
            "Epoch 18/20\n",
            "938/938 [==============================] - 116s 123ms/step - loss: 0.0318 - accuracy: 0.9880\n",
            "Epoch 19/20\n",
            "938/938 [==============================] - 116s 124ms/step - loss: 0.0310 - accuracy: 0.9886\n",
            "Epoch 20/20\n",
            "938/938 [==============================] - 116s 123ms/step - loss: 0.0329 - accuracy: 0.9884\n"
          ]
        }
      ]
    },
    {
      "cell_type": "code",
      "source": [
        "model.save('/content/drive/MyDrive/CNN.h5')"
      ],
      "metadata": {
        "id": "7yIghRG2KDJm"
      },
      "execution_count": null,
      "outputs": []
    },
    {
      "cell_type": "code",
      "source": [
        "eval = model.evaluate(test_x,y_test,verbose=0)\n",
        "print('test loss:',eval[0])\n",
        "print('test accuracy:',eval[1])\n",
        "\n"
      ],
      "metadata": {
        "colab": {
          "base_uri": "https://localhost:8080/"
        },
        "id": "HG_cVxYtPRQt",
        "outputId": "e7d11dcb-985b-456e-de69-c3ad2fbff467"
      },
      "execution_count": null,
      "outputs": [
        {
          "output_type": "stream",
          "name": "stdout",
          "text": [
            "test loss: 0.4174403250217438\n",
            "test accuracy: 0.9214000105857849\n"
          ]
        }
      ]
    },
    {
      "cell_type": "code",
      "source": [
        "accuracy = train.history['accuracy']\n",
        "val_accuracy=train.history['loss']\n",
        "epochs = range(len(accuracy))\n",
        "plt.plot(epochs,accuracy,'bo',label='Training Accurracy')\n",
        "plt.plot(epochs,val_accuracy,'b',label='Test Accuracy')\n",
        "plt.title('Training and Testing Accuracy')\n"
      ],
      "metadata": {
        "colab": {
          "base_uri": "https://localhost:8080/",
          "height": 469
        },
        "id": "pwl77TJ5P_Nx",
        "outputId": "f96c14be-aca9-43ed-d1c7-4f774ec5c78d"
      },
      "execution_count": null,
      "outputs": [
        {
          "output_type": "execute_result",
          "data": {
            "text/plain": [
              "Text(0.5, 1.0, 'Training and Testing Accuracy')"
            ]
          },
          "metadata": {},
          "execution_count": 81
        },
        {
          "output_type": "display_data",
          "data": {
            "text/plain": [
              "<Figure size 640x480 with 1 Axes>"
            ],
            "image/png": "[encoded data removed]"
          },
          "metadata": {}
        }
      ]
    }
  ]
}