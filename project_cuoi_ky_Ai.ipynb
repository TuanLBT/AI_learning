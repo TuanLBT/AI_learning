{
  "nbformat": 4,
  "nbformat_minor": 0,
  "metadata": {
    "colab": {
      "provenance": [],
      "gpuType": "T4",
      "mount_file_id": "1FOu3qhZ_hRNuhRFJZ3RFmuor5P8cG19N",
      "authorship_tag": "ABX9TyOUoW8yVEhWqExY+mSOHm+t",
      "include_colab_link": true
    },
    "kernelspec": {
      "name": "python3",
      "display_name": "Python 3"
    },
    "language_info": {
      "name": "python"
    },
    "accelerator": "GPU",
    "gpuClass": "standard"
  },
  "cells": [
    {
      "cell_type": "markdown",
      "metadata": {
        "id": "view-in-github",
        "colab_type": "text"
      },
      "source": [
        "<a href=\"https://colab.research.google.com/github/TuanLBT/AI_learning/blob/main/project_cuoi_ky_Ai.ipynb\" target=\"_parent\"><img src=\"https://colab.research.google.com/assets/colab-badge.svg\" alt=\"Open In Colab\"/></a>"
      ]
    },
    {
      "cell_type": "markdown",
      "source": [
        "Tạo set data (chưa split)"
      ],
      "metadata": {
        "id": "K1r_dNuDtQRG"
      }
    },
    {
      "cell_type": "code",
      "execution_count": null,
      "metadata": {
        "id": "SVgnsIbsHpEV"
      },
      "outputs": [],
      "source": [
        "from os import listdir\n",
        "from numpy import asarray\n",
        "from numpy import save\n",
        "from keras.utils.image_utils import img_to_array\n",
        "from keras.utils import load_img"
      ]
    },
    {
      "cell_type": "code",
      "source": [
        "folder='/content/drive/MyDrive/tonghop_cloth/'"
      ],
      "metadata": {
        "id": "Nzgt6HZGI2jY"
      },
      "execution_count": null,
      "outputs": []
    },
    {
      "cell_type": "code",
      "source": [
        "\n",
        "photos,labels = list(),list()\n",
        "for file in listdir(folder):\n",
        "  output = 0.0\n",
        "  if file.startswith('glove'):\n",
        "    output=1.0\n",
        "  if file.startswith('hat'):\n",
        "    output=2.0\n",
        "  if file.startswith('pant'):\n",
        "    output=3.0\n",
        "  if file.startswith('shirt'):\n",
        "    output=4.0\n",
        "  if file.startswith('watch'):\n",
        "    output= 5.0\n",
        "  photo = load_img(folder+file,target_size=(100,100))\n",
        "  photo = img_to_array(photo)\n",
        "  photos.append(photo)\n",
        "  labels.append(output)\n"
      ],
      "metadata": {
        "id": "D-y1Ca_9I9NP"
      },
      "execution_count": null,
      "outputs": []
    },
    {
      "cell_type": "code",
      "source": [
        "photos = asarray(photos)\n",
        "labels = asarray(labels)\n",
        "save('/content/drive/MyDrive/cloth_photo.npy',photos)\n",
        "save('/content/drive/MyDrive/cloth_label.npy',labels)"
      ],
      "metadata": {
        "id": "RDRBzahFMlZZ"
      },
      "execution_count": null,
      "outputs": []
    },
    {
      "cell_type": "code",
      "source": [
        "photos.shape"
      ],
      "metadata": {
        "colab": {
          "base_uri": "https://localhost:8080/"
        },
        "id": "tdlxj0FwtrHW",
        "outputId": "86656e16-7865-491f-95c4-82edf50a671f"
      },
      "execution_count": null,
      "outputs": [
        {
          "output_type": "execute_result",
          "data": {
            "text/plain": [
              "(727, 100, 100, 3)"
            ]
          },
          "metadata": {},
          "execution_count": 5
        }
      ]
    },
    {
      "cell_type": "code",
      "source": [
        "labels.shape"
      ],
      "metadata": {
        "id": "qW5oBRWltyyO",
        "outputId": "e6dc7103-c2f7-42ed-8581-074109b17a3a",
        "colab": {
          "base_uri": "https://localhost:8080/"
        }
      },
      "execution_count": null,
      "outputs": [
        {
          "output_type": "execute_result",
          "data": {
            "text/plain": [
              "(727,)"
            ]
          },
          "metadata": {},
          "execution_count": 6
        }
      ]
    },
    {
      "cell_type": "markdown",
      "source": [
        "split data thành 70% train, 30% test"
      ],
      "metadata": {
        "id": "EbOrabFFONmq"
      }
    },
    {
      "cell_type": "code",
      "source": [
        "from sklearn.model_selection import train_test_split"
      ],
      "metadata": {
        "id": "9NLMtinNJI8V"
      },
      "execution_count": null,
      "outputs": []
    },
    {
      "cell_type": "code",
      "source": [
        "train_x, test_x, train_y,  test_y = train_test_split(photos,labels, test_size=0.5, train_size=0.5)\n",
        "#test_x, test_y = train_test_split(photos,labels, test_size=0.3)"
      ],
      "metadata": {
        "id": "kx--CED_JMyd"
      },
      "execution_count": null,
      "outputs": []
    },
    {
      "cell_type": "code",
      "source": [
        "train_x.shape"
      ],
      "metadata": {
        "colab": {
          "base_uri": "https://localhost:8080/"
        },
        "id": "pExn-uhYOCD8",
        "outputId": "a8977745-92c8-490c-e9c5-53fbb58e85af"
      },
      "execution_count": null,
      "outputs": [
        {
          "output_type": "execute_result",
          "data": {
            "text/plain": [
              "(363, 100, 100, 3)"
            ]
          },
          "metadata": {},
          "execution_count": 9
        }
      ]
    },
    {
      "cell_type": "code",
      "source": [
        "test_x.shape"
      ],
      "metadata": {
        "colab": {
          "base_uri": "https://localhost:8080/"
        },
        "id": "6tAIHXolOGBp",
        "outputId": "007cc8cf-9f96-4d82-b5d1-c47dfc5de794"
      },
      "execution_count": null,
      "outputs": [
        {
          "output_type": "execute_result",
          "data": {
            "text/plain": [
              "(364, 100, 100, 3)"
            ]
          },
          "metadata": {},
          "execution_count": 10
        }
      ]
    },
    {
      "cell_type": "markdown",
      "source": [
        "scale lại data"
      ],
      "metadata": {
        "id": "fwvDrbndOStr"
      }
    },
    {
      "cell_type": "code",
      "source": [
        "#train_x = train_x.reshape([866,100,100,3])\n",
        "train_x = train_x.astype('float32')\n",
        "train_x = train_x/255"
      ],
      "metadata": {
        "id": "hz2YPqf_OWXT"
      },
      "execution_count": null,
      "outputs": []
    },
    {
      "cell_type": "code",
      "source": [
        "#test_x = test_x.reshape([217,100,100,3])\n",
        "test_x = test_x.astype('float32')\n",
        "test_x = test_x/255"
      ],
      "metadata": {
        "id": "8VDXTIw7OaZC"
      },
      "execution_count": null,
      "outputs": []
    },
    {
      "cell_type": "code",
      "source": [
        "from keras.utils import to_categorical\n",
        "y_train = to_categorical(train_y) #hot encoding\n",
        "y_test = to_categorical(test_y)"
      ],
      "metadata": {
        "id": "FlQmIW8ePkhL"
      },
      "execution_count": null,
      "outputs": []
    },
    {
      "cell_type": "code",
      "source": [
        "train_x.shape"
      ],
      "metadata": {
        "colab": {
          "base_uri": "https://localhost:8080/"
        },
        "id": "1gJ9fXuDTBn9",
        "outputId": "a5b1e9ff-25f5-4d25-feba-8db8c661d3e7"
      },
      "execution_count": null,
      "outputs": [
        {
          "output_type": "execute_result",
          "data": {
            "text/plain": [
              "(363, 100, 100, 3)"
            ]
          },
          "metadata": {},
          "execution_count": 14
        }
      ]
    },
    {
      "cell_type": "code",
      "source": [
        "y_train.shape"
      ],
      "metadata": {
        "colab": {
          "base_uri": "https://localhost:8080/"
        },
        "id": "_PdikE-aTE_7",
        "outputId": "fb25d366-a8f5-4677-8b1b-6c2545def779"
      },
      "execution_count": null,
      "outputs": [
        {
          "output_type": "execute_result",
          "data": {
            "text/plain": [
              "(363, 6)"
            ]
          },
          "metadata": {},
          "execution_count": 15
        }
      ]
    },
    {
      "cell_type": "markdown",
      "source": [
        "tạo mô hình CNN"
      ],
      "metadata": {
        "id": "jNa2fSJPOdPq"
      }
    },
    {
      "cell_type": "code",
      "source": [
        "from keras import Sequential,Model,Input\n",
        "from keras.layers import Dense,Flatten,Dropout, Conv2D, MaxPooling2D,Normalization\n",
        "from keras.optimizers import Adam"
      ],
      "metadata": {
        "id": "mHcJNJgSOt9r"
      },
      "execution_count": null,
      "outputs": []
    },
    {
      "cell_type": "code",
      "source": [
        "batch_size = 100\n",
        "epochs = 10\n",
        "classes = 6"
      ],
      "metadata": {
        "id": "7drewKnhOw6T"
      },
      "execution_count": null,
      "outputs": []
    },
    {
      "cell_type": "code",
      "source": [
        "model = Sequential()\n",
        "model.add(Conv2D(32,kernel_size=(3,3),activation='linear',input_shape=(100,100,3),padding='same'))"
      ],
      "metadata": {
        "id": "Od6yhEvDO03q"
      },
      "execution_count": null,
      "outputs": []
    },
    {
      "cell_type": "code",
      "source": [
        "from keras.layers import LeakyReLU\n",
        "model.add(LeakyReLU(alpha=0.1))\n",
        "model.add(MaxPooling2D((2,2),padding='same'))\n",
        "\n",
        "model.add(Conv2D(64,(3,3),activation='linear',padding='same'))\n",
        "model.add(LeakyReLU(alpha=0.1))\n",
        "model.add(MaxPooling2D((2,2),padding='same'))\n",
        "\n",
        "model.add(Conv2D(128,(3,3),activation='linear',padding='same'))\n",
        "model.add(LeakyReLU(alpha=0.1))\n",
        "model.add(MaxPooling2D((2,2),padding='same'))"
      ],
      "metadata": {
        "id": "zBqNVniHO9Ji"
      },
      "execution_count": null,
      "outputs": []
    },
    {
      "cell_type": "code",
      "source": [
        "model.add(Flatten())"
      ],
      "metadata": {
        "id": "vE6RvPrOPZwT"
      },
      "execution_count": null,
      "outputs": []
    },
    {
      "cell_type": "markdown",
      "source": [
        "ANN\n"
      ],
      "metadata": {
        "id": "ePkPPyueO2zp"
      }
    },
    {
      "cell_type": "code",
      "source": [
        "model.add(Dense(300,activation='linear'))\n",
        "model.add(Dropout(0.5))\n",
        "model.add(Dense(classes,activation='softmax'))\n"
      ],
      "metadata": {
        "id": "KHE_GV4NPa-i"
      },
      "execution_count": null,
      "outputs": []
    },
    {
      "cell_type": "code",
      "source": [
        "model.summary()"
      ],
      "metadata": {
        "colab": {
          "base_uri": "https://localhost:8080/"
        },
        "id": "ZDOpoRWU09K_",
        "outputId": "dc9f0b4e-0164-4950-96df-487a0d5ff3ca"
      },
      "execution_count": null,
      "outputs": [
        {
          "output_type": "stream",
          "name": "stdout",
          "text": [
            "Model: \"sequential\"\n",
            "_________________________________________________________________\n",
            " Layer (type)                Output Shape              Param #   \n",
            "=================================================================\n",
            " conv2d (Conv2D)             (None, 100, 100, 32)      896       \n",
            "                                                                 \n",
            " leaky_re_lu (LeakyReLU)     (None, 100, 100, 32)      0         \n",
            "                                                                 \n",
            " max_pooling2d (MaxPooling2D  (None, 50, 50, 32)       0         \n",
            " )                                                               \n",
            "                                                                 \n",
            " conv2d_1 (Conv2D)           (None, 50, 50, 64)        18496     \n",
            "                                                                 \n",
            " leaky_re_lu_1 (LeakyReLU)   (None, 50, 50, 64)        0         \n",
            "                                                                 \n",
            " max_pooling2d_1 (MaxPooling  (None, 25, 25, 64)       0         \n",
            " 2D)                                                             \n",
            "                                                                 \n",
            " conv2d_2 (Conv2D)           (None, 25, 25, 128)       73856     \n",
            "                                                                 \n",
            " leaky_re_lu_2 (LeakyReLU)   (None, 25, 25, 128)       0         \n",
            "                                                                 \n",
            " max_pooling2d_2 (MaxPooling  (None, 13, 13, 128)      0         \n",
            " 2D)                                                             \n",
            "                                                                 \n",
            " flatten (Flatten)           (None, 21632)             0         \n",
            "                                                                 \n",
            " dense (Dense)               (None, 300)               6489900   \n",
            "                                                                 \n",
            " dropout (Dropout)           (None, 300)               0         \n",
            "                                                                 \n",
            " dense_1 (Dense)             (None, 6)                 1806      \n",
            "                                                                 \n",
            "=================================================================\n",
            "Total params: 6,584,954\n",
            "Trainable params: 6,584,954\n",
            "Non-trainable params: 0\n",
            "_________________________________________________________________\n"
          ]
        }
      ]
    },
    {
      "cell_type": "code",
      "source": [
        "from keras.backend import categorical_crossentropy\n",
        "model.compile(loss='categorical_crossentropy', optimizer=Adam(),metrics =['accuracy'])"
      ],
      "metadata": {
        "id": "OcazCLB6Pqki"
      },
      "execution_count": null,
      "outputs": []
    },
    {
      "cell_type": "code",
      "source": [
        "train = model.fit(train_x,y_train,batch_size=100,epochs=50,verbose=1)\n",
        "\n",
        "#IMPROVE THE DATASET\n",
        "# from keras.preprocessing.image import ImageDataGenerator\n",
        "# aug = ImageDataGenerator(rotation_range=20, zoom_range=0.2,\n",
        "#     rescale=1./255,\n",
        "# \twidth_shift_range=0.2,\n",
        "#     height_shift_range=0.2,\n",
        "# \thorizontal_flip=True,\n",
        "#     brightness_range=[0.2,1.5], fill_mode=\"nearest\",validation_split=0.3)\n",
        "\n",
        "# train = model.fit_generator(aug.flow(train_x, y_train, batch_size=100),\n",
        "#                                epochs=100,\n",
        "#                                validation_data=aug.flow(test_x,y_test,\n",
        "#                                batch_size=len(test_x)))\n",
        "test_loss, test_acc = model.evaluate(test_x, y_test)\n",
        "print(\"Accuracy:\", test_acc)\n",
        "print('Loss:', test_loss)"
      ],
      "metadata": {
        "colab": {
          "base_uri": "https://localhost:8080/"
        },
        "id": "xuYtGZW3Pt6a",
        "outputId": "f227d45c-8058-4072-d774-24c003c6dd1f"
      },
      "execution_count": null,
      "outputs": [
        {
          "output_type": "stream",
          "name": "stdout",
          "text": [
            "Epoch 1/50\n",
            "4/4 [==============================] - 10s 182ms/step - loss: 4.4660 - accuracy: 0.1901\n",
            "Epoch 2/50\n",
            "4/4 [==============================] - 0s 36ms/step - loss: 1.7189 - accuracy: 0.2893\n",
            "Epoch 3/50\n",
            "4/4 [==============================] - 0s 35ms/step - loss: 1.5422 - accuracy: 0.3085\n",
            "Epoch 4/50\n",
            "4/4 [==============================] - 0s 35ms/step - loss: 1.3850 - accuracy: 0.3471\n",
            "Epoch 5/50\n",
            "4/4 [==============================] - 0s 36ms/step - loss: 1.2260 - accuracy: 0.5455\n",
            "Epoch 6/50\n",
            "4/4 [==============================] - 0s 36ms/step - loss: 1.0350 - accuracy: 0.6061\n",
            "Epoch 7/50\n",
            "4/4 [==============================] - 0s 36ms/step - loss: 0.8369 - accuracy: 0.6997\n",
            "Epoch 8/50\n",
            "4/4 [==============================] - 0s 35ms/step - loss: 0.8523 - accuracy: 0.6749\n",
            "Epoch 9/50\n",
            "4/4 [==============================] - 0s 35ms/step - loss: 0.7197 - accuracy: 0.7107\n",
            "Epoch 10/50\n",
            "4/4 [==============================] - 0s 35ms/step - loss: 0.6653 - accuracy: 0.7355\n",
            "Epoch 11/50\n",
            "4/4 [==============================] - 0s 36ms/step - loss: 0.5814 - accuracy: 0.7934\n",
            "Epoch 12/50\n",
            "4/4 [==============================] - 0s 35ms/step - loss: 0.4573 - accuracy: 0.8237\n",
            "Epoch 13/50\n",
            "4/4 [==============================] - 0s 36ms/step - loss: 0.4440 - accuracy: 0.8127\n",
            "Epoch 14/50\n",
            "4/4 [==============================] - 0s 35ms/step - loss: 0.3909 - accuracy: 0.8320\n",
            "Epoch 15/50\n",
            "4/4 [==============================] - 0s 37ms/step - loss: 0.3798 - accuracy: 0.8512\n",
            "Epoch 16/50\n",
            "4/4 [==============================] - 0s 35ms/step - loss: 0.3244 - accuracy: 0.8898\n",
            "Epoch 17/50\n",
            "4/4 [==============================] - 0s 35ms/step - loss: 0.2487 - accuracy: 0.9256\n",
            "Epoch 18/50\n",
            "4/4 [==============================] - 0s 35ms/step - loss: 0.2100 - accuracy: 0.9339\n",
            "Epoch 19/50\n",
            "4/4 [==============================] - 0s 35ms/step - loss: 0.2165 - accuracy: 0.9421\n",
            "Epoch 20/50\n",
            "4/4 [==============================] - 0s 38ms/step - loss: 0.1985 - accuracy: 0.9394\n",
            "Epoch 21/50\n",
            "4/4 [==============================] - 0s 37ms/step - loss: 0.1698 - accuracy: 0.9614\n",
            "Epoch 22/50\n",
            "4/4 [==============================] - 0s 40ms/step - loss: 0.1491 - accuracy: 0.9559\n",
            "Epoch 23/50\n",
            "4/4 [==============================] - 0s 38ms/step - loss: 0.1274 - accuracy: 0.9614\n",
            "Epoch 24/50\n",
            "4/4 [==============================] - 0s 38ms/step - loss: 0.0889 - accuracy: 0.9725\n",
            "Epoch 25/50\n",
            "4/4 [==============================] - 0s 38ms/step - loss: 0.0796 - accuracy: 0.9780\n",
            "Epoch 26/50\n",
            "4/4 [==============================] - 0s 40ms/step - loss: 0.0737 - accuracy: 0.9697\n",
            "Epoch 27/50\n",
            "4/4 [==============================] - 0s 37ms/step - loss: 0.0628 - accuracy: 0.9835\n",
            "Epoch 28/50\n",
            "4/4 [==============================] - 0s 40ms/step - loss: 0.0540 - accuracy: 0.9890\n",
            "Epoch 29/50\n",
            "4/4 [==============================] - 0s 37ms/step - loss: 0.0406 - accuracy: 0.9972\n",
            "Epoch 30/50\n",
            "4/4 [==============================] - 0s 40ms/step - loss: 0.0347 - accuracy: 0.9917\n",
            "Epoch 31/50\n",
            "4/4 [==============================] - 0s 39ms/step - loss: 0.0333 - accuracy: 0.9972\n",
            "Epoch 32/50\n",
            "4/4 [==============================] - 0s 38ms/step - loss: 0.0306 - accuracy: 0.9945\n",
            "Epoch 33/50\n",
            "4/4 [==============================] - 0s 38ms/step - loss: 0.0270 - accuracy: 0.9917\n",
            "Epoch 34/50\n",
            "4/4 [==============================] - 0s 39ms/step - loss: 0.0246 - accuracy: 0.9972\n",
            "Epoch 35/50\n",
            "4/4 [==============================] - 0s 39ms/step - loss: 0.0174 - accuracy: 1.0000\n",
            "Epoch 36/50\n",
            "4/4 [==============================] - 0s 41ms/step - loss: 0.0203 - accuracy: 1.0000\n",
            "Epoch 37/50\n",
            "4/4 [==============================] - 0s 38ms/step - loss: 0.0140 - accuracy: 1.0000\n",
            "Epoch 38/50\n",
            "4/4 [==============================] - 0s 37ms/step - loss: 0.0162 - accuracy: 0.9972\n",
            "Epoch 39/50\n",
            "4/4 [==============================] - 0s 38ms/step - loss: 0.0298 - accuracy: 0.9945\n",
            "Epoch 40/50\n",
            "4/4 [==============================] - 0s 40ms/step - loss: 0.0265 - accuracy: 0.9917\n",
            "Epoch 41/50\n",
            "4/4 [==============================] - 0s 40ms/step - loss: 0.0300 - accuracy: 0.9890\n",
            "Epoch 42/50\n",
            "4/4 [==============================] - 0s 38ms/step - loss: 0.0153 - accuracy: 1.0000\n",
            "Epoch 43/50\n",
            "4/4 [==============================] - 0s 39ms/step - loss: 0.0135 - accuracy: 0.9972\n",
            "Epoch 44/50\n",
            "4/4 [==============================] - 0s 37ms/step - loss: 0.0118 - accuracy: 1.0000\n",
            "Epoch 45/50\n",
            "4/4 [==============================] - 0s 38ms/step - loss: 0.0104 - accuracy: 0.9972\n",
            "Epoch 46/50\n",
            "4/4 [==============================] - 0s 35ms/step - loss: 0.0075 - accuracy: 1.0000\n",
            "Epoch 47/50\n",
            "4/4 [==============================] - 0s 37ms/step - loss: 0.0085 - accuracy: 1.0000\n",
            "Epoch 48/50\n",
            "4/4 [==============================] - 0s 37ms/step - loss: 0.0044 - accuracy: 1.0000\n",
            "Epoch 49/50\n",
            "4/4 [==============================] - 0s 35ms/step - loss: 0.0075 - accuracy: 1.0000\n",
            "Epoch 50/50\n",
            "4/4 [==============================] - 0s 33ms/step - loss: 0.0047 - accuracy: 1.0000\n",
            "12/12 [==============================] - 1s 16ms/step - loss: 1.4411 - accuracy: 0.7308\n",
            "Accuracy: 0.7307692170143127\n",
            "Loss: 1.441135287284851\n"
          ]
        }
      ]
    },
    {
      "cell_type": "code",
      "source": [
        "import matplotlib.pyplot as plt\n",
        "accuracy = train.history['accuracy']\n",
        "loss = train.history['loss']\n",
        "epochs = range(len(accuracy))\n",
        "plt.plot(epochs, accuracy, 'bo', label = 'Training accuracy')\n",
        "plt.plot(epochs, loss, 'b', label = 'Traning loss')\n",
        "plt.show()"
      ],
      "metadata": {
        "colab": {
          "base_uri": "https://localhost:8080/",
          "height": 430
        },
        "id": "LhrQ2uWI6WG6",
        "outputId": "abb05b93-a1c8-435c-df3c-4b07c575df4d"
      },
      "execution_count": null,
      "outputs": [
        {
          "output_type": "display_data",
          "data": {
            "text/plain": [
              "<Figure size 640x480 with 1 Axes>"
            ],
            "image/png": "[encoded data removed]"
          },
          "metadata": {}
        }
      ]
    },
    {
      "cell_type": "code",
      "source": [
        "#model.save('/content/drive/MyDrive/cloth_detection.h5')"
      ],
      "metadata": {
        "id": "dr7DCF89Cw7K"
      },
      "execution_count": null,
      "outputs": []
    },
    {
      "cell_type": "code",
      "source": [
        "from keras.models import load_model\n",
        "model1 = load_model('/content/drive/MyDrive/cloth_detection.h5')"
      ],
      "metadata": {
        "id": "jpGWoWYnzKs7"
      },
      "execution_count": null,
      "outputs": []
    },
    {
      "cell_type": "code",
      "source": [
        "from keras.utils import load_img\n",
        "from keras.utils import img_to_array\n",
        "from pylab import *\n",
        "url = '/content/drive/MyDrive/cloth_test'\n",
        "for i in listdir(url):\n",
        "  img = load_img(url + '/' + i, target_size = (100,100))\n",
        "  imshow(img)\n",
        "  img = img_to_array(img)\n",
        "  img = img.reshape(1,100,100,3)\n",
        "  img = img.astype('float32')\n",
        "  img = img/255\n",
        "  a = model1.predict(img).argmax()\n",
        "  class_name = ['glove', 'hat', 'pant', 'shirt', 'watch']\n",
        "  print(class_name[a-1])\n",
        "  plt.show()"
      ],
      "metadata": {
        "id": "A6ai0bUFT4C7"
      },
      "execution_count": null,
      "outputs": []
    }
  ]
}